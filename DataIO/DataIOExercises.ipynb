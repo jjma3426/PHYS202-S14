{
 "metadata": {
  "name": "",
  "signature": "sha256:b522e66cc05dfcaa294c410785d78623c94e466048cb4403561cba8ac7195c70"
 },
 "nbformat": 3,
 "nbformat_minor": 0,
 "worksheets": [
  {
   "cells": [
    {
     "cell_type": "code",
     "collapsed": false,
     "input": [
      "%pylab inline\n",
      "import numpy as np"
     ],
     "language": "python",
     "metadata": {},
     "outputs": [
      {
       "output_type": "stream",
       "stream": "stdout",
       "text": [
        "Populating the interactive namespace from numpy and matplotlib\n"
       ]
      },
      {
       "output_type": "stream",
       "stream": "stderr",
       "text": [
        "WARNING: pylab import has clobbered these variables: ['f', 'random']\n",
        "`%matplotlib` prevents importing * from pylab and numpy\n"
       ]
      }
     ],
     "prompt_number": 52
    },
    {
     "cell_type": "code",
     "collapsed": false,
     "input": [
      "f = open('messy_data.dat', 'w')\n",
      "import random\n",
      "for i in range(100):\n",
      "    for j in range(5):\n",
      "        f.write(' ' * random.randint(0, 6))\n",
      "        f.write('%0*.*g' % (random.randint(8, 12),\n",
      "                            random.randint(5, 10),\n",
      "                            100 * random.random()))\n",
      "        if j != 4:\n",
      "            f.write(',')\n",
      "    f.write('\\n')\n",
      "f.close()"
     ],
     "language": "python",
     "metadata": {},
     "outputs": [],
     "prompt_number": 53
    },
    {
     "cell_type": "markdown",
     "metadata": {},
     "source": [
      "(a) Write a program that reads in the contents of \"messy_data.dat\" and extracts the numbers from each line, using the string manipulations we used in section 1 (remember that float() will convert a suitable string to a floating-point number)."
     ]
    },
    {
     "cell_type": "code",
     "collapsed": false,
     "input": [
      "contents = open('messy_data.dat').read()\n",
      "out = open('O.dat', 'w')\n",
      "out.write(contents.replace(' , ', ' '))\n",
      "out.close()\n",
      "\n",
      "n = []\n",
      "for l in open('O.dat'):\n",
      "    s = l.split()\n",
      "    for i in s:\n",
      "        n.append(float(i))\n",
      "print n"
     ],
     "language": "python",
     "metadata": {},
     "outputs": [
      {
       "ename": "ValueError",
       "evalue": "invalid literal for float(): 000019.55714,",
       "output_type": "pyerr",
       "traceback": [
        "\u001b[1;31m---------------------------------------------------------------------------\u001b[0m\n\u001b[1;31mValueError\u001b[0m                                Traceback (most recent call last)",
        "\u001b[1;32m<ipython-input-78-fe11edad37b1>\u001b[0m in \u001b[0;36m<module>\u001b[1;34m()\u001b[0m\n\u001b[0;32m      8\u001b[0m     \u001b[0ms\u001b[0m \u001b[1;33m=\u001b[0m \u001b[0ml\u001b[0m\u001b[1;33m.\u001b[0m\u001b[0msplit\u001b[0m\u001b[1;33m(\u001b[0m\u001b[1;33m)\u001b[0m\u001b[1;33m\u001b[0m\u001b[0m\n\u001b[0;32m      9\u001b[0m     \u001b[1;32mfor\u001b[0m \u001b[0mi\u001b[0m \u001b[1;32min\u001b[0m \u001b[0ms\u001b[0m\u001b[1;33m:\u001b[0m\u001b[1;33m\u001b[0m\u001b[0m\n\u001b[1;32m---> 10\u001b[1;33m         \u001b[0mn\u001b[0m\u001b[1;33m.\u001b[0m\u001b[0mappend\u001b[0m\u001b[1;33m(\u001b[0m\u001b[0mfloat\u001b[0m\u001b[1;33m(\u001b[0m\u001b[0mi\u001b[0m\u001b[1;33m)\u001b[0m\u001b[1;33m)\u001b[0m\u001b[1;33m\u001b[0m\u001b[0m\n\u001b[0m\u001b[0;32m     11\u001b[0m \u001b[1;32mprint\u001b[0m \u001b[0mn\u001b[0m\u001b[1;33m\u001b[0m\u001b[0m\n",
        "\u001b[1;31mValueError\u001b[0m: invalid literal for float(): 000019.55714,"
       ]
      }
     ],
     "prompt_number": 78
    },
    {
     "cell_type": "markdown",
     "metadata": {},
     "source": [
      "(b) Next write out a new file named \"clean_data.dat\". The new file should contain the same data as the old file, but with uniform formatting and aligned columns."
     ]
    },
    {
     "cell_type": "code",
     "collapsed": false,
     "input": [
      "arr1 = np.array(n)\n",
      "arr2 = arr1.reshape(5, 100)\n",
      "print arr2"
     ],
     "language": "python",
     "metadata": {},
     "outputs": [
      {
       "ename": "ValueError",
       "evalue": "total size of new array must be unchanged",
       "output_type": "pyerr",
       "traceback": [
        "\u001b[1;31m---------------------------------------------------------------------------\u001b[0m\n\u001b[1;31mValueError\u001b[0m                                Traceback (most recent call last)",
        "\u001b[1;32m<ipython-input-77-f6dcd56766bc>\u001b[0m in \u001b[0;36m<module>\u001b[1;34m()\u001b[0m\n\u001b[0;32m      1\u001b[0m \u001b[0marr1\u001b[0m \u001b[1;33m=\u001b[0m \u001b[0mnp\u001b[0m\u001b[1;33m.\u001b[0m\u001b[0marray\u001b[0m\u001b[1;33m(\u001b[0m\u001b[0mn\u001b[0m\u001b[1;33m)\u001b[0m\u001b[1;33m\u001b[0m\u001b[0m\n\u001b[1;32m----> 2\u001b[1;33m \u001b[0marr2\u001b[0m \u001b[1;33m=\u001b[0m \u001b[0marr1\u001b[0m\u001b[1;33m.\u001b[0m\u001b[0mreshape\u001b[0m\u001b[1;33m(\u001b[0m\u001b[1;36m5\u001b[0m\u001b[1;33m,\u001b[0m \u001b[1;36m100\u001b[0m\u001b[1;33m)\u001b[0m\u001b[1;33m\u001b[0m\u001b[0m\n\u001b[0m\u001b[0;32m      3\u001b[0m \u001b[1;32mprint\u001b[0m \u001b[0marr2\u001b[0m\u001b[1;33m\u001b[0m\u001b[0m\n",
        "\u001b[1;31mValueError\u001b[0m: total size of new array must be unchanged"
       ]
      }
     ],
     "prompt_number": 77
    },
    {
     "cell_type": "markdown",
     "metadata": {},
     "source": [
      "(c) Now re-do the same task using NumPy's loadtxt and savetxt functions."
     ]
    },
    {
     "cell_type": "code",
     "collapsed": false,
     "input": [
      "n = loadtxt('messy_data.dat', unpack=True, delimiter=',', usecols=[1,1])\n",
      "print n\n",
      "savetxt('clean_data.dat', n)"
     ],
     "language": "python",
     "metadata": {},
     "outputs": [
      {
       "output_type": "stream",
       "stream": "stdout",
       "text": [
        "[[ 62.51        11.836       69.87503019  84.0927      85.18484     58.4575\n",
        "   72.1847758   73.4799635   71.3958912   17.95786583  62.6155      78.3057\n",
        "   16.729       52.978823    77.14111     97.436       89.97663     22.67606\n",
        "   87.5428      60.99353     60.60594     86.528       41.213       75.962\n",
        "    9.57735     73.640799    27.1677      35.87624     67.474       39.30199\n",
        "   15.91509227  34.58753594  90.25        29.877938    86.1377522    4.0066\n",
        "   90.09513     87.27012     18.247       91.10812612  45.0386      48.969397\n",
        "   52.597       67.7131      36.2197      20.6846336   96.0808919   71.17506\n",
        "   94.80162863  85.7517554   48.91431483   3.464       15.7516675   74.9359\n",
        "   86.752       34.92760506   0.56268215  11.936       18.6919      73.33772\n",
        "   63.10323485   0.9436      64.447126    74.5806      90.0631      40.726\n",
        "   50.2492      14.2005608   44.77249733  10.871        8.73834554  38.392\n",
        "   79.48529     35.213       17.1729623   81.0964149   19.654       36.125\n",
        "   28.9073      44.44411     43.257       23.03492497   5.02269      0.8583091\n",
        "   32.4439374   69.6235      32.66063     40.5383209   73.34182264\n",
        "   79.61952     33.258        7.5415      22.75876795  43.46957     17.4106\n",
        "   92.25556015  31.1489858   46.73081     48.87195531  70.3404067 ]\n",
        " [ 62.51        11.836       69.87503019  84.0927      85.18484     58.4575\n",
        "   72.1847758   73.4799635   71.3958912   17.95786583  62.6155      78.3057\n",
        "   16.729       52.978823    77.14111     97.436       89.97663     22.67606\n",
        "   87.5428      60.99353     60.60594     86.528       41.213       75.962\n",
        "    9.57735     73.640799    27.1677      35.87624     67.474       39.30199\n",
        "   15.91509227  34.58753594  90.25        29.877938    86.1377522    4.0066\n",
        "   90.09513     87.27012     18.247       91.10812612  45.0386      48.969397\n",
        "   52.597       67.7131      36.2197      20.6846336   96.0808919   71.17506\n",
        "   94.80162863  85.7517554   48.91431483   3.464       15.7516675   74.9359\n",
        "   86.752       34.92760506   0.56268215  11.936       18.6919      73.33772\n",
        "   63.10323485   0.9436      64.447126    74.5806      90.0631      40.726\n",
        "   50.2492      14.2005608   44.77249733  10.871        8.73834554  38.392\n",
        "   79.48529     35.213       17.1729623   81.0964149   19.654       36.125\n",
        "   28.9073      44.44411     43.257       23.03492497   5.02269      0.8583091\n",
        "   32.4439374   69.6235      32.66063     40.5383209   73.34182264\n",
        "   79.61952     33.258        7.5415      22.75876795  43.46957     17.4106\n",
        "   92.25556015  31.1489858   46.73081     48.87195531  70.3404067 ]]\n"
       ]
      }
     ],
     "prompt_number": 72
    },
    {
     "cell_type": "code",
     "collapsed": false,
     "input": [],
     "language": "python",
     "metadata": {},
     "outputs": []
    }
   ],
   "metadata": {}
  }
 ]
}