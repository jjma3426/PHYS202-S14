{
 "metadata": {
  "name": "",
  "signature": "sha256:0581f278ffa1e334237bc9b446ba5a4c389c1f80010922a5210e870a3c55e8db"
 },
 "nbformat": 3,
 "nbformat_minor": 0,
 "worksheets": [
  {
   "cells": [
    {
     "cell_type": "code",
     "collapsed": false,
     "input": [
      "%pylab inline\n",
      "import numpy as np\n",
      "import matplotlib.pyplot as plt\n",
      "from PIL import Image\n",
      "import requests\n",
      "from StringIO import StringIO"
     ],
     "language": "python",
     "metadata": {},
     "outputs": [
      {
       "output_type": "stream",
       "stream": "stdout",
       "text": [
        "Populating the interactive namespace from numpy and matplotlib\n"
       ]
      }
     ],
     "prompt_number": 1
    },
    {
     "cell_type": "markdown",
     "metadata": {},
     "source": [
      "1) Modify the fill function so that it never looks at the same pixel twice. There are at least two ways to do this. Name your new function fastfill. The function prototype might look something like this:\n",
      "def fastfill(picture, xsize, ysize, xstart, ystart):\n",
      "    \"\"\"Faster fill algorithm that doesn't look at any pixel more than once.\"\"\"\n",
      "Be sure to include comments and add detail to the docstring to describe what it is doing"
     ]
    },
    {
     "cell_type": "code",
     "collapsed": false,
     "input": [
      "def fastfill(picture, xsize, ysize, xstart, ystart):\n",
      "    \"\"\"keep a list of pixels that need to be looked at, \n",
      "    but haven't yet been filled in - a list of the (x,y) \n",
      "    coordinates of pixels that are neighbors of ones we have \n",
      "    already examined.  Only look at neighbors if they haven't\n",
      "    yet been filled in.  Keep looping until there's nothing \n",
      "    left in this list.\n",
      "    Not much faster than fill\"\"\"\n",
      "    queue = [(xstart,ystart)]\n",
      "    while queue:\n",
      "        x,y,queue = queue[0][0], queue[0][1], queue[1:]\n",
      "        picture[x,y] = RED\n",
      "        if x > 0 and picture[x-1,y] == BLACK:\n",
      "            picture[x-1,y] = RED\n",
      "            queue.append((x-1,y))\n",
      "        if x < (xsize-1) and picture[x+1,y] == BLACK:\n",
      "            picture[x+1,y] = RED\n",
      "            queue.append((x+1,y))\n",
      "        if y > 0 and picture[x,y-1] == BLACK:\n",
      "            picture[x,y-1] = RED\n",
      "            queue.append((x, y-1))\n",
      "        if y < (ysize-1) and picture[x,y+1] == BLACK:\n",
      "            picture[x,y+1] = RED\n",
      "            queue.append((x, y+1))"
     ],
     "language": "python",
     "metadata": {},
     "outputs": [],
     "prompt_number": 2
    },
    {
     "cell_type": "markdown",
     "metadata": {},
     "source": [
      "2) Modify your count function to take another argument - which fill function to use - and compare the time it takes to count the stars using the original fill, your improved fastfill, and the recursive recfill."
     ]
    },
    {
     "cell_type": "code",
     "collapsed": false,
     "input": [
      "#Need to modify elapsed as well.  count already modified above\n",
      "def elapsed(func, fillfunc, picture):\n",
      "    \"\"\"takes a function and a picture as arguments, \n",
      "    applies the function to the picture, and returns \n",
      "    the elapsed time along with whatever the function \n",
      "    itself returned.\"\"\"    \n",
      "    start = time()\n",
      "    result = func(picture,fillfunc)\n",
      "    return time() - start, result"
     ],
     "language": "python",
     "metadata": {},
     "outputs": [],
     "prompt_number": 3
    },
    {
     "cell_type": "code",
     "collapsed": false,
     "input": [
      "picture = resetimg(imgnames[0],600)\n",
      "filltime = elapsed(count,fill,picture)\n",
      "\n",
      "picture = resetimg(imgnames[0],600)\n",
      "fastfilltime = elapsed(count,fastfill,picture)\n",
      "\n",
      "picture = resetimg(imgnames[0],600)\n",
      "recfilltime = elapsed(count,recfill,picture)\n",
      "\n",
      "print \"Fill: \",filltime\n",
      "print \"Fastfill: \",fastfilltime\n",
      "print \"Recfill: \",recfilltime\n",
      "print \"Max Time difference: \",max(filltime[0],fastfilltime[0],recfilltime[0]) - min(filltime[0],fastfilltime[0],recfilltime[0])"
     ],
     "language": "python",
     "metadata": {},
     "outputs": [
      {
       "ename": "NameError",
       "evalue": "name 'resetimg' is not defined",
       "output_type": "pyerr",
       "traceback": [
        "\u001b[1;31m---------------------------------------------------------------------------\u001b[0m\n\u001b[1;31mNameError\u001b[0m                                 Traceback (most recent call last)",
        "\u001b[1;32m<ipython-input-4-c74d650e2b1e>\u001b[0m in \u001b[0;36m<module>\u001b[1;34m()\u001b[0m\n\u001b[1;32m----> 1\u001b[1;33m \u001b[0mpicture\u001b[0m \u001b[1;33m=\u001b[0m \u001b[0mresetimg\u001b[0m\u001b[1;33m(\u001b[0m\u001b[0mimgnames\u001b[0m\u001b[1;33m[\u001b[0m\u001b[1;36m0\u001b[0m\u001b[1;33m]\u001b[0m\u001b[1;33m,\u001b[0m\u001b[1;36m600\u001b[0m\u001b[1;33m)\u001b[0m\u001b[1;33m\u001b[0m\u001b[0m\n\u001b[0m\u001b[0;32m      2\u001b[0m \u001b[0mfilltime\u001b[0m \u001b[1;33m=\u001b[0m \u001b[0melapsed\u001b[0m\u001b[1;33m(\u001b[0m\u001b[0mcount\u001b[0m\u001b[1;33m,\u001b[0m\u001b[0mfill\u001b[0m\u001b[1;33m,\u001b[0m\u001b[0mpicture\u001b[0m\u001b[1;33m)\u001b[0m\u001b[1;33m\u001b[0m\u001b[0m\n\u001b[0;32m      3\u001b[0m \u001b[1;33m\u001b[0m\u001b[0m\n\u001b[0;32m      4\u001b[0m \u001b[0mpicture\u001b[0m \u001b[1;33m=\u001b[0m \u001b[0mresetimg\u001b[0m\u001b[1;33m(\u001b[0m\u001b[0mimgnames\u001b[0m\u001b[1;33m[\u001b[0m\u001b[1;36m0\u001b[0m\u001b[1;33m]\u001b[0m\u001b[1;33m,\u001b[0m\u001b[1;36m600\u001b[0m\u001b[1;33m)\u001b[0m\u001b[1;33m\u001b[0m\u001b[0m\n\u001b[0;32m      5\u001b[0m \u001b[0mfastfilltime\u001b[0m \u001b[1;33m=\u001b[0m \u001b[0melapsed\u001b[0m\u001b[1;33m(\u001b[0m\u001b[0mcount\u001b[0m\u001b[1;33m,\u001b[0m\u001b[0mfastfill\u001b[0m\u001b[1;33m,\u001b[0m\u001b[0mpicture\u001b[0m\u001b[1;33m)\u001b[0m\u001b[1;33m\u001b[0m\u001b[0m\n",
        "\u001b[1;31mNameError\u001b[0m: name 'resetimg' is not defined"
       ]
      }
     ],
     "prompt_number": 4
    },
    {
     "cell_type": "markdown",
     "metadata": {},
     "source": [
      "3) Use the fastest algorithm from question 2 to count the stars above a threshold in all of the images listed at the top of the page. How does the count for each image change if you lower the threshold from 600 to 500? Comment on any changes to the count. Why do they happen?"
     ]
    },
    {
     "cell_type": "code",
     "collapsed": false,
     "input": [
      "for name in imgnames:\n",
      "    picture = resetimg(name,600)\n",
      "    numstars = count(picture,recfill)\n",
      "    print \"Image file: %s has %d stars with threshold = 600\"%(name,numstars)"
     ],
     "language": "python",
     "metadata": {},
     "outputs": [
      {
       "ename": "NameError",
       "evalue": "name 'imgnames' is not defined",
       "output_type": "pyerr",
       "traceback": [
        "\u001b[1;31m---------------------------------------------------------------------------\u001b[0m\n\u001b[1;31mNameError\u001b[0m                                 Traceback (most recent call last)",
        "\u001b[1;32m<ipython-input-5-61cd64e53a97>\u001b[0m in \u001b[0;36m<module>\u001b[1;34m()\u001b[0m\n\u001b[1;32m----> 1\u001b[1;33m \u001b[1;32mfor\u001b[0m \u001b[0mname\u001b[0m \u001b[1;32min\u001b[0m \u001b[0mimgnames\u001b[0m\u001b[1;33m:\u001b[0m\u001b[1;33m\u001b[0m\u001b[0m\n\u001b[0m\u001b[0;32m      2\u001b[0m     \u001b[0mpicture\u001b[0m \u001b[1;33m=\u001b[0m \u001b[0mresetimg\u001b[0m\u001b[1;33m(\u001b[0m\u001b[0mname\u001b[0m\u001b[1;33m,\u001b[0m\u001b[1;36m600\u001b[0m\u001b[1;33m)\u001b[0m\u001b[1;33m\u001b[0m\u001b[0m\n\u001b[0;32m      3\u001b[0m     \u001b[0mnumstars\u001b[0m \u001b[1;33m=\u001b[0m \u001b[0mcount\u001b[0m\u001b[1;33m(\u001b[0m\u001b[0mpicture\u001b[0m\u001b[1;33m,\u001b[0m\u001b[0mrecfill\u001b[0m\u001b[1;33m)\u001b[0m\u001b[1;33m\u001b[0m\u001b[0m\n\u001b[0;32m      4\u001b[0m     \u001b[1;32mprint\u001b[0m \u001b[1;34m\"Image file: %s has %d stars with threshold = 600\"\u001b[0m\u001b[1;33m%\u001b[0m\u001b[1;33m(\u001b[0m\u001b[0mname\u001b[0m\u001b[1;33m,\u001b[0m\u001b[0mnumstars\u001b[0m\u001b[1;33m)\u001b[0m\u001b[1;33m\u001b[0m\u001b[0m\n",
        "\u001b[1;31mNameError\u001b[0m: name 'imgnames' is not defined"
       ]
      }
     ],
     "prompt_number": 5
    },
    {
     "cell_type": "code",
     "collapsed": false,
     "input": [
      "for name in imgnames:\n",
      "    picture = resetimg(name,500)\n",
      "    numstars = count(picture,fastfill)\n",
      "    print \"Image file: %s has %d stars with threshold = 500\"%(name,numstars)"
     ],
     "language": "python",
     "metadata": {},
     "outputs": [
      {
       "ename": "NameError",
       "evalue": "name 'imgnames' is not defined",
       "output_type": "pyerr",
       "traceback": [
        "\u001b[1;31m---------------------------------------------------------------------------\u001b[0m\n\u001b[1;31mNameError\u001b[0m                                 Traceback (most recent call last)",
        "\u001b[1;32m<ipython-input-6-30d2726bbd2a>\u001b[0m in \u001b[0;36m<module>\u001b[1;34m()\u001b[0m\n\u001b[1;32m----> 1\u001b[1;33m \u001b[1;32mfor\u001b[0m \u001b[0mname\u001b[0m \u001b[1;32min\u001b[0m \u001b[0mimgnames\u001b[0m\u001b[1;33m:\u001b[0m\u001b[1;33m\u001b[0m\u001b[0m\n\u001b[0m\u001b[0;32m      2\u001b[0m     \u001b[0mpicture\u001b[0m \u001b[1;33m=\u001b[0m \u001b[0mresetimg\u001b[0m\u001b[1;33m(\u001b[0m\u001b[0mname\u001b[0m\u001b[1;33m,\u001b[0m\u001b[1;36m500\u001b[0m\u001b[1;33m)\u001b[0m\u001b[1;33m\u001b[0m\u001b[0m\n\u001b[0;32m      3\u001b[0m     \u001b[0mnumstars\u001b[0m \u001b[1;33m=\u001b[0m \u001b[0mcount\u001b[0m\u001b[1;33m(\u001b[0m\u001b[0mpicture\u001b[0m\u001b[1;33m,\u001b[0m\u001b[0mfastfill\u001b[0m\u001b[1;33m)\u001b[0m\u001b[1;33m\u001b[0m\u001b[0m\n\u001b[0;32m      4\u001b[0m     \u001b[1;32mprint\u001b[0m \u001b[1;34m\"Image file: %s has %d stars with threshold = 500\"\u001b[0m\u001b[1;33m%\u001b[0m\u001b[1;33m(\u001b[0m\u001b[0mname\u001b[0m\u001b[1;33m,\u001b[0m\u001b[0mnumstars\u001b[0m\u001b[1;33m)\u001b[0m\u001b[1;33m\u001b[0m\u001b[0m\n",
        "\u001b[1;31mNameError\u001b[0m: name 'imgnames' is not defined"
       ]
      }
     ],
     "prompt_number": 6
    },
    {
     "cell_type": "markdown",
     "metadata": {},
     "source": [
      "4) Write a variation on your count function to keep track of the pixels in a given blob and use the brightest pixel in the blob as the \"location\" of the star. Use the data I/O skills we learned to write out a text (not binary) file containing:\n",
      "\n",
      "a header which includes,\n",
      "\n",
      "the link to the image,\n",
      "\n",
      "the threshold value used in the conversion to monochrome,\n",
      "\n",
      "the algorithm used to count its stars,\n",
      "\n",
      "how fast it processed the image,\n",
      "\n",
      "how many stars were found,\n",
      "\n",
      "a description of the data in the subsequent columns,\n",
      "\n",
      "a list of the star data organized in three columns and formatted for easy reading as follows:\n",
      "\n",
      "location (x,y in pixel units),\n",
      "\n",
      "maximum brightness value for the star,\n",
      "\n",
      "Apply your function to the six images at the top of the page."
     ]
    },
    {
     "cell_type": "code",
     "collapsed": false,
     "input": [
      "def count2(picture,fillfunc):\n",
      "    \"\"\"scan the image top to bottom and left to right using a nested loop.\n",
      "    when non-black pixel is found, increment the count, then call the fill\n",
      "    function to fill in all the pixels connected to that one.  \n",
      "    \n",
      "    Return the count plus a list of star brightest pixel locations and value\"\"\"\n",
      "    xsize, ysize = picture.size\n",
      "    temp = picture.load()\n",
      "    result = 0\n",
      "    #a list of stars' max pixel locations and values\n",
      "    starlist = []\n",
      "    for x in range(xsize):\n",
      "        for y in range(ysize):\n",
      "            if temp[x,y] > BLACK:\n",
      "                result += 1\n",
      "                x,y,max_val = fillfunc(temp,xsize,ysize,x,y)\n",
      "                starlist.append((x,y,max_val))\n",
      "    return result,starlist"
     ],
     "language": "python",
     "metadata": {},
     "outputs": [],
     "prompt_number": 8
    },
    {
     "cell_type": "code",
     "collapsed": false,
     "input": [],
     "language": "python",
     "metadata": {},
     "outputs": []
    }
   ],
   "metadata": {}
  }
 ]
}