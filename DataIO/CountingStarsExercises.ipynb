{
 "metadata": {
  "name": "",
  "signature": "sha256:187cfb9e6c48e944378d9f00c01408a326323c7214593dc95f5616b7b1266d92"
 },
 "nbformat": 3,
 "nbformat_minor": 0,
 "worksheets": [
  {
   "cells": [
    {
     "cell_type": "code",
     "collapsed": false,
     "input": [
      "%pylab inline\n",
      "import numpy as np\n",
      "import matplotlib.pyplot as plt\n",
      "from PIL import Image\n",
      "import requests\n",
      "from StringIO import StringIO"
     ],
     "language": "python",
     "metadata": {},
     "outputs": [
      {
       "output_type": "stream",
       "stream": "stdout",
       "text": [
        "Populating the interactive namespace from numpy and matplotlib\n"
       ]
      }
     ],
     "prompt_number": 1
    },
    {
     "cell_type": "markdown",
     "metadata": {},
     "source": [
      "1) Modify the fill function so that it never looks at the same pixel twice. There are at least two ways to do this. Name your new function fastfill. The function prototype might look something like this:\n",
      "def fastfill(picture, xsize, ysize, xstart, ystart):\n",
      "    \"\"\"Faster fill algorithm that doesn't look at any pixel more than once.\"\"\"\n",
      "Be sure to include comments and add detail to the docstring to describe what it is doing"
     ]
    },
    {
     "cell_type": "code",
     "collapsed": false,
     "input": [
      "def fastfill(picture, xsize, ysize, xstart, ystart):\n",
      "    \"\"\"Faster fill algorithm that doesn't look at any picel more than once\"\"\"\n",
      "    queue = [(xstart, ystart)]\n",
      "    while queue:\n",
      "        x,y,queue = queue[0][0], queue[0][1], queue[1:]\n",
      "        if pitcure[x,y] == BLACK:\n",
      "            picture = RED\n",
      "            if x > 0:\n",
      "                queue.append((x-1,y))\n",
      "            if x <(xsize-1):\n",
      "                queue.append((x+1,y))\n",
      "            if y>0:\n",
      "                queue.append((x,y-1))\n",
      "            if y < (ysize-1):\n",
      "                queue.append((x,y+1))"
     ],
     "language": "python",
     "metadata": {},
     "outputs": [],
     "prompt_number": 2
    },
    {
     "cell_type": "markdown",
     "metadata": {},
     "source": [
      "2) Modify your count function to take another argument - which fill function to use - and compare the time it takes to count the stars using the original fill, your improved fastfill, and the recursive recfill."
     ]
    },
    {
     "cell_type": "code",
     "collapsed": false,
     "input": [
      "BLACK = (0,0,0)\n",
      "RED = (255,0,0)\n",
      "def count(picture, fill):\n",
      "    %%timeit \n",
      "    xsize, ysize = picture.size\n",
      "    temp = picture.load()\n",
      "    result = 0\n",
      "    for x in range(xsize):\n",
      "        for y in range(ysize):\n",
      "           if temp[x,y] == BLACK:\n",
      "                result += 1\n",
      "                fill(temp,xsize,ysize,x,y)\n",
      "    return result\n",
      "\n",
      "count\n",
      "    "
     ],
     "language": "python",
     "metadata": {},
     "outputs": [],
     "prompt_number": 1
    },
    {
     "cell_type": "markdown",
     "metadata": {},
     "source": [
      "3) Use the fastest algorithm from question 2 to count the stars above a threshold in all of the images listed at the top of the page. How does the count for each image change if you lower the threshold from 600 to 500? Comment on any changes to the count. Why do they happen?"
     ]
    },
    {
     "cell_type": "code",
     "collapsed": false,
     "input": [],
     "language": "python",
     "metadata": {},
     "outputs": []
    },
    {
     "cell_type": "markdown",
     "metadata": {},
     "source": [
      "4) Write a variation on your count function to keep track of the pixels in a given blob and use the brightest pixel in the blob as the \"location\" of the star. Use the data I/O skills we learned to write out a text (not binary) file containing:\n",
      "\n",
      "a header which includes,\n",
      "\n",
      "the link to the image,\n",
      "\n",
      "the threshold value used in the conversion to monochrome,\n",
      "\n",
      "the algorithm used to count its stars,\n",
      "\n",
      "how fast it processed the image,\n",
      "\n",
      "how many stars were found,\n",
      "\n",
      "a description of the data in the subsequent columns,\n",
      "\n",
      "a list of the star data organized in three columns and formatted for easy reading as follows:\n",
      "\n",
      "location (x,y in pixel units),\n",
      "\n",
      "maximum brightness value for the star,\n",
      "\n",
      "Apply your function to the six images at the top of the page."
     ]
    },
    {
     "cell_type": "code",
     "collapsed": false,
     "input": [],
     "language": "python",
     "metadata": {},
     "outputs": []
    }
   ],
   "metadata": {}
  }
 ]
}