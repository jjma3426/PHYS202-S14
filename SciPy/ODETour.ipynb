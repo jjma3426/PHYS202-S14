{
 "metadata": {
  "name": "",
  "signature": "sha256:a75b2a04e131105b2473d789d841bffb2ac42f959890b8f5c4351eee42485137"
 },
 "nbformat": 3,
 "nbformat_minor": 0,
 "worksheets": [
  {
   "cells": [
    {
     "cell_type": "heading",
     "level": 1,
     "metadata": {},
     "source": [
      "Ordinary Differential Equations"
     ]
    },
    {
     "cell_type": "code",
     "collapsed": false,
     "input": [
      "%pylab inline\n",
      "import numpy as np\n",
      "import matplotlib.pyplot as plt"
     ],
     "language": "python",
     "metadata": {},
     "outputs": [
      {
       "output_type": "stream",
       "stream": "stdout",
       "text": [
        "Populating the interactive namespace from numpy and matplotlib\n"
       ]
      }
     ],
     "prompt_number": 1
    },
    {
     "cell_type": "heading",
     "level": 2,
     "metadata": {},
     "source": [
      "Approximate Solution"
     ]
    },
    {
     "cell_type": "code",
     "collapsed": false,
     "input": [
      "g = 9.8\n",
      "ell = 0.5\n",
      "th0 = 20.*np.pi/180\n",
      "\n",
      "t = np.arange(0.,10.+0.01,0.01)\n",
      "theta_app = lambda t: th0*np.cos(np.sqrt(g/ell)*t)\n",
      "\n",
      "plt.plot(t,theta_app(t), label='Approximate solution')\n",
      "plt.xlabel(r'$t (seconds)$',fontsize=20)\n",
      "plt.ylabel(r'$\\theta (rad)$',fontsize=20)\n",
      "plt.ylim(-1,1.5)\n",
      "plt.grid()\n",
      "plt.legend()\n",
      "plt.show()"
     ],
     "language": "python",
     "metadata": {},
     "outputs": [
      {
       "metadata": {},
       "output_type": "display_data",
       "png": "[encoded data removed]",
       "text": [
        "<matplotlib.figure.Figure at 0x9f1c780>"
       ]
      }
     ],
     "prompt_number": 2
    },
    {
     "cell_type": "heading",
     "level": 2,
     "metadata": {},
     "source": [
      "Numerical Solution"
     ]
    },
    {
     "cell_type": "code",
     "collapsed": false,
     "input": [
      "def deriv(theta_current,t):\n",
      "    g = 9.8\n",
      "    ell = 0.5\n",
      "    theta = theta_current[0]\n",
      "    omega = theta_current[1]\n",
      "    dtheta = omega\n",
      "    domega = -(g/ell)*np*sin(theta)\n",
      "    return np.array([ dtheta, domega ])"
     ],
     "language": "python",
     "metadata": {},
     "outputs": [],
     "prompt_number": 3
    },
    {
     "cell_type": "code",
     "collapsed": false,
     "input": [
      "from scipy.integrate import odeint"
     ],
     "language": "python",
     "metadata": {},
     "outputs": [],
     "prompt_number": 4
    },
    {
     "cell_type": "code",
     "collapsed": false,
     "input": [
      "t = np.arange(0.,10.+0.01,0.01)\n",
      "\n",
      "omega0 = 0. #starting from rest, omega = 0\n",
      "theta_init = np.array([th0, omega0]) # initial values, th0 from before = 20 degrees, expressed in radians\n",
      "\n",
      "#pass the function deriv to the solver with initial values and integration variable\n",
      "theta = odeint(deriv,theta_init,t) "
     ],
     "language": "python",
     "metadata": {},
     "outputs": [
      {
       "ename": "TypeError",
       "evalue": "unsupported operand type(s) for *: 'float' and 'module'",
       "output_type": "pyerr",
       "traceback": [
        "\u001b[1;31m---------------------------------------------------------------------------\u001b[0m\n\u001b[1;31mTypeError\u001b[0m                                 Traceback (most recent call last)",
        "\u001b[1;32m<ipython-input-3-18e650fdadfc>\u001b[0m in \u001b[0;36mderiv\u001b[1;34m(theta_current, t)\u001b[0m\n\u001b[0;32m      5\u001b[0m     \u001b[0momega\u001b[0m \u001b[1;33m=\u001b[0m \u001b[0mtheta_current\u001b[0m\u001b[1;33m[\u001b[0m\u001b[1;36m1\u001b[0m\u001b[1;33m]\u001b[0m\u001b[1;33m\u001b[0m\u001b[0m\n\u001b[0;32m      6\u001b[0m     \u001b[0mdtheta\u001b[0m \u001b[1;33m=\u001b[0m \u001b[0momega\u001b[0m\u001b[1;33m\u001b[0m\u001b[0m\n\u001b[1;32m----> 7\u001b[1;33m     \u001b[0mdomega\u001b[0m \u001b[1;33m=\u001b[0m \u001b[1;33m-\u001b[0m\u001b[1;33m(\u001b[0m\u001b[0mg\u001b[0m\u001b[1;33m/\u001b[0m\u001b[0mell\u001b[0m\u001b[1;33m)\u001b[0m\u001b[1;33m*\u001b[0m\u001b[0mnp\u001b[0m\u001b[1;33m*\u001b[0m\u001b[0msin\u001b[0m\u001b[1;33m(\u001b[0m\u001b[0mtheta\u001b[0m\u001b[1;33m)\u001b[0m\u001b[1;33m\u001b[0m\u001b[0m\n\u001b[0m\u001b[0;32m      8\u001b[0m     \u001b[1;32mreturn\u001b[0m \u001b[0mnp\u001b[0m\u001b[1;33m.\u001b[0m\u001b[0marray\u001b[0m\u001b[1;33m(\u001b[0m\u001b[1;33m[\u001b[0m \u001b[0mdtheta\u001b[0m\u001b[1;33m,\u001b[0m \u001b[0mdomega\u001b[0m \u001b[1;33m]\u001b[0m\u001b[1;33m)\u001b[0m\u001b[1;33m\u001b[0m\u001b[0m\n",
        "\u001b[1;31mTypeError\u001b[0m: unsupported operand type(s) for *: 'float' and 'module'"
       ]
      },
      {
       "ename": "TypeError",
       "evalue": "unsupported operand type(s) for *: 'float' and 'module'",
       "output_type": "pyerr",
       "traceback": [
        "\u001b[1;31m---------------------------------------------------------------------------\u001b[0m\n\u001b[1;31mTypeError\u001b[0m                                 Traceback (most recent call last)",
        "\u001b[1;32m<ipython-input-3-18e650fdadfc>\u001b[0m in \u001b[0;36mderiv\u001b[1;34m(theta_current, t)\u001b[0m\n\u001b[0;32m      5\u001b[0m     \u001b[0momega\u001b[0m \u001b[1;33m=\u001b[0m \u001b[0mtheta_current\u001b[0m\u001b[1;33m[\u001b[0m\u001b[1;36m1\u001b[0m\u001b[1;33m]\u001b[0m\u001b[1;33m\u001b[0m\u001b[0m\n\u001b[0;32m      6\u001b[0m     \u001b[0mdtheta\u001b[0m \u001b[1;33m=\u001b[0m \u001b[0momega\u001b[0m\u001b[1;33m\u001b[0m\u001b[0m\n\u001b[1;32m----> 7\u001b[1;33m     \u001b[0mdomega\u001b[0m \u001b[1;33m=\u001b[0m \u001b[1;33m-\u001b[0m\u001b[1;33m(\u001b[0m\u001b[0mg\u001b[0m\u001b[1;33m/\u001b[0m\u001b[0mell\u001b[0m\u001b[1;33m)\u001b[0m\u001b[1;33m*\u001b[0m\u001b[0mnp\u001b[0m\u001b[1;33m*\u001b[0m\u001b[0msin\u001b[0m\u001b[1;33m(\u001b[0m\u001b[0mtheta\u001b[0m\u001b[1;33m)\u001b[0m\u001b[1;33m\u001b[0m\u001b[0m\n\u001b[0m\u001b[0;32m      8\u001b[0m     \u001b[1;32mreturn\u001b[0m \u001b[0mnp\u001b[0m\u001b[1;33m.\u001b[0m\u001b[0marray\u001b[0m\u001b[1;33m(\u001b[0m\u001b[1;33m[\u001b[0m \u001b[0mdtheta\u001b[0m\u001b[1;33m,\u001b[0m \u001b[0mdomega\u001b[0m \u001b[1;33m]\u001b[0m\u001b[1;33m)\u001b[0m\u001b[1;33m\u001b[0m\u001b[0m\n",
        "\u001b[1;31mTypeError\u001b[0m: unsupported operand type(s) for *: 'float' and 'module'"
       ]
      },
      {
       "ename": "TypeError",
       "evalue": "unsupported operand type(s) for *: 'float' and 'module'",
       "output_type": "pyerr",
       "traceback": [
        "\u001b[1;31m---------------------------------------------------------------------------\u001b[0m\n\u001b[1;31mTypeError\u001b[0m                                 Traceback (most recent call last)",
        "\u001b[1;32m<ipython-input-3-18e650fdadfc>\u001b[0m in \u001b[0;36mderiv\u001b[1;34m(theta_current, t)\u001b[0m\n\u001b[0;32m      5\u001b[0m     \u001b[0momega\u001b[0m \u001b[1;33m=\u001b[0m \u001b[0mtheta_current\u001b[0m\u001b[1;33m[\u001b[0m\u001b[1;36m1\u001b[0m\u001b[1;33m]\u001b[0m\u001b[1;33m\u001b[0m\u001b[0m\n\u001b[0;32m      6\u001b[0m     \u001b[0mdtheta\u001b[0m \u001b[1;33m=\u001b[0m \u001b[0momega\u001b[0m\u001b[1;33m\u001b[0m\u001b[0m\n\u001b[1;32m----> 7\u001b[1;33m     \u001b[0mdomega\u001b[0m \u001b[1;33m=\u001b[0m \u001b[1;33m-\u001b[0m\u001b[1;33m(\u001b[0m\u001b[0mg\u001b[0m\u001b[1;33m/\u001b[0m\u001b[0mell\u001b[0m\u001b[1;33m)\u001b[0m\u001b[1;33m*\u001b[0m\u001b[0mnp\u001b[0m\u001b[1;33m*\u001b[0m\u001b[0msin\u001b[0m\u001b[1;33m(\u001b[0m\u001b[0mtheta\u001b[0m\u001b[1;33m)\u001b[0m\u001b[1;33m\u001b[0m\u001b[0m\n\u001b[0m\u001b[0;32m      8\u001b[0m     \u001b[1;32mreturn\u001b[0m \u001b[0mnp\u001b[0m\u001b[1;33m.\u001b[0m\u001b[0marray\u001b[0m\u001b[1;33m(\u001b[0m\u001b[1;33m[\u001b[0m \u001b[0mdtheta\u001b[0m\u001b[1;33m,\u001b[0m \u001b[0mdomega\u001b[0m \u001b[1;33m]\u001b[0m\u001b[1;33m)\u001b[0m\u001b[1;33m\u001b[0m\u001b[0m\n",
        "\u001b[1;31mTypeError\u001b[0m: unsupported operand type(s) for *: 'float' and 'module'"
       ]
      },
      {
       "ename": "TypeError",
       "evalue": "unsupported operand type(s) for *: 'float' and 'module'",
       "output_type": "pyerr",
       "traceback": [
        "\u001b[1;31m---------------------------------------------------------------------------\u001b[0m\n\u001b[1;31mTypeError\u001b[0m                                 Traceback (most recent call last)",
        "\u001b[1;32m<ipython-input-3-18e650fdadfc>\u001b[0m in \u001b[0;36mderiv\u001b[1;34m(theta_current, t)\u001b[0m\n\u001b[0;32m      5\u001b[0m     \u001b[0momega\u001b[0m \u001b[1;33m=\u001b[0m \u001b[0mtheta_current\u001b[0m\u001b[1;33m[\u001b[0m\u001b[1;36m1\u001b[0m\u001b[1;33m]\u001b[0m\u001b[1;33m\u001b[0m\u001b[0m\n\u001b[0;32m      6\u001b[0m     \u001b[0mdtheta\u001b[0m \u001b[1;33m=\u001b[0m \u001b[0momega\u001b[0m\u001b[1;33m\u001b[0m\u001b[0m\n\u001b[1;32m----> 7\u001b[1;33m     \u001b[0mdomega\u001b[0m \u001b[1;33m=\u001b[0m \u001b[1;33m-\u001b[0m\u001b[1;33m(\u001b[0m\u001b[0mg\u001b[0m\u001b[1;33m/\u001b[0m\u001b[0mell\u001b[0m\u001b[1;33m)\u001b[0m\u001b[1;33m*\u001b[0m\u001b[0mnp\u001b[0m\u001b[1;33m*\u001b[0m\u001b[0msin\u001b[0m\u001b[1;33m(\u001b[0m\u001b[0mtheta\u001b[0m\u001b[1;33m)\u001b[0m\u001b[1;33m\u001b[0m\u001b[0m\n\u001b[0m\u001b[0;32m      8\u001b[0m     \u001b[1;32mreturn\u001b[0m \u001b[0mnp\u001b[0m\u001b[1;33m.\u001b[0m\u001b[0marray\u001b[0m\u001b[1;33m(\u001b[0m\u001b[1;33m[\u001b[0m \u001b[0mdtheta\u001b[0m\u001b[1;33m,\u001b[0m \u001b[0mdomega\u001b[0m \u001b[1;33m]\u001b[0m\u001b[1;33m)\u001b[0m\u001b[1;33m\u001b[0m\u001b[0m\n",
        "\u001b[1;31mTypeError\u001b[0m: unsupported operand type(s) for *: 'float' and 'module'"
       ]
      },
      {
       "ename": "TypeError",
       "evalue": "unsupported operand type(s) for *: 'float' and 'module'",
       "output_type": "pyerr",
       "traceback": [
        "\u001b[1;31m---------------------------------------------------------------------------\u001b[0m\n\u001b[1;31mTypeError\u001b[0m                                 Traceback (most recent call last)",
        "\u001b[1;32m<ipython-input-3-18e650fdadfc>\u001b[0m in \u001b[0;36mderiv\u001b[1;34m(theta_current, t)\u001b[0m\n\u001b[0;32m      5\u001b[0m     \u001b[0momega\u001b[0m \u001b[1;33m=\u001b[0m \u001b[0mtheta_current\u001b[0m\u001b[1;33m[\u001b[0m\u001b[1;36m1\u001b[0m\u001b[1;33m]\u001b[0m\u001b[1;33m\u001b[0m\u001b[0m\n\u001b[0;32m      6\u001b[0m     \u001b[0mdtheta\u001b[0m \u001b[1;33m=\u001b[0m \u001b[0momega\u001b[0m\u001b[1;33m\u001b[0m\u001b[0m\n\u001b[1;32m----> 7\u001b[1;33m     \u001b[0mdomega\u001b[0m \u001b[1;33m=\u001b[0m \u001b[1;33m-\u001b[0m\u001b[1;33m(\u001b[0m\u001b[0mg\u001b[0m\u001b[1;33m/\u001b[0m\u001b[0mell\u001b[0m\u001b[1;33m)\u001b[0m\u001b[1;33m*\u001b[0m\u001b[0mnp\u001b[0m\u001b[1;33m*\u001b[0m\u001b[0msin\u001b[0m\u001b[1;33m(\u001b[0m\u001b[0mtheta\u001b[0m\u001b[1;33m)\u001b[0m\u001b[1;33m\u001b[0m\u001b[0m\n\u001b[0m\u001b[0;32m      8\u001b[0m     \u001b[1;32mreturn\u001b[0m \u001b[0mnp\u001b[0m\u001b[1;33m.\u001b[0m\u001b[0marray\u001b[0m\u001b[1;33m(\u001b[0m\u001b[1;33m[\u001b[0m \u001b[0mdtheta\u001b[0m\u001b[1;33m,\u001b[0m \u001b[0mdomega\u001b[0m \u001b[1;33m]\u001b[0m\u001b[1;33m)\u001b[0m\u001b[1;33m\u001b[0m\u001b[0m\n",
        "\u001b[1;31mTypeError\u001b[0m: unsupported operand type(s) for *: 'float' and 'module'"
       ]
      },
      {
       "ename": "TypeError",
       "evalue": "unsupported operand type(s) for *: 'float' and 'module'",
       "output_type": "pyerr",
       "traceback": [
        "\u001b[1;31m---------------------------------------------------------------------------\u001b[0m\n\u001b[1;31mTypeError\u001b[0m                                 Traceback (most recent call last)",
        "\u001b[1;32m<ipython-input-3-18e650fdadfc>\u001b[0m in \u001b[0;36mderiv\u001b[1;34m(theta_current, t)\u001b[0m\n\u001b[0;32m      5\u001b[0m     \u001b[0momega\u001b[0m \u001b[1;33m=\u001b[0m \u001b[0mtheta_current\u001b[0m\u001b[1;33m[\u001b[0m\u001b[1;36m1\u001b[0m\u001b[1;33m]\u001b[0m\u001b[1;33m\u001b[0m\u001b[0m\n\u001b[0;32m      6\u001b[0m     \u001b[0mdtheta\u001b[0m \u001b[1;33m=\u001b[0m \u001b[0momega\u001b[0m\u001b[1;33m\u001b[0m\u001b[0m\n\u001b[1;32m----> 7\u001b[1;33m     \u001b[0mdomega\u001b[0m \u001b[1;33m=\u001b[0m \u001b[1;33m-\u001b[0m\u001b[1;33m(\u001b[0m\u001b[0mg\u001b[0m\u001b[1;33m/\u001b[0m\u001b[0mell\u001b[0m\u001b[1;33m)\u001b[0m\u001b[1;33m*\u001b[0m\u001b[0mnp\u001b[0m\u001b[1;33m*\u001b[0m\u001b[0msin\u001b[0m\u001b[1;33m(\u001b[0m\u001b[0mtheta\u001b[0m\u001b[1;33m)\u001b[0m\u001b[1;33m\u001b[0m\u001b[0m\n\u001b[0m\u001b[0;32m      8\u001b[0m     \u001b[1;32mreturn\u001b[0m \u001b[0mnp\u001b[0m\u001b[1;33m.\u001b[0m\u001b[0marray\u001b[0m\u001b[1;33m(\u001b[0m\u001b[1;33m[\u001b[0m \u001b[0mdtheta\u001b[0m\u001b[1;33m,\u001b[0m \u001b[0mdomega\u001b[0m \u001b[1;33m]\u001b[0m\u001b[1;33m)\u001b[0m\u001b[1;33m\u001b[0m\u001b[0m\n",
        "\u001b[1;31mTypeError\u001b[0m: unsupported operand type(s) for *: 'float' and 'module'"
       ]
      },
      {
       "ename": "TypeError",
       "evalue": "unsupported operand type(s) for *: 'float' and 'module'",
       "output_type": "pyerr",
       "traceback": [
        "\u001b[1;31m---------------------------------------------------------------------------\u001b[0m\n\u001b[1;31mTypeError\u001b[0m                                 Traceback (most recent call last)",
        "\u001b[1;32m<ipython-input-3-18e650fdadfc>\u001b[0m in \u001b[0;36mderiv\u001b[1;34m(theta_current, t)\u001b[0m\n\u001b[0;32m      5\u001b[0m     \u001b[0momega\u001b[0m \u001b[1;33m=\u001b[0m \u001b[0mtheta_current\u001b[0m\u001b[1;33m[\u001b[0m\u001b[1;36m1\u001b[0m\u001b[1;33m]\u001b[0m\u001b[1;33m\u001b[0m\u001b[0m\n\u001b[0;32m      6\u001b[0m     \u001b[0mdtheta\u001b[0m \u001b[1;33m=\u001b[0m \u001b[0momega\u001b[0m\u001b[1;33m\u001b[0m\u001b[0m\n\u001b[1;32m----> 7\u001b[1;33m     \u001b[0mdomega\u001b[0m \u001b[1;33m=\u001b[0m \u001b[1;33m-\u001b[0m\u001b[1;33m(\u001b[0m\u001b[0mg\u001b[0m\u001b[1;33m/\u001b[0m\u001b[0mell\u001b[0m\u001b[1;33m)\u001b[0m\u001b[1;33m*\u001b[0m\u001b[0mnp\u001b[0m\u001b[1;33m*\u001b[0m\u001b[0msin\u001b[0m\u001b[1;33m(\u001b[0m\u001b[0mtheta\u001b[0m\u001b[1;33m)\u001b[0m\u001b[1;33m\u001b[0m\u001b[0m\n\u001b[0m\u001b[0;32m      8\u001b[0m     \u001b[1;32mreturn\u001b[0m \u001b[0mnp\u001b[0m\u001b[1;33m.\u001b[0m\u001b[0marray\u001b[0m\u001b[1;33m(\u001b[0m\u001b[1;33m[\u001b[0m \u001b[0mdtheta\u001b[0m\u001b[1;33m,\u001b[0m \u001b[0mdomega\u001b[0m \u001b[1;33m]\u001b[0m\u001b[1;33m)\u001b[0m\u001b[1;33m\u001b[0m\u001b[0m\n",
        "\u001b[1;31mTypeError\u001b[0m: unsupported operand type(s) for *: 'float' and 'module'"
       ]
      },
      {
       "ename": "TypeError",
       "evalue": "unsupported operand type(s) for *: 'float' and 'module'",
       "output_type": "pyerr",
       "traceback": [
        "\u001b[1;31m---------------------------------------------------------------------------\u001b[0m\n\u001b[1;31mTypeError\u001b[0m                                 Traceback (most recent call last)",
        "\u001b[1;32m<ipython-input-3-18e650fdadfc>\u001b[0m in \u001b[0;36mderiv\u001b[1;34m(theta_current, t)\u001b[0m\n\u001b[0;32m      5\u001b[0m     \u001b[0momega\u001b[0m \u001b[1;33m=\u001b[0m \u001b[0mtheta_current\u001b[0m\u001b[1;33m[\u001b[0m\u001b[1;36m1\u001b[0m\u001b[1;33m]\u001b[0m\u001b[1;33m\u001b[0m\u001b[0m\n\u001b[0;32m      6\u001b[0m     \u001b[0mdtheta\u001b[0m \u001b[1;33m=\u001b[0m \u001b[0momega\u001b[0m\u001b[1;33m\u001b[0m\u001b[0m\n\u001b[1;32m----> 7\u001b[1;33m     \u001b[0mdomega\u001b[0m \u001b[1;33m=\u001b[0m \u001b[1;33m-\u001b[0m\u001b[1;33m(\u001b[0m\u001b[0mg\u001b[0m\u001b[1;33m/\u001b[0m\u001b[0mell\u001b[0m\u001b[1;33m)\u001b[0m\u001b[1;33m*\u001b[0m\u001b[0mnp\u001b[0m\u001b[1;33m*\u001b[0m\u001b[0msin\u001b[0m\u001b[1;33m(\u001b[0m\u001b[0mtheta\u001b[0m\u001b[1;33m)\u001b[0m\u001b[1;33m\u001b[0m\u001b[0m\n\u001b[0m\u001b[0;32m      8\u001b[0m     \u001b[1;32mreturn\u001b[0m \u001b[0mnp\u001b[0m\u001b[1;33m.\u001b[0m\u001b[0marray\u001b[0m\u001b[1;33m(\u001b[0m\u001b[1;33m[\u001b[0m \u001b[0mdtheta\u001b[0m\u001b[1;33m,\u001b[0m \u001b[0mdomega\u001b[0m \u001b[1;33m]\u001b[0m\u001b[1;33m)\u001b[0m\u001b[1;33m\u001b[0m\u001b[0m\n",
        "\u001b[1;31mTypeError\u001b[0m: unsupported operand type(s) for *: 'float' and 'module'"
       ]
      },
      {
       "ename": "TypeError",
       "evalue": "unsupported operand type(s) for *: 'float' and 'module'",
       "output_type": "pyerr",
       "traceback": [
        "\u001b[1;31m---------------------------------------------------------------------------\u001b[0m\n\u001b[1;31mTypeError\u001b[0m                                 Traceback (most recent call last)",
        "\u001b[1;32m<ipython-input-3-18e650fdadfc>\u001b[0m in \u001b[0;36mderiv\u001b[1;34m(theta_current, t)\u001b[0m\n\u001b[0;32m      5\u001b[0m     \u001b[0momega\u001b[0m \u001b[1;33m=\u001b[0m \u001b[0mtheta_current\u001b[0m\u001b[1;33m[\u001b[0m\u001b[1;36m1\u001b[0m\u001b[1;33m]\u001b[0m\u001b[1;33m\u001b[0m\u001b[0m\n\u001b[0;32m      6\u001b[0m     \u001b[0mdtheta\u001b[0m \u001b[1;33m=\u001b[0m \u001b[0momega\u001b[0m\u001b[1;33m\u001b[0m\u001b[0m\n\u001b[1;32m----> 7\u001b[1;33m     \u001b[0mdomega\u001b[0m \u001b[1;33m=\u001b[0m \u001b[1;33m-\u001b[0m\u001b[1;33m(\u001b[0m\u001b[0mg\u001b[0m\u001b[1;33m/\u001b[0m\u001b[0mell\u001b[0m\u001b[1;33m)\u001b[0m\u001b[1;33m*\u001b[0m\u001b[0mnp\u001b[0m\u001b[1;33m*\u001b[0m\u001b[0msin\u001b[0m\u001b[1;33m(\u001b[0m\u001b[0mtheta\u001b[0m\u001b[1;33m)\u001b[0m\u001b[1;33m\u001b[0m\u001b[0m\n\u001b[0m\u001b[0;32m      8\u001b[0m     \u001b[1;32mreturn\u001b[0m \u001b[0mnp\u001b[0m\u001b[1;33m.\u001b[0m\u001b[0marray\u001b[0m\u001b[1;33m(\u001b[0m\u001b[1;33m[\u001b[0m \u001b[0mdtheta\u001b[0m\u001b[1;33m,\u001b[0m \u001b[0mdomega\u001b[0m \u001b[1;33m]\u001b[0m\u001b[1;33m)\u001b[0m\u001b[1;33m\u001b[0m\u001b[0m\n",
        "\u001b[1;31mTypeError\u001b[0m: unsupported operand type(s) for *: 'float' and 'module'"
       ]
      },
      {
       "ename": "TypeError",
       "evalue": "unsupported operand type(s) for *: 'float' and 'module'",
       "output_type": "pyerr",
       "traceback": [
        "\u001b[1;31m---------------------------------------------------------------------------\u001b[0m\n\u001b[1;31mTypeError\u001b[0m                                 Traceback (most recent call last)",
        "\u001b[1;32m<ipython-input-3-18e650fdadfc>\u001b[0m in \u001b[0;36mderiv\u001b[1;34m(theta_current, t)\u001b[0m\n\u001b[0;32m      5\u001b[0m     \u001b[0momega\u001b[0m \u001b[1;33m=\u001b[0m \u001b[0mtheta_current\u001b[0m\u001b[1;33m[\u001b[0m\u001b[1;36m1\u001b[0m\u001b[1;33m]\u001b[0m\u001b[1;33m\u001b[0m\u001b[0m\n\u001b[0;32m      6\u001b[0m     \u001b[0mdtheta\u001b[0m \u001b[1;33m=\u001b[0m \u001b[0momega\u001b[0m\u001b[1;33m\u001b[0m\u001b[0m\n\u001b[1;32m----> 7\u001b[1;33m     \u001b[0mdomega\u001b[0m \u001b[1;33m=\u001b[0m \u001b[1;33m-\u001b[0m\u001b[1;33m(\u001b[0m\u001b[0mg\u001b[0m\u001b[1;33m/\u001b[0m\u001b[0mell\u001b[0m\u001b[1;33m)\u001b[0m\u001b[1;33m*\u001b[0m\u001b[0mnp\u001b[0m\u001b[1;33m*\u001b[0m\u001b[0msin\u001b[0m\u001b[1;33m(\u001b[0m\u001b[0mtheta\u001b[0m\u001b[1;33m)\u001b[0m\u001b[1;33m\u001b[0m\u001b[0m\n\u001b[0m\u001b[0;32m      8\u001b[0m     \u001b[1;32mreturn\u001b[0m \u001b[0mnp\u001b[0m\u001b[1;33m.\u001b[0m\u001b[0marray\u001b[0m\u001b[1;33m(\u001b[0m\u001b[1;33m[\u001b[0m \u001b[0mdtheta\u001b[0m\u001b[1;33m,\u001b[0m \u001b[0mdomega\u001b[0m \u001b[1;33m]\u001b[0m\u001b[1;33m)\u001b[0m\u001b[1;33m\u001b[0m\u001b[0m\n",
        "\u001b[1;31mTypeError\u001b[0m: unsupported operand type(s) for *: 'float' and 'module'"
       ]
      },
      {
       "ename": "TypeError",
       "evalue": "unsupported operand type(s) for *: 'float' and 'module'",
       "output_type": "pyerr",
       "traceback": [
        "\u001b[1;31m---------------------------------------------------------------------------\u001b[0m\n\u001b[1;31mTypeError\u001b[0m                                 Traceback (most recent call last)",
        "\u001b[1;32m<ipython-input-3-18e650fdadfc>\u001b[0m in \u001b[0;36mderiv\u001b[1;34m(theta_current, t)\u001b[0m\n\u001b[0;32m      5\u001b[0m     \u001b[0momega\u001b[0m \u001b[1;33m=\u001b[0m \u001b[0mtheta_current\u001b[0m\u001b[1;33m[\u001b[0m\u001b[1;36m1\u001b[0m\u001b[1;33m]\u001b[0m\u001b[1;33m\u001b[0m\u001b[0m\n\u001b[0;32m      6\u001b[0m     \u001b[0mdtheta\u001b[0m \u001b[1;33m=\u001b[0m \u001b[0momega\u001b[0m\u001b[1;33m\u001b[0m\u001b[0m\n\u001b[1;32m----> 7\u001b[1;33m     \u001b[0mdomega\u001b[0m \u001b[1;33m=\u001b[0m \u001b[1;33m-\u001b[0m\u001b[1;33m(\u001b[0m\u001b[0mg\u001b[0m\u001b[1;33m/\u001b[0m\u001b[0mell\u001b[0m\u001b[1;33m)\u001b[0m\u001b[1;33m*\u001b[0m\u001b[0mnp\u001b[0m\u001b[1;33m*\u001b[0m\u001b[0msin\u001b[0m\u001b[1;33m(\u001b[0m\u001b[0mtheta\u001b[0m\u001b[1;33m)\u001b[0m\u001b[1;33m\u001b[0m\u001b[0m\n\u001b[0m\u001b[0;32m      8\u001b[0m     \u001b[1;32mreturn\u001b[0m \u001b[0mnp\u001b[0m\u001b[1;33m.\u001b[0m\u001b[0marray\u001b[0m\u001b[1;33m(\u001b[0m\u001b[1;33m[\u001b[0m \u001b[0mdtheta\u001b[0m\u001b[1;33m,\u001b[0m \u001b[0mdomega\u001b[0m \u001b[1;33m]\u001b[0m\u001b[1;33m)\u001b[0m\u001b[1;33m\u001b[0m\u001b[0m\n",
        "\u001b[1;31mTypeError\u001b[0m: unsupported operand type(s) for *: 'float' and 'module'"
       ]
      },
      {
       "ename": "TypeError",
       "evalue": "unsupported operand type(s) for *: 'float' and 'module'",
       "output_type": "pyerr",
       "traceback": [
        "\u001b[1;31m---------------------------------------------------------------------------\u001b[0m\n\u001b[1;31mTypeError\u001b[0m                                 Traceback (most recent call last)",
        "\u001b[1;32m<ipython-input-3-18e650fdadfc>\u001b[0m in \u001b[0;36mderiv\u001b[1;34m(theta_current, t)\u001b[0m\n\u001b[0;32m      5\u001b[0m     \u001b[0momega\u001b[0m \u001b[1;33m=\u001b[0m \u001b[0mtheta_current\u001b[0m\u001b[1;33m[\u001b[0m\u001b[1;36m1\u001b[0m\u001b[1;33m]\u001b[0m\u001b[1;33m\u001b[0m\u001b[0m\n\u001b[0;32m      6\u001b[0m     \u001b[0mdtheta\u001b[0m \u001b[1;33m=\u001b[0m \u001b[0momega\u001b[0m\u001b[1;33m\u001b[0m\u001b[0m\n\u001b[1;32m----> 7\u001b[1;33m     \u001b[0mdomega\u001b[0m \u001b[1;33m=\u001b[0m \u001b[1;33m-\u001b[0m\u001b[1;33m(\u001b[0m\u001b[0mg\u001b[0m\u001b[1;33m/\u001b[0m\u001b[0mell\u001b[0m\u001b[1;33m)\u001b[0m\u001b[1;33m*\u001b[0m\u001b[0mnp\u001b[0m\u001b[1;33m*\u001b[0m\u001b[0msin\u001b[0m\u001b[1;33m(\u001b[0m\u001b[0mtheta\u001b[0m\u001b[1;33m)\u001b[0m\u001b[1;33m\u001b[0m\u001b[0m\n\u001b[0m\u001b[0;32m      8\u001b[0m     \u001b[1;32mreturn\u001b[0m \u001b[0mnp\u001b[0m\u001b[1;33m.\u001b[0m\u001b[0marray\u001b[0m\u001b[1;33m(\u001b[0m\u001b[1;33m[\u001b[0m \u001b[0mdtheta\u001b[0m\u001b[1;33m,\u001b[0m \u001b[0mdomega\u001b[0m \u001b[1;33m]\u001b[0m\u001b[1;33m)\u001b[0m\u001b[1;33m\u001b[0m\u001b[0m\n",
        "\u001b[1;31mTypeError\u001b[0m: unsupported operand type(s) for *: 'float' and 'module'"
       ]
      },
      {
       "ename": "TypeError",
       "evalue": "unsupported operand type(s) for *: 'float' and 'module'",
       "output_type": "pyerr",
       "traceback": [
        "\u001b[1;31m---------------------------------------------------------------------------\u001b[0m\n\u001b[1;31mTypeError\u001b[0m                                 Traceback (most recent call last)",
        "\u001b[1;32m<ipython-input-3-18e650fdadfc>\u001b[0m in \u001b[0;36mderiv\u001b[1;34m(theta_current, t)\u001b[0m\n\u001b[0;32m      5\u001b[0m     \u001b[0momega\u001b[0m \u001b[1;33m=\u001b[0m \u001b[0mtheta_current\u001b[0m\u001b[1;33m[\u001b[0m\u001b[1;36m1\u001b[0m\u001b[1;33m]\u001b[0m\u001b[1;33m\u001b[0m\u001b[0m\n\u001b[0;32m      6\u001b[0m     \u001b[0mdtheta\u001b[0m \u001b[1;33m=\u001b[0m \u001b[0momega\u001b[0m\u001b[1;33m\u001b[0m\u001b[0m\n\u001b[1;32m----> 7\u001b[1;33m     \u001b[0mdomega\u001b[0m \u001b[1;33m=\u001b[0m \u001b[1;33m-\u001b[0m\u001b[1;33m(\u001b[0m\u001b[0mg\u001b[0m\u001b[1;33m/\u001b[0m\u001b[0mell\u001b[0m\u001b[1;33m)\u001b[0m\u001b[1;33m*\u001b[0m\u001b[0mnp\u001b[0m\u001b[1;33m*\u001b[0m\u001b[0msin\u001b[0m\u001b[1;33m(\u001b[0m\u001b[0mtheta\u001b[0m\u001b[1;33m)\u001b[0m\u001b[1;33m\u001b[0m\u001b[0m\n\u001b[0m\u001b[0;32m      8\u001b[0m     \u001b[1;32mreturn\u001b[0m \u001b[0mnp\u001b[0m\u001b[1;33m.\u001b[0m\u001b[0marray\u001b[0m\u001b[1;33m(\u001b[0m\u001b[1;33m[\u001b[0m \u001b[0mdtheta\u001b[0m\u001b[1;33m,\u001b[0m \u001b[0mdomega\u001b[0m \u001b[1;33m]\u001b[0m\u001b[1;33m)\u001b[0m\u001b[1;33m\u001b[0m\u001b[0m\n",
        "\u001b[1;31mTypeError\u001b[0m: unsupported operand type(s) for *: 'float' and 'module'"
       ]
      }
     ],
     "prompt_number": 5
    },
    {
     "cell_type": "code",
     "collapsed": false,
     "input": [
      "print theta.shape"
     ],
     "language": "python",
     "metadata": {},
     "outputs": []
    },
    {
     "cell_type": "code",
     "collapsed": false,
     "input": [
      "plt.plot(t,theta_app(t),'b-',label=\"Approximate solution\")\n",
      "plt.plot(t,theta[:,0],'r--',label=\"Numerical solution\")\n",
      "plt.xlabel(r'$t (seconds)$',fontsize=20)\n",
      "plt.ylabel(r'$\\theta (rad)$',fontsize=20)\n",
      "plt.ylim(-1,1.5)\n",
      "plt.grid()\n",
      "plt.legend()\n",
      "plt.show()"
     ],
     "language": "python",
     "metadata": {},
     "outputs": []
    },
    {
     "cell_type": "code",
     "collapsed": false,
     "input": [
      "th0 = 50.*np.pi/180 # 50 degrees\n",
      "\n",
      "theta_init = np.array([th0, omega0]) # initial values\n",
      "theta = odeint(deriv,theta_init,t)\n",
      "\n",
      "plt.plot(t,theta_app(t),'b-',label=\"Approximate solution\")\n",
      "plt.plot(t,theta[:,0],'r--',label=\"Numerical solution\")\n",
      "plt.xlabel(r'$t (seconds)$',fontsize=20)\n",
      "plt.ylabel(r'$\\theta (rad)$',fontsize=20)\n",
      "plt.ylim(-1.,1.5)\n",
      "plt.grid()\n",
      "plt.legend()\n",
      "plt.show()"
     ],
     "language": "python",
     "metadata": {},
     "outputs": []
    },
    {
     "cell_type": "heading",
     "level": 2,
     "metadata": {},
     "source": [
      "Making physics come alive"
     ]
    },
    {
     "cell_type": "code",
     "collapsed": false,
     "input": [
      "from IPython.html.widgets import interact, interactive"
     ],
     "language": "python",
     "metadata": {},
     "outputs": []
    },
    {
     "cell_type": "code",
     "collapsed": false,
     "input": [
      "def derivSP(thetaIn,t,g,ell):  # return derivatives of the array theta\n",
      "    theta = thetaIn[0]\n",
      "    omega = thetaIn[1]\n",
      "    dtheta = omega\n",
      "    domega = -(g/ell)*np.sin(theta)\n",
      "    return array([ dtheta, domega ])\n",
      "\n",
      "\n",
      "def simplePendulum(th0=20.,w0=0.,ell=0.5,g=9.8):\n",
      "\n",
      "    t = np.arange(0.,10.+0.01,0.01)\n",
      "\n",
      "    #Approximate analytic solution for comparison\n",
      "    approx = th0*np.pi/180*np.cos(np.sqrt(g/ell)*t)\n",
      "  \n",
      "    #convert degrees to radians\n",
      "    initVals = np.array([th0*np.pi/180,w0])\n",
      "\n",
      "    #pass the function deriv to the solver with initial values and integration variable\n",
      "    theta = odeint(derivSP,initVals,t,args=(g,ell)) \n",
      "    #theta[:,0] are the positions\n",
      "    #theta[:,1] are the angular velocities\n",
      "    \n",
      "    #Plot the results\n",
      "    plt.plot(t,approx,label='Approximate solution')\n",
      "    plt.plot(t,theta[:,0],label='Numerical solution')\n",
      "    plt.xlabel(r'$t (seconds)$',fontsize=20)\n",
      "    plt.ylabel(r'$\\theta (rad)$',fontsize=20)\n",
      "    #plt.ylim(-2.,2.)\n",
      "    plt.grid()\n",
      "    plt.legend()\n",
      "    plt.show()\n",
      "\n",
      "    \n",
      "v = interact(simplePendulum,th0=(0.,90.),w0=(0.,10.),ell=(0.1,1.0),g=(1.0,20.0))"
     ],
     "language": "python",
     "metadata": {},
     "outputs": []
    },
    {
     "cell_type": "heading",
     "level": 2,
     "metadata": {},
     "source": [
      "Breaking into the black box"
     ]
    },
    {
     "cell_type": "heading",
     "level": 3,
     "metadata": {},
     "source": [
      "Free-fall as an example"
     ]
    },
    {
     "cell_type": "code",
     "collapsed": false,
     "input": [
      "def EulerFreefall():\n",
      "    tmax = 10 # maximum time\n",
      "    dt = 0.1 # time step\n",
      "    a = -9.81 #g in m/s^2\n",
      "    nsteps = int(tmax/dt)\n",
      "    t = np.zeros(nsteps)\n",
      "    v = np.zeros(nsteps)\n",
      "    y = np.zeros(nsteps)\n",
      " \n",
      "    # set initial conditions, redundant in this example\n",
      "    t[0] = 0.\n",
      "    v[0] = 0.\n",
      "\n",
      "    for i in range(len(t)-1):\n",
      "        t[i+1] = t[i] + dt\n",
      "        v[i+1] = v[i] + dt * a\n",
      "        y[i+1] = y[i] + dt * v[i]\n",
      "        \n",
      "    return t,v,y\n",
      "\n",
      "te,ve,ye = EulerFreefall()"
     ],
     "language": "python",
     "metadata": {},
     "outputs": []
    },
    {
     "cell_type": "code",
     "collapsed": false,
     "input": [
      "plt.plot(te,ye,\"r-\",label=\"y(t)\")\n",
      "plt.plot(te,ve,\"b-\",label=\"v(t)\")\n",
      "plt.xlabel(\"time (s)\",fontsize=20)\n",
      "plt.ylabel(\"y(t),v(t)\",fontsize=20)\n",
      "plt.grid()\n",
      "plt.legend(loc=\"best\", fontsize=20)\n",
      "plt.show()"
     ],
     "language": "python",
     "metadata": {},
     "outputs": []
    },
    {
     "cell_type": "heading",
     "level": 3,
     "metadata": {},
     "source": [
      "Exploring the parameter space"
     ]
    },
    {
     "cell_type": "code",
     "collapsed": false,
     "input": [
      "def freefall(tmax=10.,dt=0.1,t0=0.,v0=46.,y0=0.):\n",
      "    a = -9.81 #g in m/s^2\n",
      "\n",
      "    #Set up the arrays based on the time parameters\n",
      "    t = np.zeros(int(tmax/dt))\n",
      "    v = np.zeros(int(tmax/dt))\n",
      "    y = np.zeros(int(tmax/dt))\n",
      "\n",
      "    #set up initial conditions from the parameters\n",
      "    t[0] = t0\n",
      "    v[0] = v0\n",
      "    y[0] = y0\n",
      "\n",
      "    #Apply Euler's method to solve\n",
      "    for i in range(len(t)-1):\n",
      "        t[i+1] = t[i] + dt\n",
      "        v[i+1] = v[i] + dt * a\n",
      "        y[i+1] = y[i] + dt * v[i]\n",
      "    \n",
      "    #Compare to the analytical result for ymax\n",
      "    tmax = -v0/a\n",
      "    ymax = y0 + v0*tmax + 0.5*a*tmax**2\n",
      "    percentDiff = 100.*np.abs(y.max()-ymax)/ymax\n",
      "    print \"ymax percentDiff = %.2f\"%percentDiff\n",
      "    #plot it\n",
      "    plt.plot(t,y,\"r-\",label=\"y(t)\")\n",
      "    plt.plot(t,v,\"b-\",label=\"v(t)\")\n",
      "    plt.xlabel(\"time (s)\",fontsize=20)\n",
      "    plt.ylabel(\"y(t),v(t)\",fontsize=20)\n",
      "    plt.xlim(0,20.)\n",
      "    plt.ylim(-100.,600.)\n",
      "    plt.grid()\n",
      "    plt.legend(loc=\"upper left\", bbox_to_anchor=(1,1), fontsize=20)\n",
      "    plt.show()"
     ],
     "language": "python",
     "metadata": {},
     "outputs": []
    },
    {
     "cell_type": "code",
     "collapsed": false,
     "input": [
      "v4 = interact(freefall,tmax=(1.,20.),dt=(0.01,1.,0.01),t0=(0.,20.),v0=(10.,100.),y0=(0.,10.0))"
     ],
     "language": "python",
     "metadata": {},
     "outputs": []
    },
    {
     "cell_type": "heading",
     "level": 3,
     "metadata": {},
     "source": [
      "Euler-Cromer Method"
     ]
    },
    {
     "cell_type": "code",
     "collapsed": false,
     "input": [
      "def EulerCromerFreefall():\n",
      "    tmax = 10 # maximum time\n",
      "    dt = 0.1 # time step\n",
      "    a = -9.81 #g in m/s^2\n",
      "    nsteps = int(tmax/dt)\n",
      "    t = np.zeros(nsteps)\n",
      "    v = np.zeros(nsteps)\n",
      "    y = np.zeros(nsteps)\n",
      " \n",
      "    # set initial conditions, redundant in this example\n",
      "    t[0] = 0.\n",
      "    v[0] = 0.\n",
      "\n",
      "    for i in range(len(t)-1):\n",
      "        t[i+1] = t[i] + dt\n",
      "        v[i+1] = v[i] + dt * a\n",
      "        y[i+1] = y[i] + dt * v[i+1] #use just calculated v value to compute y\n",
      "        \n",
      "    return t,v,y"
     ],
     "language": "python",
     "metadata": {},
     "outputs": [],
     "prompt_number": 6
    },
    {
     "cell_type": "code",
     "collapsed": false,
     "input": [
      "tec,vec,yec = EulerCromerFreefall()"
     ],
     "language": "python",
     "metadata": {},
     "outputs": [],
     "prompt_number": 7
    },
    {
     "cell_type": "code",
     "collapsed": false,
     "input": [
      "plt.plot(tec,yec,\"r-\",label=\"y(t)\")\n",
      "plt.plot(tec,vec,\"b-\",label=\"v(t)\")\n",
      "plt.xlabel(\"time (s)\",fontsize=20)\n",
      "plt.ylabel(\"y(t),v(t)\",fontsize=20)\n",
      "plt.grid()\n",
      "plt.title(\"Euler-Cromer\")\n",
      "plt.legend(loc=\"best\", fontsize=20)\n",
      "plt.show()"
     ],
     "language": "python",
     "metadata": {},
     "outputs": [
      {
       "metadata": {},
       "output_type": "display_data",
       "png": "[encoded data removed]",
       "text": [
        "<matplotlib.figure.Figure at 0x3b24780>"
       ]
      }
     ],
     "prompt_number": 8
    },
    {
     "cell_type": "heading",
     "level": 3,
     "metadata": {},
     "source": [
      "One last example - coupled differential equations"
     ]
    },
    {
     "cell_type": "code",
     "collapsed": false,
     "input": [
      "# we want to solve the system dy/dt = f(y, t)\n",
      "def PPderiv(y,t):\n",
      "    \n",
      "    alpha = 0.7\n",
      "    gamma = 0.5\n",
      "    beta = 0.007\n",
      "    eps = 0.1\n",
      "    \n",
      "    Zi = y[0]\n",
      "    Li = y[1]\n",
      "    \n",
      "    dZdt = alpha*Zi - beta*Zi*Li\n",
      "    dLdt = eps*beta*Zi*Li - gamma*Li\n",
      "    \n",
      "    return np.array([ dZdt, dLdt ])"
     ],
     "language": "python",
     "metadata": {},
     "outputs": []
    },
    {
     "cell_type": "code",
     "collapsed": false,
     "input": [
      "#50 year span\n",
      "t = np.arange(0.,50.+0.1,0.1)\n",
      "\n",
      "#initial conditions\n",
      "Z0 = 200\n",
      "L0 = 50\n",
      "\n",
      "#pass the function deriv to the solver with initial values and integration variable\n",
      "result = odeint(PPderiv,np.array([Z0,L0]),t)\n",
      "\n",
      "Z = result[:,0]\n",
      "L = result[:,1]\n",
      "\n",
      "plt.plot(t,Z,label=\"Zebra population\")\n",
      "plt.plot(t,L,label=\"Lion population\")\n",
      "plt.xlabel(\"time (years)\")\n",
      "plt.ylabel(\"Population\")\n",
      "plt.legend()\n",
      "plt.show()"
     ],
     "language": "python",
     "metadata": {},
     "outputs": []
    },
    {
     "cell_type": "code",
     "collapsed": false,
     "input": [
      "res1 = odeint(PPderiv,np.array([100,50]),t)\n",
      "res2 = odeint(PPderiv,np.array([300,50]),t)\n",
      "plt.plot(res1[:,0],res1[:,1],label=\"Z$_0$ = 100, L$_0$ = 50\")\n",
      "plt.plot(Z,L,label=\"Z$_0$ = 200, L$_0$ = 50\")\n",
      "plt.plot(res2[:,0],res2[:,1],label=\"Z$_0$ = 300, L$_0$ = 50\")\n",
      "plt.xlabel(\"Zebras\",fontsize=20)\n",
      "plt.ylabel(\"Lions\",fontsize=20)\n",
      "plt.legend()\n",
      "plt.show()"
     ],
     "language": "python",
     "metadata": {},
     "outputs": []
    },
    {
     "cell_type": "code",
     "collapsed": false,
     "input": [],
     "language": "python",
     "metadata": {},
     "outputs": []
    }
   ],
   "metadata": {}
  }
 ]
}