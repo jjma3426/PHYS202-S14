{
 "metadata": {
  "name": "",
  "signature": "sha256:a68b3ad818d98c54f2590a25677aaebd6d2db91bf7380c24aa0c6498807e0d0c"
 },
 "nbformat": 3,
 "nbformat_minor": 0,
 "worksheets": [
  {
   "cells": [
    {
     "cell_type": "heading",
     "level": 1,
     "metadata": {},
     "source": [
      "Differentiation Exercises"
     ]
    },
    {
     "cell_type": "markdown",
     "metadata": {},
     "source": [
      "1) \n",
      "a) Write two functions called twoPtForwardDiff(x,y) and twoPtCenteredDiff(x,y) that take as arguments arrays of values x and y(x) and return the derivatives of y with respect to x. Make sure that the arrays returned by the function have the same shape as the input arrays."
     ]
    },
    {
     "cell_type": "code",
     "collapsed": false,
     "input": [
      "%pylab inline\n",
      "import numpy as np\n",
      "import matplotlib.pyplot as plt\n",
      " \n",
      "def twoPtForwardDiff(x,y):\n",
      "    dydx = np.zeros(y.shape,float) \n",
      "    dydx[0:-1] = np.diff(y)/np.diff(x)\n",
      "    dydx[-1] = (y[1]-y[0])/(x[1]-x[0])\n",
      "    return dydx\n",
      "\n",
      "def twoPtCenteredDiff(x,y):\n",
      "    dydx = np.zeros(y.shape,float) \n",
      "    dydx[1:-1] = (y[2:] - y[:-2])/(x[2:] - x[:-2])\n",
      "    dydx[0] = (y[1]-y[0])/(x[1]-x[0]) \n",
      "    dydx[-1] = (y[-1] - y[-2])/(x[-1] - x[-2]) \n",
      "    return dydx\n",
      "    "
     ],
     "language": "python",
     "metadata": {},
     "outputs": [
      {
       "output_type": "stream",
       "stream": "stdout",
       "text": [
        "Populating the interactive namespace from numpy and matplotlib\n"
       ]
      }
     ],
     "prompt_number": 2
    },
    {
     "cell_type": "markdown",
     "metadata": {},
     "source": [
      "(b) Use your functions to take the derivative of the function y=8x4+3x over the range 0 x 10, with steps of 0.1. How do you know they work correctly? (Hint: compare to the analytical result)."
     ]
    },
    {
     "cell_type": "code",
     "collapsed": false,
     "input": [
      "x = np.arange(0.,10.0,0.02)\n",
      "y = 8*x**4 + 3*x\n",
      "\n",
      "dydxf = twoPtCenteredDiff(x,y)\n",
      "dydxc = twoPtForwardDiff(x,y)"
     ],
     "language": "python",
     "metadata": {},
     "outputs": [],
     "prompt_number": 3
    },
    {
     "cell_type": "markdown",
     "metadata": {},
     "source": [
      "c) What is the accuracy of the results if you use a spacing of 0.01? (Plot the relative error)"
     ]
    },
    {
     "cell_type": "code",
     "collapsed": false,
     "input": [
      "x = np.arange(0.,10.0,0.02)\n",
      "y = 8*x**4 + 3*x\n",
      "dydxExact = 32*x**3 + 3\n",
      "\n",
      "percentError1 = 100*abs( dydxf[1:] - dydxExact[1:] )/dydxExact[1:]\n",
      "percentError2 = 100*abs( dydxc[1:] - dydxExact[1:] )/dydxExact[1:]\n",
      "\n",
      "plt.semilogy(x[1:], percentError1, label='forward difference')\n",
      "plt.semilogy(x[1:], percentError2, label='center difference')\n",
      "plt.ylabel(\"percent error with dydxExact\")\n",
      "plt.legend(loc=\"upper right\")\n",
      "plt.show()"
     ],
     "language": "python",
     "metadata": {},
     "outputs": [
      {
       "metadata": {},
       "output_type": "display_data",
       "png": "[encoded data removed]",
       "text": [
        "<matplotlib.figure.Figure at 0x9fa8da0>"
       ]
      }
     ],
     "prompt_number": 4
    },
    {
     "cell_type": "markdown",
     "metadata": {},
     "source": [
      "d) For what minimum spacing is the 2pt-centered difference derivative accurate to 5 significant figures over its full range (excluding the last point)?"
     ]
    },
    {
     "cell_type": "code",
     "collapsed": false,
     "input": [
      "x = np.arange(0.,10.0,0.02)\n",
      "y = 8*x**4 + 3*x\n",
      "dydxExact = 32*x**3 + 3\n",
      "percentError2 = 100*abs( dydxc[1:] - dydxExact[1:] )/dydxExact[1:]\n",
      "print percentError2"
     ],
     "language": "python",
     "metadata": {},
     "outputs": [
      {
       "output_type": "stream",
       "stream": "stdout",
       "text": [
        "[  2.34646643e-02   7.03519731e-02   1.42604772e-01   2.39757272e-01\n",
        "   3.60949868e-01   5.04828337e-01   6.69471677e-01   8.52359831e-01\n",
        "   1.05039063e+00   1.25995086e+00   1.47703979e+00   1.69743618e+00\n",
        "   1.91689273e+00   2.13133740e+00   2.33706004e+00   2.53086517e+00\n",
        "   2.71017782e+00   2.87309659e+00   3.01839566e+00   3.14548336e+00\n",
        "   3.25432858e+00   3.34536757e+00   3.41940278e+00   3.47750340e+00\n",
        "   3.52091429e+00   3.55097756e+00   3.56906860e+00   3.57654641e+00\n",
        "   3.57471734e+00   3.56481033e+00   3.54796162e+00   3.52520694e+00\n",
        "   3.49747932e+00   3.46561093e+00   3.43033772e+00   3.39230575e+00\n",
        "   3.35207847e+00   3.31014443e+00   3.26692498e+00   3.22278168e+00\n",
        "   3.17802325e+00   3.13291204e+00   3.08766987e+00   3.04248331e+00\n",
        "   2.99750836e+00   2.95287459e+00   2.90868885e+00   2.86503844e+00\n",
        "   2.82199389e+00   2.77961143e+00   2.73793506e+00   2.69699839e+00\n",
        "   2.65682622e+00   2.61743588e+00   2.57883839e+00   2.54103950e+00\n",
        "   2.50404052e+00   2.46783904e+00   2.43242963e+00   2.39780431e+00\n",
        "   2.36395304e+00   2.33086413e+00   2.29852454e+00   2.26692020e+00\n",
        "   2.23603623e+00   2.20585716e+00   2.17636710e+00   2.14754987e+00\n",
        "   2.11938914e+00   2.09186856e+00   2.06497177e+00   2.03868256e+00\n",
        "   2.01298487e+00   1.98786284e+00   1.96330090e+00   1.93928374e+00\n",
        "   1.91579636e+00   1.89282411e+00   1.87035266e+00   1.84836804e+00\n",
        "   1.82685665e+00   1.80580523e+00   1.78520092e+00   1.76503118e+00\n",
        "   1.74528387e+00   1.72594718e+00   1.70700966e+00   1.68846021e+00\n",
        "   1.67028807e+00   1.65248281e+00   1.63503431e+00   1.61793279e+00\n",
        "   1.60116876e+00   1.58473304e+00   1.56861673e+00   1.55281123e+00\n",
        "   1.53730818e+00   1.52209953e+00   1.50717744e+00   1.49253436e+00\n",
        "   1.47816296e+00   1.46405614e+00   1.45020704e+00   1.43660899e+00\n",
        "   1.42325557e+00   1.41014052e+00   1.39725780e+00   1.38460156e+00\n",
        "   1.37216613e+00   1.35994601e+00   1.34793587e+00   1.33613055e+00\n",
        "   1.32452505e+00   1.31311452e+00   1.30189426e+00   1.29085970e+00\n",
        "   1.28000642e+00   1.26933014e+00   1.25882669e+00   1.24849203e+00\n",
        "   1.23832225e+00   1.22831355e+00   1.21846223e+00   1.20876470e+00\n",
        "   1.19921750e+00   1.18981723e+00   1.18056062e+00   1.17144448e+00\n",
        "   1.16246571e+00   1.15362130e+00   1.14490833e+00   1.13632394e+00\n",
        "   1.12786538e+00   1.11952996e+00   1.11131505e+00   1.10321813e+00\n",
        "   1.09523671e+00   1.08736838e+00   1.07961081e+00   1.07196172e+00\n",
        "   1.06441887e+00   1.05698013e+00   1.04964337e+00   1.04240656e+00\n",
        "   1.03526769e+00   1.02822482e+00   1.02127607e+00   1.01441958e+00\n",
        "   1.00765355e+00   1.00097624e+00   9.94385932e-01   9.87880963e-01\n",
        "   9.81459709e-01   9.75120584e-01   9.68862045e-01   9.62682584e-01\n",
        "   9.56580730e-01   9.50555048e-01   9.44604139e-01   9.38726635e-01\n",
        "   9.32921203e-01   9.27186539e-01   9.21521373e-01   9.15924462e-01\n",
        "   9.10394594e-01   9.04930583e-01   8.99531272e-01   8.94195531e-01\n",
        "   8.88922255e-01   8.83710364e-01   8.78558803e-01   8.73466539e-01\n",
        "   8.68432565e-01   8.63455895e-01   8.58535564e-01   8.53670629e-01\n",
        "   8.48860169e-01   8.44103281e-01   8.39399082e-01   8.34746710e-01\n",
        "   8.30145319e-01   8.25594083e-01   8.21092192e-01   8.16638855e-01\n",
        "   8.12233296e-01   8.07874756e-01   8.03562491e-01   7.99295775e-01\n",
        "   7.95073893e-01   7.90896149e-01   7.86761858e-01   7.82670351e-01\n",
        "   7.78620970e-01   7.74613074e-01   7.70646031e-01   7.66719225e-01\n",
        "   7.62832050e-01   7.58983913e-01   7.55174233e-01   7.51402438e-01\n",
        "   7.47667970e-01   7.43970281e-01   7.40308834e-01   7.36683100e-01\n",
        "   7.33092564e-01   7.29536717e-01   7.26015062e-01   7.22527111e-01\n",
        "   7.19072384e-01   7.15650413e-01   7.12260735e-01   7.08902897e-01\n",
        "   7.05576456e-01   7.02280976e-01   6.99016027e-01   6.95781190e-01\n",
        "   6.92576052e-01   6.89400208e-01   6.86253259e-01   6.83134815e-01\n",
        "   6.80044493e-01   6.76981914e-01   6.73946709e-01   6.70938514e-01\n",
        "   6.67956972e-01   6.65001730e-01   6.62072445e-01   6.59168776e-01\n",
        "   6.56290392e-01   6.53436964e-01   6.50608170e-01   6.47803693e-01\n",
        "   6.45023224e-01   6.42266456e-01   6.39533088e-01   6.36822825e-01\n",
        "   6.34135375e-01   6.31470454e-01   6.28827781e-01   6.26207077e-01\n",
        "   6.23608073e-01   6.21030499e-01   6.18474094e-01   6.15938598e-01\n",
        "   6.13423756e-01   6.10929319e-01   6.08455039e-01   6.06000674e-01\n",
        "   6.03565985e-01   6.01150737e-01   5.98754699e-01   5.96377643e-01\n",
        "   5.94019346e-01   5.91679587e-01   5.89358148e-01   5.87054816e-01\n",
        "   5.84769381e-01   5.82501634e-01   5.80251374e-01   5.78018397e-01\n",
        "   5.75802507e-01   5.73603509e-01   5.71421210e-01   5.69255422e-01\n",
        "   5.67105959e-01   5.64972636e-01   5.62855274e-01   5.60753695e-01\n",
        "   5.58667722e-01   5.56597184e-01   5.54541910e-01   5.52501732e-01\n",
        "   5.50476485e-01   5.48466005e-01   5.46470133e-01   5.44488710e-01\n",
        "   5.42521581e-01   5.40568590e-01   5.38629587e-01   5.36704423e-01\n",
        "   5.34792950e-01   5.32895022e-01   5.31010497e-01   5.29139234e-01\n",
        "   5.27281093e-01   5.25435936e-01   5.23603630e-01   5.21784039e-01\n",
        "   5.19977033e-01   5.18182482e-01   5.16400257e-01   5.14630232e-01\n",
        "   5.12872283e-01   5.11126286e-01   5.09392121e-01   5.07669668e-01\n",
        "   5.05958808e-01   5.04259426e-01   5.02571406e-01   5.00894635e-01\n",
        "   4.99229001e-01   4.97574394e-01   4.95930704e-01   4.94297825e-01\n",
        "   4.92675650e-01   4.91064074e-01   4.89462994e-01   4.87872308e-01\n",
        "   4.86291916e-01   4.84721717e-01   4.83161614e-01   4.81611509e-01\n",
        "   4.80071308e-01   4.78540915e-01   4.77020238e-01   4.75509183e-01\n",
        "   4.74007662e-01   4.72515582e-01   4.71032857e-01   4.69559398e-01\n",
        "   4.68095119e-01   4.66639934e-01   4.65193759e-01   4.63756512e-01\n",
        "   4.62328108e-01   4.60908468e-01   4.59497511e-01   4.58095158e-01\n",
        "   4.56701329e-01   4.55315949e-01   4.53938940e-01   4.52570227e-01\n",
        "   4.51209735e-01   4.49857391e-01   4.48513121e-01   4.47176854e-01\n",
        "   4.45848518e-01   4.44528043e-01   4.43215360e-01   4.41910400e-01\n",
        "   4.40613095e-01   4.39323378e-01   4.38041182e-01   4.36766442e-01\n",
        "   4.35499094e-01   4.34239073e-01   4.32986317e-01   4.31740761e-01\n",
        "   4.30502346e-01   4.29271008e-01   4.28046689e-01   4.26829328e-01\n",
        "   4.25618866e-01   4.24415245e-01   4.23218407e-01   4.22028295e-01\n",
        "   4.20844852e-01   4.19668023e-01   4.18497752e-01   4.17333984e-01\n",
        "   4.16176667e-01   4.15025745e-01   4.13881167e-01   4.12742880e-01\n",
        "   4.11610833e-01   4.10484974e-01   4.09365253e-01   4.08251620e-01\n",
        "   4.07144025e-01   4.06042420e-01   4.04946755e-01   4.03856984e-01\n",
        "   4.02773059e-01   4.01694932e-01   4.00622558e-01   3.99555891e-01\n",
        "   3.98494884e-01   3.97439494e-01   3.96389676e-01   3.95345386e-01\n",
        "   3.94306581e-01   3.93273217e-01   3.92245251e-01   3.91222642e-01\n",
        "   3.90205348e-01   3.89193328e-01   3.88186540e-01   3.87184945e-01\n",
        "   3.86188501e-01   3.85197171e-01   3.84210913e-01   3.83229691e-01\n",
        "   3.82253464e-01   3.81282196e-01   3.80315848e-01   3.79354383e-01\n",
        "   3.78397765e-01   3.77445956e-01   3.76498921e-01   3.75556624e-01\n",
        "   3.74619029e-01   3.73686102e-01   3.72757807e-01   3.71834110e-01\n",
        "   3.70914978e-01   3.70000376e-01   3.69090270e-01   3.68184629e-01\n",
        "   3.67283419e-01   3.66386608e-01   3.65494163e-01   3.64606054e-01\n",
        "   3.63722247e-01   3.62842713e-01   3.61967421e-01   3.61096339e-01\n",
        "   3.60229437e-01   3.59366686e-01   3.58508056e-01   3.57653517e-01\n",
        "   3.56803040e-01   3.55956596e-01   3.55114157e-01   3.54275695e-01\n",
        "   3.53441180e-01   3.52610586e-01   3.51783885e-01   3.50961050e-01\n",
        "   3.50142053e-01   3.49326868e-01   3.48515469e-01   3.47707828e-01\n",
        "   3.46903920e-01   3.46103720e-01   3.45307201e-01   3.44514338e-01\n",
        "   3.43725106e-01   3.42939480e-01   3.42157437e-01   3.41378950e-01\n",
        "   3.40603996e-01   3.39832551e-01   3.39064592e-01   3.38300094e-01\n",
        "   3.37539035e-01   3.36781390e-01   3.36027138e-01   3.35276256e-01\n",
        "   3.34528721e-01   3.33784510e-01   3.33043602e-01   3.32305974e-01\n",
        "   3.31571606e-01   3.30840475e-01   3.30112560e-01   3.29387840e-01\n",
        "   3.28666294e-01   3.27947901e-01   3.27232640e-01   3.26520492e-01\n",
        "   3.25811435e-01   3.25105450e-01   3.24402517e-01   3.23702616e-01\n",
        "   3.23005728e-01   3.22311833e-01   3.21620911e-01   3.20932945e-01\n",
        "   3.20247914e-01   3.19565800e-01   3.18886585e-01   3.18210251e-01\n",
        "   3.17536778e-01   3.16866149e-01   3.16198345e-01   3.15533350e-01\n",
        "   3.14871145e-01   3.14211713e-01   3.13555036e-01   3.12901098e-01\n",
        "   3.12249880e-01   3.11601367e-01   3.10955541e-01   3.10312386e-01\n",
        "   3.09671885e-01   3.09034022e-01   3.08398780e-01   3.07766144e-01\n",
        "   3.07136097e-01   3.06508624e-01   3.05883709e-01   3.05261335e-01\n",
        "   3.04641489e-01   3.04024154e-01   3.03409315e-01   3.02796958e-01\n",
        "   3.02187066e-01   3.01579626e-01   9.99905692e+01]\n"
       ]
      }
     ],
     "prompt_number": 5
    },
    {
     "cell_type": "markdown",
     "metadata": {},
     "source": [
      "2 ) Numerical differentiation plays an important role in fast electronic signal processing in many experimental contexts, such as the data acquisition systems of high energy particle and nuclear physics. The data collected is often a series of fast time samples of energy deposited in a detector by a fast-moving charged particle. The sheer volume of data can be enormous, so some signal processing within the electronics chain is necessary to reduce the size of the collected dataset.\n",
      "\n",
      "Due to the stochastic nature of the particle interactions and the inherent noise in the readout electronics, these signals can be very noisy. Unfortunately, numerical differentiation can amplify these fluctuations. By choosing your differentiation algorithm carefully, you can minimize the impact of these fluctuations on the collected signals.\n",
      "\n",
      "Generate and plot an example of a noisy sinusoidally varying dataset with the following:"
     ]
    },
    {
     "cell_type": "code",
     "collapsed": false,
     "input": [
      "x = np.linspace(0,2*pi,100)\n",
      "y = np.sin(x) + 0.1*random.random(size=x.shape)"
     ],
     "language": "python",
     "metadata": {},
     "outputs": [],
     "prompt_number": 6
    },
    {
     "cell_type": "markdown",
     "metadata": {},
     "source": [
      "(a) Now that we do not control the spacing of the data points, we have to use higher order differencing methods to reach a smoother and more accurate derivative. The four-point center differencing method is defined by\n",
      "\n",
      "dydx[i]\u2243y[i\u22122]\u22128y[i\u22121]+8y[i+1]\u2212y[i+2]12h\n",
      "\n",
      "where h is the spacing between points on the x axis (assumed to be equal). This comes from keeping higher order terms from the Taylor expansion used to define the derivative. This method can be used to obtain dydx[2:-2]. In order to calculate values for dydx[0], dydx[1], dydx[-1] and dydx[-2] you must use the lowest order finite difference method (like the ones you defined in your twoPtForwardDiff(x,y) and twoPtCenteredDiff(x,y) functions). Create another function, fourPtCenteredDiff(x,y), that computes the derivative using the higher order method above. Test that it works for y=8x4+3x and plot the relative error from the analytical result."
     ]
    },
    {
     "cell_type": "code",
     "collapsed": false,
     "input": [
      "def fourPtCenteredDiff(x,y):\n",
      "    dydx = np.zeros(y.shape,float) \n",
      "    dydx[2:-2] = (y[:-4] - 8*y[1:-3] + 8*y[3:-1] - y[4:])/(12*(x[2]-x[1]))\n",
      "    dydx[1] = (y[2]-y[1])/(x[2]-x[1]) \n",
      "    dydx[0] = (y[1]-y[0])/(x[1]-x[0]) \n",
      "    dydx[-1] = (y[-1] - y[-2])/(x[-1] - x[-2]) \n",
      "    dydx[-2] = (y[-2] - y[-3])/(x[-2] - x[-3]) \n",
      "    return dydx\n",
      "\n",
      "x = np.arange(0.,10.0,0.1)\n",
      "y = 8*x**4 + 3*x\n",
      "\n",
      "\n",
      "dydx4 = fourPtCenteredDiff(x,y)\n",
      "dydxE = 32*x**3 + 3\n",
      "\n",
      "percentError = 100*abs(dydx4[1:] - dydxE[1:])/dydxE[1:]\n",
      "plt.plot(x[3:-2],percentError[2:-2],label='fourPtCenteredDiff')\n",
      "plt.show()\n",
      "print percentError[0:3],dydx4[1:4],dydxE[1:4]"
     ],
     "language": "python",
     "metadata": {},
     "outputs": [
      {
       "metadata": {},
       "output_type": "display_data",
       "png": "[encoded data removed]",
       "text": [
        "<matplotlib.figure.Figure at 0x3b71518>"
       ]
      },
      {
       "output_type": "stream",
       "stream": "stdout",
       "text": [
        "[ 2.90237467  0.          0.        ] [ 3.12   3.256  3.864] [ 3.032  3.256  3.864]\n"
       ]
      }
     ],
     "prompt_number": 7
    },
    {
     "cell_type": "markdown",
     "metadata": {},
     "source": [
      "(b) Now plot the noisy sine function along with the derivatives computed analytically, using the lowest order forward finite difference method and the four-point centered difference. Your result should look something like the plot shown here:"
     ]
    },
    {
     "cell_type": "code",
     "collapsed": false,
     "input": [
      "x = np.arange(0., 10.0, 0.01)\n",
      "y = 8*x**4 + 3*x\n",
      "\n",
      "dydx4 = fourPtCenteredDiff(x,y)\n",
      "dydx2 = twoPtCenteredDiff(x,y)\n",
      "\n",
      "plt.plot(x,dydx4,label='Four Point Approximation')\n",
      "plt.plot(x,dydx2,label='Two Point Approximation')\n",
      "plt.plot(x,dydxE,label='Exact')\n",
      "plt.legend(loc='upper left')\n",
      "plt.show()"
     ],
     "language": "python",
     "metadata": {},
     "outputs": [
      {
       "ename": "ValueError",
       "evalue": "x and y must have same first dimension",
       "output_type": "pyerr",
       "traceback": [
        "\u001b[1;31m---------------------------------------------------------------------------\u001b[0m\n\u001b[1;31mValueError\u001b[0m                                Traceback (most recent call last)",
        "\u001b[1;32m<ipython-input-26-d8cd25409ade>\u001b[0m in \u001b[0;36m<module>\u001b[1;34m()\u001b[0m\n\u001b[0;32m      7\u001b[0m \u001b[0mplt\u001b[0m\u001b[1;33m.\u001b[0m\u001b[0mplot\u001b[0m\u001b[1;33m(\u001b[0m\u001b[0mx\u001b[0m\u001b[1;33m,\u001b[0m\u001b[0mdydx4\u001b[0m\u001b[1;33m,\u001b[0m\u001b[0mlabel\u001b[0m\u001b[1;33m=\u001b[0m\u001b[1;34m'Four Point Approximation'\u001b[0m\u001b[1;33m)\u001b[0m\u001b[1;33m\u001b[0m\u001b[0m\n\u001b[0;32m      8\u001b[0m \u001b[0mplt\u001b[0m\u001b[1;33m.\u001b[0m\u001b[0mplot\u001b[0m\u001b[1;33m(\u001b[0m\u001b[0mx\u001b[0m\u001b[1;33m,\u001b[0m\u001b[0mdydx2\u001b[0m\u001b[1;33m,\u001b[0m\u001b[0mlabel\u001b[0m\u001b[1;33m=\u001b[0m\u001b[1;34m'Two Point Approximation'\u001b[0m\u001b[1;33m)\u001b[0m\u001b[1;33m\u001b[0m\u001b[0m\n\u001b[1;32m----> 9\u001b[1;33m \u001b[0mplt\u001b[0m\u001b[1;33m.\u001b[0m\u001b[0mplot\u001b[0m\u001b[1;33m(\u001b[0m\u001b[0mx\u001b[0m\u001b[1;33m,\u001b[0m\u001b[0mdydxE\u001b[0m\u001b[1;33m,\u001b[0m\u001b[0mlabel\u001b[0m\u001b[1;33m=\u001b[0m\u001b[1;34m'Exact'\u001b[0m\u001b[1;33m)\u001b[0m\u001b[1;33m\u001b[0m\u001b[0m\n\u001b[0m\u001b[0;32m     10\u001b[0m \u001b[0mplt\u001b[0m\u001b[1;33m.\u001b[0m\u001b[0mlegend\u001b[0m\u001b[1;33m(\u001b[0m\u001b[0mloc\u001b[0m\u001b[1;33m=\u001b[0m\u001b[1;34m'upper left'\u001b[0m\u001b[1;33m)\u001b[0m\u001b[1;33m\u001b[0m\u001b[0m\n\u001b[0;32m     11\u001b[0m \u001b[0mplt\u001b[0m\u001b[1;33m.\u001b[0m\u001b[0mshow\u001b[0m\u001b[1;33m(\u001b[0m\u001b[1;33m)\u001b[0m\u001b[1;33m\u001b[0m\u001b[0m\n",
        "\u001b[1;32mC:\\Users\\Jordan\\Anaconda\\lib\\site-packages\\matplotlib\\pyplot.pyc\u001b[0m in \u001b[0;36mplot\u001b[1;34m(*args, **kwargs)\u001b[0m\n\u001b[0;32m   2985\u001b[0m         \u001b[0max\u001b[0m\u001b[1;33m.\u001b[0m\u001b[0mhold\u001b[0m\u001b[1;33m(\u001b[0m\u001b[0mhold\u001b[0m\u001b[1;33m)\u001b[0m\u001b[1;33m\u001b[0m\u001b[0m\n\u001b[0;32m   2986\u001b[0m     \u001b[1;32mtry\u001b[0m\u001b[1;33m:\u001b[0m\u001b[1;33m\u001b[0m\u001b[0m\n\u001b[1;32m-> 2987\u001b[1;33m         \u001b[0mret\u001b[0m \u001b[1;33m=\u001b[0m \u001b[0max\u001b[0m\u001b[1;33m.\u001b[0m\u001b[0mplot\u001b[0m\u001b[1;33m(\u001b[0m\u001b[1;33m*\u001b[0m\u001b[0margs\u001b[0m\u001b[1;33m,\u001b[0m \u001b[1;33m**\u001b[0m\u001b[0mkwargs\u001b[0m\u001b[1;33m)\u001b[0m\u001b[1;33m\u001b[0m\u001b[0m\n\u001b[0m\u001b[0;32m   2988\u001b[0m         \u001b[0mdraw_if_interactive\u001b[0m\u001b[1;33m(\u001b[0m\u001b[1;33m)\u001b[0m\u001b[1;33m\u001b[0m\u001b[0m\n\u001b[0;32m   2989\u001b[0m     \u001b[1;32mfinally\u001b[0m\u001b[1;33m:\u001b[0m\u001b[1;33m\u001b[0m\u001b[0m\n",
        "\u001b[1;32mC:\\Users\\Jordan\\Anaconda\\lib\\site-packages\\matplotlib\\axes.pyc\u001b[0m in \u001b[0;36mplot\u001b[1;34m(self, *args, **kwargs)\u001b[0m\n\u001b[0;32m   4135\u001b[0m         \u001b[0mlines\u001b[0m \u001b[1;33m=\u001b[0m \u001b[1;33m[\u001b[0m\u001b[1;33m]\u001b[0m\u001b[1;33m\u001b[0m\u001b[0m\n\u001b[0;32m   4136\u001b[0m \u001b[1;33m\u001b[0m\u001b[0m\n\u001b[1;32m-> 4137\u001b[1;33m         \u001b[1;32mfor\u001b[0m \u001b[0mline\u001b[0m \u001b[1;32min\u001b[0m \u001b[0mself\u001b[0m\u001b[1;33m.\u001b[0m\u001b[0m_get_lines\u001b[0m\u001b[1;33m(\u001b[0m\u001b[1;33m*\u001b[0m\u001b[0margs\u001b[0m\u001b[1;33m,\u001b[0m \u001b[1;33m**\u001b[0m\u001b[0mkwargs\u001b[0m\u001b[1;33m)\u001b[0m\u001b[1;33m:\u001b[0m\u001b[1;33m\u001b[0m\u001b[0m\n\u001b[0m\u001b[0;32m   4138\u001b[0m             \u001b[0mself\u001b[0m\u001b[1;33m.\u001b[0m\u001b[0madd_line\u001b[0m\u001b[1;33m(\u001b[0m\u001b[0mline\u001b[0m\u001b[1;33m)\u001b[0m\u001b[1;33m\u001b[0m\u001b[0m\n\u001b[0;32m   4139\u001b[0m             \u001b[0mlines\u001b[0m\u001b[1;33m.\u001b[0m\u001b[0mappend\u001b[0m\u001b[1;33m(\u001b[0m\u001b[0mline\u001b[0m\u001b[1;33m)\u001b[0m\u001b[1;33m\u001b[0m\u001b[0m\n",
        "\u001b[1;32mC:\\Users\\Jordan\\Anaconda\\lib\\site-packages\\matplotlib\\axes.pyc\u001b[0m in \u001b[0;36m_grab_next_args\u001b[1;34m(self, *args, **kwargs)\u001b[0m\n\u001b[0;32m    315\u001b[0m                 \u001b[1;32mreturn\u001b[0m\u001b[1;33m\u001b[0m\u001b[0m\n\u001b[0;32m    316\u001b[0m             \u001b[1;32mif\u001b[0m \u001b[0mlen\u001b[0m\u001b[1;33m(\u001b[0m\u001b[0mremaining\u001b[0m\u001b[1;33m)\u001b[0m \u001b[1;33m<=\u001b[0m \u001b[1;36m3\u001b[0m\u001b[1;33m:\u001b[0m\u001b[1;33m\u001b[0m\u001b[0m\n\u001b[1;32m--> 317\u001b[1;33m                 \u001b[1;32mfor\u001b[0m \u001b[0mseg\u001b[0m \u001b[1;32min\u001b[0m \u001b[0mself\u001b[0m\u001b[1;33m.\u001b[0m\u001b[0m_plot_args\u001b[0m\u001b[1;33m(\u001b[0m\u001b[0mremaining\u001b[0m\u001b[1;33m,\u001b[0m \u001b[0mkwargs\u001b[0m\u001b[1;33m)\u001b[0m\u001b[1;33m:\u001b[0m\u001b[1;33m\u001b[0m\u001b[0m\n\u001b[0m\u001b[0;32m    318\u001b[0m                     \u001b[1;32myield\u001b[0m \u001b[0mseg\u001b[0m\u001b[1;33m\u001b[0m\u001b[0m\n\u001b[0;32m    319\u001b[0m                 \u001b[1;32mreturn\u001b[0m\u001b[1;33m\u001b[0m\u001b[0m\n",
        "\u001b[1;32mC:\\Users\\Jordan\\Anaconda\\lib\\site-packages\\matplotlib\\axes.pyc\u001b[0m in \u001b[0;36m_plot_args\u001b[1;34m(self, tup, kwargs)\u001b[0m\n\u001b[0;32m    293\u001b[0m             \u001b[0mx\u001b[0m \u001b[1;33m=\u001b[0m \u001b[0mnp\u001b[0m\u001b[1;33m.\u001b[0m\u001b[0marange\u001b[0m\u001b[1;33m(\u001b[0m\u001b[0my\u001b[0m\u001b[1;33m.\u001b[0m\u001b[0mshape\u001b[0m\u001b[1;33m[\u001b[0m\u001b[1;36m0\u001b[0m\u001b[1;33m]\u001b[0m\u001b[1;33m,\u001b[0m \u001b[0mdtype\u001b[0m\u001b[1;33m=\u001b[0m\u001b[0mfloat\u001b[0m\u001b[1;33m)\u001b[0m\u001b[1;33m\u001b[0m\u001b[0m\n\u001b[0;32m    294\u001b[0m \u001b[1;33m\u001b[0m\u001b[0m\n\u001b[1;32m--> 295\u001b[1;33m         \u001b[0mx\u001b[0m\u001b[1;33m,\u001b[0m \u001b[0my\u001b[0m \u001b[1;33m=\u001b[0m \u001b[0mself\u001b[0m\u001b[1;33m.\u001b[0m\u001b[0m_xy_from_xy\u001b[0m\u001b[1;33m(\u001b[0m\u001b[0mx\u001b[0m\u001b[1;33m,\u001b[0m \u001b[0my\u001b[0m\u001b[1;33m)\u001b[0m\u001b[1;33m\u001b[0m\u001b[0m\n\u001b[0m\u001b[0;32m    296\u001b[0m \u001b[1;33m\u001b[0m\u001b[0m\n\u001b[0;32m    297\u001b[0m         \u001b[1;32mif\u001b[0m \u001b[0mself\u001b[0m\u001b[1;33m.\u001b[0m\u001b[0mcommand\u001b[0m \u001b[1;33m==\u001b[0m \u001b[1;34m'plot'\u001b[0m\u001b[1;33m:\u001b[0m\u001b[1;33m\u001b[0m\u001b[0m\n",
        "\u001b[1;32mC:\\Users\\Jordan\\Anaconda\\lib\\site-packages\\matplotlib\\axes.pyc\u001b[0m in \u001b[0;36m_xy_from_xy\u001b[1;34m(self, x, y)\u001b[0m\n\u001b[0;32m    235\u001b[0m         \u001b[0my\u001b[0m \u001b[1;33m=\u001b[0m \u001b[0mnp\u001b[0m\u001b[1;33m.\u001b[0m\u001b[0matleast_1d\u001b[0m\u001b[1;33m(\u001b[0m\u001b[0my\u001b[0m\u001b[1;33m)\u001b[0m\u001b[1;33m\u001b[0m\u001b[0m\n\u001b[0;32m    236\u001b[0m         \u001b[1;32mif\u001b[0m \u001b[0mx\u001b[0m\u001b[1;33m.\u001b[0m\u001b[0mshape\u001b[0m\u001b[1;33m[\u001b[0m\u001b[1;36m0\u001b[0m\u001b[1;33m]\u001b[0m \u001b[1;33m!=\u001b[0m \u001b[0my\u001b[0m\u001b[1;33m.\u001b[0m\u001b[0mshape\u001b[0m\u001b[1;33m[\u001b[0m\u001b[1;36m0\u001b[0m\u001b[1;33m]\u001b[0m\u001b[1;33m:\u001b[0m\u001b[1;33m\u001b[0m\u001b[0m\n\u001b[1;32m--> 237\u001b[1;33m             \u001b[1;32mraise\u001b[0m \u001b[0mValueError\u001b[0m\u001b[1;33m(\u001b[0m\u001b[1;34m\"x and y must have same first dimension\"\u001b[0m\u001b[1;33m)\u001b[0m\u001b[1;33m\u001b[0m\u001b[0m\n\u001b[0m\u001b[0;32m    238\u001b[0m         \u001b[1;32mif\u001b[0m \u001b[0mx\u001b[0m\u001b[1;33m.\u001b[0m\u001b[0mndim\u001b[0m \u001b[1;33m>\u001b[0m \u001b[1;36m2\u001b[0m \u001b[1;32mor\u001b[0m \u001b[0my\u001b[0m\u001b[1;33m.\u001b[0m\u001b[0mndim\u001b[0m \u001b[1;33m>\u001b[0m \u001b[1;36m2\u001b[0m\u001b[1;33m:\u001b[0m\u001b[1;33m\u001b[0m\u001b[0m\n\u001b[0;32m    239\u001b[0m             \u001b[1;32mraise\u001b[0m \u001b[0mValueError\u001b[0m\u001b[1;33m(\u001b[0m\u001b[1;34m\"x and y can be no greater than 2-D\"\u001b[0m\u001b[1;33m)\u001b[0m\u001b[1;33m\u001b[0m\u001b[0m\n",
        "\u001b[1;31mValueError\u001b[0m: x and y must have same first dimension"
       ]
      },
      {
       "metadata": {},
       "output_type": "display_data",
       "png": "[encoded data removed]",
       "text": [
        "<matplotlib.figure.Figure at 0x3addd30>"
       ]
      }
     ],
     "prompt_number": 26
    },
    {
     "cell_type": "markdown",
     "metadata": {},
     "source": [
      "(c) Write your three differentiating functions to a file called Differentiators.py. Be sure to include meaningful docstrings that describe what the functions do. The docstrings should include enough information for someone to understand the differences between the algorithms. Test that the code works by importing the functions and calling them on y=8x4+3x. Plot the results from all three methods."
     ]
    },
    {
     "cell_type": "code",
     "collapsed": false,
     "input": [
      "%%file\n",
      "def fourPtCenteredDiff(x,y):\n",
      "    \"\"\"This algorithm uses a higher order differencing method to approximate the slope of the line. It finds the slope\n",
      "    by checking the difference in dy versus dx from the center of the center of dx for 4 points of slices of the array.\"\"\"\n",
      "    dydx = np.zeros(y.shape,float) \n",
      "    dydx[2:-2] = (y[:-4] - 8*y[1:-3] + 8*y[3:-1] - y[4:])/(12*(x[2]-x[1]))\n",
      "    dydx[1] = (y[2]-y[1])/(x[2]-x[1]) \n",
      "    dydx[0] = (y[1]-y[0])/(x[1]-x[0]) \n",
      "    dydx[-1] = (y[-1] - y[-2])/(x[-1] - x[-2]) \n",
      "    dydx[-2] = (y[-2] - y[-3])/(x[-2] - x[-3]) \n",
      "    return dydx\n",
      "\n",
      "def twoPtForwardDiff(x,y):\n",
      "    \"\"\"This approximation method the same lower order approximation as the Two Point Center Function but it find the difference\n",
      "    of the y points,dy, from the right most point of dx rather than the center.\"\"\"\n",
      "    dydx = np.zeros(y.shape,float) \n",
      "    dydx[0:-1] = np.diff(y)/np.diff(x)\n",
      "    dydx[-1] = (y[1]-y[0])/(x[1]-x[0])\n",
      "    return dydx\n",
      "\n",
      "def twoPtCenteredDiff(x,y):\n",
      "    \"\"\"This algorithm is like the Four Point Centered Difference function but it only does that approximation for two points\n",
      "    or two slices of the array based on a lower order approximation.\"\"\"\n",
      "    dydx = np.zeros(y.shape,float) \n",
      "    dydx[1:-1] = (y[2:] - y[:-2])/(x[2:] - x[:-2])\n",
      "    dydx[0] = (y[1]-y[0])/(x[1]-x[0]) \n",
      "    dydx[-1] = (y[-1] - y[-2])/(x[-1] - x[-2]) \n",
      "    return dydx\n",
      "\n",
      "x = np.arange(0.,10.0,0.02)\n",
      "y = 8*x**4 + 3*x\n",
      "\n",
      "dydx4 = fourPtCenteredDiff(x,y)\n",
      "dydx2c = twoPtCenteredDiff(x,y)\n",
      "dydx2f = twoPtForwardDiff(x,y)\n",
      "\n",
      "plt.plot(x, dydx4, label='Four Point Approximation')\n",
      "plt.plot(x, dydx2c, label='Two Point Approximation(Centered)')\n",
      "plt.plot(x, dydx2f, label='Two Point Approximation (Forward)')\n",
      "plt.plot(x, dydxE, label='Exact')\n",
      "plt.legend(loc='upper left')\n",
      "plt.show()"
     ],
     "language": "python",
     "metadata": {},
     "outputs": [
      {
       "output_type": "stream",
       "stream": "stderr",
       "text": [
        "UsageError: too few arguments"
       ]
      }
     ],
     "prompt_number": 21
    },
    {
     "cell_type": "code",
     "collapsed": false,
     "input": [],
     "language": "python",
     "metadata": {},
     "outputs": []
    }
   ],
   "metadata": {}
  }
 ]
}