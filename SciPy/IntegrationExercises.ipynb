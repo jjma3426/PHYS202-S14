{
 "metadata": {
  "name": "",
  "signature": "sha256:cc98b2a49615ac355b9af549cdc59e21dec1fe6230b1f4666b248b6492d456fd"
 },
 "nbformat": 3,
 "nbformat_minor": 0,
 "worksheets": [
  {
   "cells": [
    {
     "cell_type": "heading",
     "level": 1,
     "metadata": {},
     "source": [
      "Integration Exercises"
     ]
    },
    {
     "cell_type": "heading",
     "level": 2,
     "metadata": {},
     "source": [
      "Question 1"
     ]
    },
    {
     "cell_type": "markdown",
     "metadata": {},
     "source": [
      "(a) Write two functions trapz(func,a,b,N) and simps(func,a,b,N) to compute the integral of the function func over the variable x using the trapezoidal rule and Simpson's rule to a file called Integrators.py. Do not use the scipy.integrate built-in functions. Include docstrings with each function that describe what they do. Then import the module and use the functions to answer the following questions. To avoid namespace conflicts, import your module as myint and then call the functions from that namespace. i.e.\n",
      "    \n",
      "    import integrators as myint\n",
      "    #...your code...here\n",
      "    I = myint.trapz(func,a,b,N)\n",
      "\n",
      "Also, be sure that you import any needed modules inside your Integrators.py file."
     ]
    },
    {
     "cell_type": "code",
     "collapsed": false,
     "input": [
      "%pylab inline\n",
      "import numpy as np"
     ],
     "language": "python",
     "metadata": {},
     "outputs": [
      {
       "output_type": "stream",
       "stream": "stdout",
       "text": [
        "Populating the interactive namespace from numpy and matplotlib\n"
       ]
      }
     ],
     "prompt_number": 1
    },
    {
     "cell_type": "code",
     "collapsed": false,
     "input": [
      "%%file integrators.py\n",
      "import numpy as np\n",
      "def trapz(func,a,b,N):   \n",
      "    func = lambda x: x**4 - 2*x + 1\n",
      "    h = (b-a)/N\n",
      "    k = np.arange(1,N)\n",
      "    It = h*(0.5*func(a) + 0.5*func(b) + func(a+k*h).sum())\n",
      "    return It\n",
      "\n",
      "def simps(func,a,b,N):\n",
      "    func = lambda x: x**4 - 2*x + 1\n",
      "    h = (b-a)/N\n",
      "    k1 = np.arange(1,N/2+1)\n",
      "    k2 = np.arange(1,N/2)\n",
      "    Is = (1./3.)*h*(func(a) + func(b) + 4.*func(a+(2*k1-1)*h).sum() + 2.*func(a+2*k2*h).sum())\n",
      "    return Is"
     ],
     "language": "python",
     "metadata": {},
     "outputs": [
      {
       "output_type": "stream",
       "stream": "stdout",
       "text": [
        "Overwriting integrators.py\n"
       ]
      }
     ],
     "prompt_number": 2
    },
    {
     "cell_type": "code",
     "collapsed": false,
     "input": [
      "import integrators as myint"
     ],
     "language": "python",
     "metadata": {},
     "outputs": [],
     "prompt_number": 3
    },
    {
     "cell_type": "markdown",
     "metadata": {},
     "source": [
      "(b) Use your trapz and simps functions from part (a) to calculate the integral of x4\u22122x+1 from x = 0 to x = 2 with N = 10, N = 100, and N = 1000. Then compare your result to the known correct value of 4.4. What is the percent error in each case?"
     ]
    },
    {
     "cell_type": "code",
     "collapsed": false,
     "input": [
      "func = lambda x: x**4 - 2*x + 1\n",
      "a = 0.0\n",
      "b = 2.0\n",
      "\n",
      "r1 = myint.trapz(func,a,b,10)\n",
      "r2 = myint.trapz(func,a,b,100)\n",
      "r3 = myint.trapz(func,a,b,1000)\n",
      "\n",
      "error1 = (abs(r1-4.4)/4.4)*100\n",
      "error2 = (abs(r2-4.4)/4.4)*100\n",
      "error3 = (abs(r3-4.4)/4.4)*100\n",
      "\n",
      "print r1,\",\", error1,\"%\"\n",
      "print r2,\",\", error2,\"%\"\n",
      "print r3,\",\", error3,\"%\"\n"
     ],
     "language": "python",
     "metadata": {},
     "outputs": [
      {
       "output_type": "stream",
       "stream": "stdout",
       "text": [
        "4.50656 , 2.42181818182 %\n",
        "4.401066656 , 0.0242421818182 %\n",
        "4.40001066667 , 0.000242424218175 %\n"
       ]
      }
     ],
     "prompt_number": 4
    },
    {
     "cell_type": "heading",
     "level": 2,
     "metadata": {},
     "source": [
      "Question 2"
     ]
    },
    {
     "cell_type": "markdown",
     "metadata": {},
     "source": [
      "Consider the integral\n",
      "\n",
      "E(x)=\u222bx0e\u2212t2dt\n",
      "\n",
      "This is the error function, commonly seen in probability and statistics. There is no known way to perform this particular integral analytically, although the integrand can be expanded in a Taylor series and terms computed to arbitrary order. For most applications, numerical approaches are the only way forward.\n",
      "\n",
      "(a) Use scipy.integrate.cumtrapz to calculate E(x) for values of x from 0 to 3 in steps of 0.1. Print the result."
     ]
    },
    {
     "cell_type": "code",
     "collapsed": false,
     "input": [
      "import scipy.integrate as integrate\n",
      "import integrators as myint\n",
      "\n",
      "t = np.arange(0,3.1,0.1)\n",
      "E = lambda x: e**(-t**2)\n",
      "\n",
      "\n",
      "print integrate.cumtrapz(E(t),t, initial = 0)\n",
      "print t\n"
     ],
     "language": "python",
     "metadata": {},
     "outputs": [
      {
       "output_type": "stream",
       "stream": "stdout",
       "text": [
        "[ 0.          0.09950249  0.19704446  0.29078049  0.37908424  0.46063146\n",
        "  0.53445532  0.59997046  0.6569664   0.70557392  0.7462108   0.77951463\n",
        "  0.80627088  0.82734325  0.84361215  0.85592503  0.86506023  0.87170427\n",
        "  0.87644128  0.87975207  0.88202044  0.88354398  0.88454709  0.88519453\n",
        "  0.88560418  0.88585826  0.88601274  0.88610482  0.88615862  0.88618943\n",
        "  0.88620673]\n",
        "[ 0.   0.1  0.2  0.3  0.4  0.5  0.6  0.7  0.8  0.9  1.   1.1  1.2  1.3  1.4\n",
        "  1.5  1.6  1.7  1.8  1.9  2.   2.1  2.2  2.3  2.4  2.5  2.6  2.7  2.8  2.9\n",
        "  3. ]\n"
       ]
      }
     ],
     "prompt_number": 22
    },
    {
     "cell_type": "code",
     "collapsed": false,
     "input": [
      "t = np.arange(0,3.1,0.1)\n",
      "x = t\n",
      "Ex = integrate.cumtrapz(E(t),t, initial = 0)\n",
      "plt.plot(t,E(t))\n",
      "plt.plot(x, Ex)\n",
      "plt.show()\n"
     ],
     "language": "python",
     "metadata": {},
     "outputs": [
      {
       "metadata": {},
       "output_type": "display_data",
       "png": "[encoded data removed]",
       "text": [
        "<matplotlib.figure.Figure at 0x106c0a750>"
       ]
      }
     ],
     "prompt_number": 38
    },
    {
     "cell_type": "heading",
     "level": 2,
     "metadata": {},
     "source": [
      "Question 3"
     ]
    },
    {
     "cell_type": "markdown",
     "metadata": {},
     "source": [
      "Consider a particle in a one-dimensional box of width L. The probability of finding the particle between a and b is given by\n",
      "\n",
      "P(a,b)=\u222bba|\u03c8(x)|2dx\n",
      "\n",
      "where\n",
      "\n",
      "\u03c8(x)=2L\u203e\u203e\u203e\u221asin(n\u03c0xL)\n",
      "is the wavefunction.\n",
      "\n",
      "(a) What is the probability of finding the particle between L/3 and L/2 for the ground state (n = 1) and for the first excited state (n = 2)? Let L = 1. Perform the integral using both scipy.integrate.trapz and scipy.integrate.quad with an accuracy of 6 sig figs. How many slices did you need to use for scipy.integrate.trapz?"
     ]
    },
    {
     "cell_type": "code",
     "collapsed": false,
     "input": [
      "def Pq(a,b,n):\n",
      "    psi = lambda x: (2/L)**(1/2)*np.sin(n*np.pi*x/L)\n",
      "    psi2 = lambda x: ((2/L)**(1/2)*np.sin(n*np.pi*x/L))**2\n",
      "    return integrate.quad(psi2,a,b) \n",
      "\n",
      "def Pt(a,b,n):\n",
      "    psi = lambda x:(2/L)**(1/2)*np.sin(n*np.pi*x/L)\n",
      "    x = np.arange(a,b)\n",
      "    psi2 = psi(x)**2\n",
      "    return integrate.trapz(psi2,x)\n",
      "\n",
      "L = 1.\n",
      "a = L/3\n",
      "b = L/2\n",
      "\n",
      "Pt(L/3,L/2,1)\n",
      "Pq(L/3,L/2,1)\n",
      "\n",
      "Pt(L/3,L/2,2)\n",
      "Pq(L/3,L/2,2)\n"
     ],
     "language": "python",
     "metadata": {},
     "outputs": [
      {
       "metadata": {},
       "output_type": "pyout",
       "prompt_number": 51,
       "text": [
        "(0.04887527736947138, 5.426245827052797e-16)"
       ]
      }
     ],
     "prompt_number": 51
    },
    {
     "cell_type": "code",
     "collapsed": false,
     "input": [
      "help(integrate.trapz)"
     ],
     "language": "python",
     "metadata": {},
     "outputs": [
      {
       "output_type": "stream",
       "stream": "stdout",
       "text": [
        "Help on function trapz in module numpy.lib.function_base:\n",
        "\n",
        "trapz(y, x=None, dx=1.0, axis=-1)\n",
        "    Integrate along the given axis using the composite trapezoidal rule.\n",
        "    \n",
        "    Integrate `y` (`x`) along given axis.\n",
        "    \n",
        "    Parameters\n",
        "    ----------\n",
        "    y : array_like\n",
        "        Input array to integrate.\n",
        "    x : array_like, optional\n",
        "        If `x` is None, then spacing between all `y` elements is `dx`.\n",
        "    dx : scalar, optional\n",
        "        If `x` is None, spacing given by `dx` is assumed. Default is 1.\n",
        "    axis : int, optional\n",
        "        Specify the axis.\n",
        "    \n",
        "    Returns\n",
        "    -------\n",
        "    trapz : float\n",
        "        Definite integral as approximated by trapezoidal rule.\n",
        "    \n",
        "    See Also\n",
        "    --------\n",
        "    sum, cumsum\n",
        "    \n",
        "    Notes\n",
        "    -----\n",
        "    Image [2]_ illustrates trapezoidal rule -- y-axis locations of points will\n",
        "    be taken from `y` array, by default x-axis distances between points will be\n",
        "    1.0, alternatively they can be provided with `x` array or with `dx` scalar.\n",
        "    Return value will be equal to combined area under the red lines.\n",
        "    \n",
        "    \n",
        "    References\n",
        "    ----------\n",
        "    .. [1] Wikipedia page: http://en.wikipedia.org/wiki/Trapezoidal_rule\n",
        "    \n",
        "    .. [2] Illustration image:\n",
        "           http://en.wikipedia.org/wiki/File:Composite_trapezoidal_rule_illustration.png\n",
        "    \n",
        "    Examples\n",
        "    --------\n",
        "    >>> np.trapz([1,2,3])\n",
        "    4.0\n",
        "    >>> np.trapz([1,2,3], x=[4,6,8])\n",
        "    8.0\n",
        "    >>> np.trapz([1,2,3], dx=2)\n",
        "    8.0\n",
        "    >>> a = np.arange(6).reshape(2, 3)\n",
        "    >>> a\n",
        "    array([[0, 1, 2],\n",
        "           [3, 4, 5]])\n",
        "    >>> np.trapz(a, axis=0)\n",
        "    array([ 1.5,  2.5,  3.5])\n",
        "    >>> np.trapz(a, axis=1)\n",
        "    array([ 2.,  8.])\n",
        "\n"
       ]
      }
     ],
     "prompt_number": 45
    },
    {
     "cell_type": "code",
     "collapsed": false,
     "input": [],
     "language": "python",
     "metadata": {},
     "outputs": []
    }
   ],
   "metadata": {}
  }
 ]
}