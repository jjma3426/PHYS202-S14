{
 "metadata": {
  "name": "",
  "signature": "sha256:9791ac15a0e65369b9f911aeebc593916422ed658c522d3e4dd1e832fb70ef92"
 },
 "nbformat": 3,
 "nbformat_minor": 0,
 "worksheets": [
  {
   "cells": [
    {
     "cell_type": "heading",
     "level": 1,
     "metadata": {},
     "source": [
      "Integration Exercises"
     ]
    },
    {
     "cell_type": "heading",
     "level": 2,
     "metadata": {},
     "source": [
      "Question 1"
     ]
    },
    {
     "cell_type": "markdown",
     "metadata": {},
     "source": [
      "(a) Write two functions trapz(func,a,b,N) and simps(func,a,b,N) to compute the integral of the function func over the variable x using the trapezoidal rule and Simpson's rule to a file called Integrators.py. Do not use the scipy.integrate built-in functions. Include docstrings with each function that describe what they do. Then import the module and use the functions to answer the following questions. To avoid namespace conflicts, import your module as myint and then call the functions from that namespace. i.e.\n",
      "    \n",
      "    import integrators as myint\n",
      "    #...your code...here\n",
      "    I = myint.trapz(func,a,b,N)\n",
      "\n",
      "Also, be sure that you import any needed modules inside your Integrators.py file."
     ]
    },
    {
     "cell_type": "code",
     "collapsed": false,
     "input": [
      "%pylab inline\n",
      "import numpy as np"
     ],
     "language": "python",
     "metadata": {},
     "outputs": [
      {
       "output_type": "stream",
       "stream": "stdout",
       "text": [
        "Populating the interactive namespace from numpy and matplotlib\n"
       ]
      }
     ],
     "prompt_number": 1
    },
    {
     "cell_type": "code",
     "collapsed": false,
     "input": [
      "%%file integrators.py\n",
      "import numpy as np\n",
      "def trapz(func,a,b,N):   \n",
      "    func = lambda x: x**4 - 2*x + 1\n",
      "    h = (b-a)/N\n",
      "    k = np.arange(1,N)\n",
      "    It = h*(0.5*func(a) + 0.5*func(b) + func(a+k*h).sum())\n",
      "    return It\n",
      "\n",
      "def simps(func,a,b,N):\n",
      "    func = lambda x: x**4 - 2*x + 1\n",
      "    h = (b-a)/N\n",
      "    k1 = np.arange(1,N/2+1)\n",
      "    k2 = np.arange(1,N/2)\n",
      "    Is = (1./3.)*h*(func(a) + func(b) + 4.*func(a+(2*k1-1)*h).sum() + 2.*func(a+2*k2*h).sum())\n",
      "    return Is"
     ],
     "language": "python",
     "metadata": {},
     "outputs": [
      {
       "output_type": "stream",
       "stream": "stdout",
       "text": [
        "Overwriting integrators.py\n"
       ]
      }
     ],
     "prompt_number": 2
    },
    {
     "cell_type": "code",
     "collapsed": false,
     "input": [
      "import integrators as myint"
     ],
     "language": "python",
     "metadata": {},
     "outputs": [],
     "prompt_number": 3
    },
    {
     "cell_type": "markdown",
     "metadata": {},
     "source": [
      "(b) Use your trapz and simps functions from part (a) to calculate the integral of x4\u22122x+1 from x = 0 to x = 2 with N = 10, N = 100, and N = 1000. Then compare your result to the known correct value of 4.4. What is the percent error in each case?"
     ]
    },
    {
     "cell_type": "code",
     "collapsed": false,
     "input": [
      "func = lambda x: x**4 - 2*x + 1\n",
      "a = 0.0\n",
      "b = 2.0\n",
      "\n",
      "r1 = myint.trapz(func,a,b,10)\n",
      "r2 = myint.trapz(func,a,b,100)\n",
      "r3 = myint.trapz(func,a,b,1000)\n",
      "\n",
      "error1 = (abs(r1-4.4)/4.4)*100\n",
      "error2 = (abs(r2-4.4)/4.4)*100\n",
      "error3 = (abs(r3-4.4)/4.4)*100\n",
      "\n",
      "print r1,\",\", error1,\"%\"\n",
      "print r2,\",\", error2,\"%\"\n",
      "print r3,\",\", error3,\"%\"\n"
     ],
     "language": "python",
     "metadata": {},
     "outputs": [
      {
       "output_type": "stream",
       "stream": "stdout",
       "text": [
        "4.50656 , 2.42181818182 %\n",
        "4.401066656 , 0.0242421818182 %\n",
        "4.40001066667 , 0.000242424218175 %\n"
       ]
      }
     ],
     "prompt_number": 4
    },
    {
     "cell_type": "heading",
     "level": 2,
     "metadata": {},
     "source": [
      "Question 2"
     ]
    },
    {
     "cell_type": "markdown",
     "metadata": {},
     "source": [
      "Consider the integral\n",
      "\n",
      "E(x)=\u222bx0e\u2212t2dt\n",
      "\n",
      "This is the error function, commonly seen in probability and statistics. There is no known way to perform this particular integral analytically, although the integrand can be expanded in a Taylor series and terms computed to arbitrary order. For most applications, numerical approaches are the only way forward.\n",
      "\n",
      "(a) Use scipy.integrate.cumtrapz to calculate E(x) for values of x from 0 to 3 in steps of 0.1. Print the result."
     ]
    },
    {
     "cell_type": "code",
     "collapsed": false,
     "input": [
      "import scipy.integrate as integrate\n",
      "import integrators as myint\n",
      "\n",
      "t = np.arange(0,3.1,0.1)\n",
      "E = lambda x: e**(-t**2)\n",
      "\n",
      "\n",
      "print integrate.cumtrapz(E(t),t, initial = 0)\n",
      "print t\n"
     ],
     "language": "python",
     "metadata": {},
     "outputs": [
      {
       "output_type": "stream",
       "stream": "stdout",
       "text": [
        "[ 0.          0.09950249  0.19704446  0.29078049  0.37908424  0.46063146\n",
        "  0.53445532  0.59997046  0.6569664   0.70557392  0.7462108   0.77951463\n",
        "  0.80627088  0.82734325  0.84361215  0.85592503  0.86506023  0.87170427\n",
        "  0.87644128  0.87975207  0.88202044  0.88354398  0.88454709  0.88519453\n",
        "  0.88560418  0.88585826  0.88601274  0.88610482  0.88615862  0.88618943\n",
        "  0.88620673]\n",
        "[ 0.   0.1  0.2  0.3  0.4  0.5  0.6  0.7  0.8  0.9  1.   1.1  1.2  1.3  1.4\n",
        "  1.5  1.6  1.7  1.8  1.9  2.   2.1  2.2  2.3  2.4  2.5  2.6  2.7  2.8  2.9\n",
        "  3. ]\n"
       ]
      }
     ],
     "prompt_number": 5
    },
    {
     "cell_type": "code",
     "collapsed": false,
     "input": [
      "t = np.arange(0,3.1,0.1)\n",
      "x = t\n",
      "Ex = integrate.cumtrapz(E(t),t, initial = 0)\n",
      "plt.plot(t,E(t))\n",
      "plt.plot(x, Ex)\n",
      "plt.show()\n"
     ],
     "language": "python",
     "metadata": {},
     "outputs": [
      {
       "metadata": {},
       "output_type": "display_data",
       "png": "[encoded data removed]",
       "text": [
        "<matplotlib.figure.Figure at 0xa062358>"
       ]
      }
     ],
     "prompt_number": 6
    },
    {
     "cell_type": "heading",
     "level": 2,
     "metadata": {},
     "source": [
      "Question 3"
     ]
    },
    {
     "cell_type": "markdown",
     "metadata": {},
     "source": [
      "Consider a particle in a one-dimensional box of width L. The probability of finding the particle between a and b is given by\n",
      "\n",
      "P(a,b)=\u222bba|\u03c8(x)|2dx\n",
      "\n",
      "where\n",
      "\n",
      "\u03c8(x)=2L\u203e\u203e\u203e\u221asin(n\u03c0xL)\n",
      "is the wavefunction.\n",
      "\n",
      "(a) What is the probability of finding the particle between L/3 and L/2 for the ground state (n = 1) and for the first excited state (n = 2)? Let L = 1. Perform the integral using both scipy.integrate.trapz and scipy.integrate.quad with an accuracy of 6 sig figs. How many slices did you need to use for scipy.integrate.trapz?"
     ]
    },
    {
     "cell_type": "code",
     "collapsed": false,
     "input": [
      "def Pq(a,b,n):\n",
      "    psi = lambda x: (2./L)**(1./2)*np.sin(n*np.pi*x/L)\n",
      "    psi2 = lambda x: ((2./L)**(1./2)*np.sin(n*np.pi*x/L))**2\n",
      "    return integrate.quad(psi2,a,b) \n",
      "\n",
      "def Pt(a,b,n):\n",
      "    psi = lambda x:(2./L)**(1./2)*np.sin(n*np.pi*x/L)\n",
      "    x = np.arange(a,b,0.0001)\n",
      "    #print x\n",
      "    psi2 = psi(x)**2\n",
      "    return integrate.trapz(psi2,x)\n",
      "\n",
      "L = 1.\n",
      "a = L/3\n",
      "b = L/2\n",
      "\n",
      "print Pt(L/3,L/2,2)\n",
      "print Pq(L/3,L/2,2)\n",
      "\n",
      "print 100 * abs(Pt(L/3,L/2,1) - Pq(L/3,L/2,1)) / Pq(L/3,L/2,1)\n"
     ],
     "language": "python",
     "metadata": {},
     "outputs": [
      {
       "output_type": "stream",
       "stream": "stdout",
       "text": [
        "0.0977505637914\n",
        "(0.09775055473894276, 1.0852491654105595e-15)\n",
        "[  4.37892774e-02   9.00325507e+15]\n"
       ]
      }
     ],
     "prompt_number": 7
    },
    {
     "cell_type": "markdown",
     "metadata": {},
     "source": [
      "(b) Make a plot of |\u03c8(x)|^2 vs. x for the first two excited states with L=1."
     ]
    },
    {
     "cell_type": "code",
     "collapsed": false,
     "input": [
      "n = 2\n",
      "x = np.arange(0,L,0.0001)\n",
      "\n",
      "psi = lambda x: (2./L)**(1./2)*np.sin(n*np.pi*x/L)\n",
      "psi2t = lambda x: ((2./L)**(1./2)*np.sin(n*np.pi*x/L))**2\n",
      "psi2q = psi(x)**2\n",
      "\n",
      "\n",
      "plt.plot(x, psi2t(x))\n",
      "\n",
      "n = 1\n",
      "x = np.arange(0,L,0.0001)\n",
      "\n",
      "plt.plot(x, psi2t(x))\n",
      "plt.show()"
     ],
     "language": "python",
     "metadata": {},
     "outputs": [
      {
       "metadata": {},
       "output_type": "display_data",
       "png": "[encoded data removed]",
       "text": [
        "<matplotlib.figure.Figure at 0xa07b438>"
       ]
      }
     ],
     "prompt_number": 8
    },
    {
     "cell_type": "heading",
     "level": 2,
     "metadata": {},
     "source": [
      "Question 4"
     ]
    },
    {
     "cell_type": "markdown",
     "metadata": {},
     "source": [
      "Integrals of mass density lead to three interesting quantities:\n",
      "M=\u222b\u03c1dVr\u20d7 cm=(xcm,ycm,zcm)=1M\u222br\u20d7 \u03c1dVIcm=\u222b(r\u2212rcm)2\u03c1dV\n",
      "where M is the total mass (a scalar), r\u20d7 cm is the center of mass position (a vector of 3 components), Icm are the moments of inertia about the center of mass (diagonals of a 3x3 matrix), and the mass density, \u03c1, may be a function of the spatial variables.\n",
      "Consider a rectangular box: length (in x) = 0.2 m, width (in y) = 0.2 m, and height (in z) = 1.0 m centered on the origin, (0,0,0) and with a mass density, \u03c1(x,y,z) = (100 kg/m4)(y + 0.1) + (100 kg/m5)z2 for x, y, and z in meters.\n",
      "\n",
      "(a) Use numerical integration to find M, r\u20d7 cm, and Icm. Note that you need M to compute r\u20d7 cm and r\u20d7 cm to compute Icm. The moments of inertia Icm are Ixx, Iyy, and Izz, where e.g. Ixx=\u222b((y\u2212ycm)2+(z\u2212zcm)2)\u03c1dV, etc."
     ]
    },
    {
     "cell_type": "code",
     "collapsed": false,
     "input": [
      "from scipy.integrate import tplquad\n",
      "\n",
      "#AGAIN: the order of arguments matters - inner to outer\n",
      "integrand_M = lambda z,y,x: 100*(y + 0.1) +100*z**2\n",
      "\n",
      "xmin = 0.\n",
      "xmax = 0.2\n",
      "\n",
      "ymin = lambda x: 0.\n",
      "ymax = lambda x: 0.2\n",
      "\n",
      "#Note the order of these arguments:\n",
      "zmin = lambda x,y: 0.\n",
      "zmax = lambda x,y: 1.0\n",
      "\n",
      "#Here the order of limits is outer to inner\n",
      "M, err_M = tplquad(integrand_M, xmin, xmax, ymin, ymax, zmin, zmax)\n",
      "print \"M = \", M\n",
      "\n"
     ],
     "language": "python",
     "metadata": {},
     "outputs": [
      {
       "output_type": "stream",
       "stream": "stdout",
       "text": [
        "M =  2.13333333333\n"
       ]
      }
     ],
     "prompt_number": 14
    },
    {
     "cell_type": "code",
     "collapsed": false,
     "input": [
      "x = 0.2\n",
      "integrand_xcm= lambda z,y,x: x * (100*(y + 0.1) +100*z**2)\n",
      "\n",
      "int_xcm , err_xcm =  tplquad(integrand_xcm, xmin, xmax, ymin, ymax, zmin, zmax)\n",
      "xcm = int_xcm / M\n",
      "\n",
      "#print int_xcm\n",
      "#print \"xcm = \",xcm\n",
      "\n",
      "y = 0.2\n",
      "integrand_ycm= lambda z,y,x: y * (100*(y + 0.1) +100*z**2)\n",
      "\n",
      "int_ycm , err_ycm =  tplquad(integrand_ycm, xmin, xmax, ymin, ymax, zmin, zmax)\n",
      "ycm = int_ycm / M\n",
      "\n",
      "#print int_ycm\n",
      "#print \"ycm = \",ycm\n",
      "\n",
      "z = 1.0\n",
      "integrand_zcm= lambda z,y,x: z* (100*(y + 0.1) +100*z**2)\n",
      "\n",
      "int_zcm , err_zcm =  tplquad(integrand_zcm, xmin, xmax, ymin, ymax, zmin, zmax)\n",
      "zcm = int_zcm / M\n",
      "\n",
      "#print int_zcm\n",
      "#print \"zcm = \",zcm\n",
      "\n",
      "print \"rcm = \", \"(%s, %s, %s)\" % (xcm, ycm, zcm)"
     ],
     "language": "python",
     "metadata": {},
     "outputs": [
      {
       "output_type": "stream",
       "stream": "stdout",
       "text": [
        "rcm =  (0.1, 0.10625, 0.65625)\n"
       ]
      }
     ],
     "prompt_number": 28
    },
    {
     "cell_type": "code",
     "collapsed": false,
     "input": [
      "integrand_Ixx= lambda z,y,x: ((y - ycm)**2 + (z - zcm)**2) * (100*(y + 0.1) +100*z**2)\n",
      "Ixx , err_Ixx =  tplquad(integrand_Ixx, xmin, xmax, ymin, ymax, zmin, zmax)\n",
      "\n",
      "#print \"Ixx = \",Ixx\n",
      "\n",
      "integrand_Iyy= lambda z,y,x: ((x - xcm)**2 + (z - zcm)**2) * (100*(y + 0.1) +100*z**2)\n",
      "Iyy , err_Iyy =  tplquad(integrand_Iyy, xmin, xmax, ymin, ymax, zmin, zmax)\n",
      "\n",
      "#print \"Iyy = \",Iyy\n",
      "\n",
      "integrand_Izz= lambda z,y,x: ((x - xcm)**2 + (y - ycm)**2) * (100*(y + 0.1) +100*z**2)\n",
      "Izz, err_Izz =  tplquad(integrand_Izz, xmin, xmax, ymin, ymax, zmin, zmax)\n",
      "\n",
      "#print \"Izz = \", Izz\n",
      "\n",
      "print \"Icm = \", \"(%s, %s, %s)\" % (Ixx, Iyy, Izz)"
     ],
     "language": "python",
     "metadata": {},
     "outputs": [
      {
       "output_type": "stream",
       "stream": "stdout",
       "text": [
        "Icm =  (0.154944444444, 0.155027777778, 0.0141388888889)\n"
       ]
      }
     ],
     "prompt_number": 37
    },
    {
     "cell_type": "markdown",
     "metadata": {},
     "source": [
      "b) The mass, center of mass, and moments of inertia can be easily computed analytically for a rectangular box of uniform density. (Compute them yourself or look them up). Verify your algorithm from part (a) works by having it compute the result for this test case. How accurate (how many sig figs?) is the numerical result?"
     ]
    },
    {
     "cell_type": "code",
     "collapsed": false,
     "input": [],
     "language": "python",
     "metadata": {},
     "outputs": []
    }
   ],
   "metadata": {}
  }
 ]
}