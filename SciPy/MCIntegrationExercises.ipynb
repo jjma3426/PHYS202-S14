{
 "metadata": {
  "name": "",
  "signature": "sha256:6201666d2daf674ca7ee95cd94fc72b77c54af964e1bdf89d97884142c32a350"
 },
 "nbformat": 3,
 "nbformat_minor": 0,
 "worksheets": [
  {
   "cells": [
    {
     "cell_type": "code",
     "collapsed": false,
     "input": [
      "%pylab inline\n",
      "import numpy as np\n",
      "import matplotlib.pyplot as plt"
     ],
     "language": "python",
     "metadata": {},
     "outputs": [
      {
       "output_type": "stream",
       "stream": "stdout",
       "text": [
        "Populating the interactive namespace from numpy and matplotlib\n"
       ]
      }
     ],
     "prompt_number": 1
    },
    {
     "cell_type": "heading",
     "level": 1,
     "metadata": {},
     "source": [
      "Question 1"
     ]
    },
    {
     "cell_type": "markdown",
     "metadata": {},
     "source": [
      "\n",
      "Let\u2019s compute the electric potential from a plane of charge as shown in the figure using Monte Carlo integration.\n",
      "\n",
      "The integral comes from summing all the potentials from the chunks of \u201cpoint\u201d charges. Just as we summed two charges for a dipole, now we\u2019ll sum many charges. The important part is to understand how dQ, modeled as a point charge, is related to \u03c3dA, where \u03c3 is the surface charge density = charge/area (\u03c3=Q/A ) Review your notes from PHYS 133 if you need a refresher.\n",
      "\n",
      "We want to use our previously defined pointPotential() function from Electrostatics.py, so we have to import it."
     ]
    },
    {
     "cell_type": "code",
     "collapsed": false,
     "input": [
      "from Electrostatics import *"
     ],
     "language": "python",
     "metadata": {},
     "outputs": [],
     "prompt_number": 2
    },
    {
     "cell_type": "markdown",
     "metadata": {},
     "source": [
      "(a) Use the sample mean method to compute the potential at point P(2,3) due to the disk of charge for different numbers of samples N=(101,102,103,104,105,106). Report the value and its statistical uncertainty for each sample size. How does the result depend on N?\n",
      " "
     ]
    },
    {
     "cell_type": "code",
     "collapsed": false,
     "input": [
      "def sampleMean(N,xmin=-1.,xmax=1.):\n",
      "    s = 1*10**(-6)\n",
      "    #Set up the function\n",
      "    f = lambda r: r**() + np.sin(x)\n",
      "    x = np.arange(0.,15.,0.001)\n",
      "    Iana = lambda x: (2./3.)*x**(3./2.) - np.cos(x)\n",
      "    Iexact = Iana(xmax)-Iana(xmin)\n",
      "\n",
      "    ##########################################################\n",
      "    #Here's the integration part:\n",
      "    samples_x = xmin + (xmax-xmin)*np.random.random_sample(N);\n",
      "    \n",
      "    approx = f(samples_x)\n",
      "    I = approx.mean()*(xmax-xmin)\n",
      "\n",
      "    #Numerical uncertainty\n",
      "    Iunc = (xmax-xmin)*np.sqrt( ((approx**2).mean()-(approx.mean())**2)/N )\n",
      "\n",
      "    #Comparison with exact result\n",
      "    Ierr = 100*np.abs(Iexact-I)/Iexact\n",
      "    ##########################################################\n",
      "\n",
      "    #find the maximum value of f within the boundary to set ymax\n",
      "    ymax = approx.max()\n",
      "    ymin = 0.\n",
      "    \n",
      "    #Print our results\n",
      "    print \"I_exact =\", Iexact\n",
      "    print \"I_samplemean =\", I, \" +/- \",Iunc\n",
      "    print \"Error on I =\", Ierr, \"%\"\n",
      "\n",
      "    #Plot our function\n",
      "    plt.plot(x,f(x),lw=3)\n",
      "    plt.ylabel(r'$x^{1/2} + \\sin(x)$',fontsize=20)\n",
      "    plt.xlabel(r'$x$', fontsize = 20)\n",
      "    plt.xlim(0.,15.)\n",
      "\n",
      "    #plot the box\n",
      "    plt.plot([xmin, xmin], [ymin, ymax], color='k', linestyle='--') #vertical left\n",
      "    plt.plot([xmax, xmax], [ymin, ymax], color='k', linestyle='--') #vertical right\n",
      "    plt.plot([xmin, xmax], [ymax, ymax], color='k', linestyle='--') #horizontal top\n",
      "\n",
      "    #Plot the average value of the function from the samples on the same graph for comparison:\n",
      "    plt.plot((xmin,xmax),(approx.mean(),approx.mean()),'r-',label=\"Average value of function at sample points\")\n",
      "    plt.legend(loc=\"upper left\")\n",
      "    \n",
      "    plt.show()\n",
      "    \n",
      "v2 = interact(sampleMean,N=(1000,100000,100),xmin=(0.,15.,0.001),xmax=(0.,15.,0.001))"
     ],
     "language": "python",
     "metadata": {},
     "outputs": [
      {
       "ename": "NameError",
       "evalue": "name 'interact' is not defined",
       "output_type": "pyerr",
       "traceback": [
        "\u001b[1;31m---------------------------------------------------------------------------\u001b[0m\n\u001b[1;31mNameError\u001b[0m                                 Traceback (most recent call last)",
        "\u001b[1;32m<ipython-input-3-f9a2005c8248>\u001b[0m in \u001b[0;36m<module>\u001b[1;34m()\u001b[0m\n\u001b[0;32m     47\u001b[0m     \u001b[0mplt\u001b[0m\u001b[1;33m.\u001b[0m\u001b[0mshow\u001b[0m\u001b[1;33m(\u001b[0m\u001b[1;33m)\u001b[0m\u001b[1;33m\u001b[0m\u001b[0m\n\u001b[0;32m     48\u001b[0m \u001b[1;33m\u001b[0m\u001b[0m\n\u001b[1;32m---> 49\u001b[1;33m \u001b[0mv2\u001b[0m \u001b[1;33m=\u001b[0m \u001b[0minteract\u001b[0m\u001b[1;33m(\u001b[0m\u001b[0msampleMean\u001b[0m\u001b[1;33m,\u001b[0m\u001b[0mN\u001b[0m\u001b[1;33m=\u001b[0m\u001b[1;33m(\u001b[0m\u001b[1;36m1000\u001b[0m\u001b[1;33m,\u001b[0m\u001b[1;36m100000\u001b[0m\u001b[1;33m,\u001b[0m\u001b[1;36m100\u001b[0m\u001b[1;33m)\u001b[0m\u001b[1;33m,\u001b[0m\u001b[0mxmin\u001b[0m\u001b[1;33m=\u001b[0m\u001b[1;33m(\u001b[0m\u001b[1;36m0.\u001b[0m\u001b[1;33m,\u001b[0m\u001b[1;36m15.\u001b[0m\u001b[1;33m,\u001b[0m\u001b[1;36m0.001\u001b[0m\u001b[1;33m)\u001b[0m\u001b[1;33m,\u001b[0m\u001b[0mxmax\u001b[0m\u001b[1;33m=\u001b[0m\u001b[1;33m(\u001b[0m\u001b[1;36m0.\u001b[0m\u001b[1;33m,\u001b[0m\u001b[1;36m15.\u001b[0m\u001b[1;33m,\u001b[0m\u001b[1;36m0.001\u001b[0m\u001b[1;33m)\u001b[0m\u001b[1;33m)\u001b[0m\u001b[1;33m\u001b[0m\u001b[0m\n\u001b[0m",
        "\u001b[1;31mNameError\u001b[0m: name 'interact' is not defined"
       ]
      }
     ],
     "prompt_number": 3
    },
    {
     "cell_type": "markdown",
     "metadata": {},
     "source": [
      "(b) Now use the same method to compute the electric potential, V, at point P(2,3), from a disk centered on the origin with radius, R=1.2 m, and charge density, \u03c3 = 2 nC/m2 ."
     ]
    },
    {
     "cell_type": "code",
     "collapsed": false,
     "input": [
      "fxyz =  lambda x,y,z: 4. - x**2 - y**2 - z**2\n",
      "xa = 0.; xb = 9./10.\n",
      "ya = 0.; yb = 1.\n",
      "za = 0.; zb = 11./10.\n",
      "\n",
      "i = (10,100,1000,10000,100000,1000000)\n",
      "for N in i:\n",
      "    x = (xb-xa)*np.random.random_sample(N)\n",
      "    y = (yb-ya)*np.random.random_sample(N)\n",
      "    z = (zb-za)*np.random.random_sample(N)\n",
      "\n",
      "    I = (xb-xa)*(yb-ya)*(zb-za)*fxyz(x,y,z).mean()\n",
      "    err = (xb-xa)*(yb-ya)*(zb-za)*np.sqrt(((fxyz(x,y,z)**2).mean() - (fxyz(x,y,z).mean())**2)/N)\n",
      "    exact = 14817./5000\n",
      "    \n",
      "    print \"Exact =\",exact,\"I=\",I,\" +/-\",err,\"percentErr =\",100.*np.abs(I-exact)/exact"
     ],
     "language": "python",
     "metadata": {},
     "outputs": [
      {
       "output_type": "stream",
       "stream": "stdout",
       "text": [
        "Exact = 2.9634 I= 3.10937949299  +/- 0.20960521619 percentErr = 4.92608129144\n",
        "Exact = 2.9634 I= 3.01437080326  +/- 0.0494099276151 percentErr = 1.72001090848\n",
        "Exact = 2.9634 I= 2.97606933169  +/- 0.0163973466178 percentErr = 0.427526884413\n",
        "Exact = 2.9634 I= 2.96635059813  +/- 0.00517642524126 percentErr = 0.0995680005394\n",
        "Exact = 2.9634 I= 2.96254508064  +/- 0.0016497208701 percentErr = 0.0288492730468\n",
        "Exact ="
       ]
      },
      {
       "output_type": "stream",
       "stream": "stdout",
       "text": [
        " 2.9634 I= 2.96229377375  +/- 0.000521590470311 percentErr = 0.0373296299636\n"
       ]
      }
     ],
     "prompt_number": 4
    },
    {
     "cell_type": "heading",
     "level": 1,
     "metadata": {},
     "source": [
      "Question 2"
     ]
    },
    {
     "cell_type": "markdown",
     "metadata": {},
     "source": [
      "Use the sample mean method to compute the volume of a sphere with radius 1 using spherical coordinates:\n",
      "\n",
      "V=\u222b10\u222b\u03c00\u222b2\u03c00r2sin(\u03b8)drd\u03b8d\u03d5\n",
      "\n",
      "for N=(101,102,103,104,105,106). Report the value and statistical uncertainty for each sample size. How does the result depend on N?"
     ]
    },
    {
     "cell_type": "code",
     "collapsed": false,
     "input": [
      "frthetaphi =  lambda r,theta,phi: r**2*np.sin(theta)\n",
      "r_a = 0.; r_b = 1.\n",
      "theta_a = 0.; theta_b = np.pi\n",
      "phi_a = 0.; phi_b = 2*np.pi\n",
      "\n",
      "i = (10,100,1000,10000,100000,1000000)\n",
      "for N in i:\n",
      "    r = (r_b-r_a)*np.random.random_sample(N)\n",
      "    theta = (theta_b-theta_a)*np.random.random_sample(N)\n",
      "    phi = (phi_b-phi_a)*np.random.random_sample(N)\n",
      "\n",
      "    V = (r_b-r_a)*(theta_b-theta_a)*(phi_b-phi_a)*frthetaphi(r,theta,phi).mean()\n",
      "    unc = (r_b-r_a)*(theta_b-theta_a)*(phi_b-phi_a)*np.sqrt(((frthetaphi(r,theta,phi)**2).mean() - (frthetaphi(r,theta,phi).mean())**2)/N)\n",
      "    exact = 14817./5000\n",
      "    \n",
      "    print \"V =\",V,\" +/-\",unc,\"percentErr =\",100.*np.abs(V-exact)/exact"
     ],
     "language": "python",
     "metadata": {},
     "outputs": [
      {
       "output_type": "stream",
       "stream": "stdout",
       "text": [
        "V = 3.36364571282  +/- 1.00976959059 percentErr = 13.5063006285\n",
        "V = 4.93375707833  +/- 0.526646320479 percentErr = 66.4897441564\n",
        "V = 4.26472136052  +/- 0.147975944778 percentErr = 43.9131187324\n",
        "V = 4.20102221463  +/- 0.0464670481138 percentErr = 41.7635896144\n",
        "V = 4.18369640384  +/- 0.0146155169708 percentErr = 41.1789297375\n",
        "V ="
       ]
      },
      {
       "output_type": "stream",
       "stream": "stdout",
       "text": [
        " 4.18834015447  +/- 0.00462767440752 percentErr = 41.3356332073\n"
       ]
      }
     ],
     "prompt_number": 5
    },
    {
     "cell_type": "heading",
     "level": 1,
     "metadata": {},
     "source": [
      "Question 3"
     ]
    },
    {
     "cell_type": "markdown",
     "metadata": {},
     "source": [
      "(a) Use the hit or miss Monte Carlo method to estimate the integral of f(x)=41\u2212x2\u2212\u2212\u2212\u2212\u2212\u221a in the interval 0\u2264x\u22641 as a function of N, the number of samples. Let N range from 101 to 106 and use at least 100 different values for N.\n",
      "\n",
      "(np.logspace might be useful here to get evenly spaced values for N.)"
     ]
    },
    {
     "cell_type": "code",
     "collapsed": false,
     "input": [
      "f = lambda x: 4*(1-x**2)**(1/2)"
     ],
     "language": "python",
     "metadata": {},
     "outputs": [],
     "prompt_number": 12
    },
    {
     "cell_type": "code",
     "collapsed": false,
     "input": [
      "x = np.arange(0.,1.,0.001)"
     ],
     "language": "python",
     "metadata": {},
     "outputs": [],
     "prompt_number": 13
    },
    {
     "cell_type": "code",
     "collapsed": false,
     "input": [
      "xmin = 0.\n",
      "xmax = 1.\n",
      "\n",
      "subx = x[logical_and((x > xmin),(x < xmax))]\n",
      "ymax = f(subx).max()*1.05\n",
      "ymin = 0."
     ],
     "language": "python",
     "metadata": {},
     "outputs": [],
     "prompt_number": 14
    },
    {
     "cell_type": "code",
     "collapsed": false,
     "input": [
      "N = np.logspace(10,10**6,num=100,endpoint=True)\n",
      "for i in N:\n",
      "    samples_x = xmin + (xmax-xmin)*np.random.random_sample(N);\n",
      "    samples_y = ymin + (ymax-ymin)*np.random.random_sample(N);"
     ],
     "language": "python",
     "metadata": {},
     "outputs": [
      {
       "output_type": "stream",
       "stream": "stderr",
       "text": [
        "C:\\Users\\Jordan\\Anaconda\\lib\\site-packages\\numpy\\core\\function_base.py:168: RuntimeWarning: overflow encountered in power\n",
        "  return _nx.power(base, y)\n"
       ]
      },
      {
       "ename": "ValueError",
       "evalue": "sequence too large; must be smaller than 32",
       "output_type": "pyerr",
       "traceback": [
        "\u001b[1;31m---------------------------------------------------------------------------\u001b[0m\n\u001b[1;31mValueError\u001b[0m                                Traceback (most recent call last)",
        "\u001b[1;32m<ipython-input-15-295927b2286e>\u001b[0m in \u001b[0;36m<module>\u001b[1;34m()\u001b[0m\n\u001b[0;32m      1\u001b[0m \u001b[0mN\u001b[0m \u001b[1;33m=\u001b[0m \u001b[0mnp\u001b[0m\u001b[1;33m.\u001b[0m\u001b[0mlogspace\u001b[0m\u001b[1;33m(\u001b[0m\u001b[1;36m10\u001b[0m\u001b[1;33m,\u001b[0m\u001b[1;36m10\u001b[0m\u001b[1;33m**\u001b[0m\u001b[1;36m6\u001b[0m\u001b[1;33m,\u001b[0m\u001b[0mnum\u001b[0m\u001b[1;33m=\u001b[0m\u001b[1;36m100\u001b[0m\u001b[1;33m,\u001b[0m\u001b[0mendpoint\u001b[0m\u001b[1;33m=\u001b[0m\u001b[0mTrue\u001b[0m\u001b[1;33m)\u001b[0m\u001b[1;33m\u001b[0m\u001b[0m\n\u001b[0;32m      2\u001b[0m \u001b[1;32mfor\u001b[0m \u001b[0mi\u001b[0m \u001b[1;32min\u001b[0m \u001b[0mN\u001b[0m\u001b[1;33m:\u001b[0m\u001b[1;33m\u001b[0m\u001b[0m\n\u001b[1;32m----> 3\u001b[1;33m     \u001b[0msamples_x\u001b[0m \u001b[1;33m=\u001b[0m \u001b[0mxmin\u001b[0m \u001b[1;33m+\u001b[0m \u001b[1;33m(\u001b[0m\u001b[0mxmax\u001b[0m\u001b[1;33m-\u001b[0m\u001b[0mxmin\u001b[0m\u001b[1;33m)\u001b[0m\u001b[1;33m*\u001b[0m\u001b[0mnp\u001b[0m\u001b[1;33m.\u001b[0m\u001b[0mrandom\u001b[0m\u001b[1;33m.\u001b[0m\u001b[0mrandom_sample\u001b[0m\u001b[1;33m(\u001b[0m\u001b[0mN\u001b[0m\u001b[1;33m)\u001b[0m\u001b[1;33m;\u001b[0m\u001b[1;33m\u001b[0m\u001b[0m\n\u001b[0m\u001b[0;32m      4\u001b[0m     \u001b[0msamples_y\u001b[0m \u001b[1;33m=\u001b[0m \u001b[0mymin\u001b[0m \u001b[1;33m+\u001b[0m \u001b[1;33m(\u001b[0m\u001b[0mymax\u001b[0m\u001b[1;33m-\u001b[0m\u001b[0mymin\u001b[0m\u001b[1;33m)\u001b[0m\u001b[1;33m*\u001b[0m\u001b[0mnp\u001b[0m\u001b[1;33m.\u001b[0m\u001b[0mrandom\u001b[0m\u001b[1;33m.\u001b[0m\u001b[0mrandom_sample\u001b[0m\u001b[1;33m(\u001b[0m\u001b[0mN\u001b[0m\u001b[1;33m)\u001b[0m\u001b[1;33m;\u001b[0m\u001b[1;33m\u001b[0m\u001b[0m\n\u001b[0;32m      5\u001b[0m \u001b[1;33m\u001b[0m\u001b[0m\n",
        "\u001b[1;32mC:\\Users\\Jordan\\Anaconda\\lib\\site-packages\\numpy\\random\\mtrand.pyd\u001b[0m in \u001b[0;36mmtrand.RandomState.random_sample (numpy\\random\\mtrand\\mtrand.c:6434)\u001b[1;34m()\u001b[0m\n",
        "\u001b[1;32mC:\\Users\\Jordan\\Anaconda\\lib\\site-packages\\numpy\\random\\mtrand.pyd\u001b[0m in \u001b[0;36mmtrand.cont0_array (numpy\\random\\mtrand\\mtrand.c:1720)\u001b[1;34m()\u001b[0m\n",
        "\u001b[1;31mValueError\u001b[0m: sequence too large; must be smaller than 32"
       ]
      }
     ],
     "prompt_number": 15
    },
    {
     "cell_type": "code",
     "collapsed": false,
     "input": [
      "newmask = (samples_y < f(samples_x))\n",
      "newmask.sum()"
     ],
     "language": "python",
     "metadata": {},
     "outputs": [
      {
       "metadata": {},
       "output_type": "pyout",
       "prompt_number": 16,
       "text": [
        "9501"
       ]
      }
     ],
     "prompt_number": 16
    },
    {
     "cell_type": "code",
     "collapsed": false,
     "input": [
      "I = (xmax-xmin)*(ymax-ymin)*newmask.sum()/newmask.size\n",
      "print I"
     ],
     "language": "python",
     "metadata": {},
     "outputs": [
      {
       "output_type": "stream",
       "stream": "stdout",
       "text": [
        "3.99042\n"
       ]
      }
     ],
     "prompt_number": 17
    },
    {
     "cell_type": "code",
     "collapsed": false,
     "input": [],
     "language": "python",
     "metadata": {},
     "outputs": []
    }
   ],
   "metadata": {}
  }
 ]
}