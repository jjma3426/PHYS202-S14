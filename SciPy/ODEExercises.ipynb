{
 "metadata": {
  "name": "",
  "signature": "sha256:97abd4a7c24f6688a11758bd9c9effd97ce16be994b4ec87ee2110be606df0af"
 },
 "nbformat": 3,
 "nbformat_minor": 0,
 "worksheets": [
  {
   "cells": [
    {
     "cell_type": "heading",
     "level": 1,
     "metadata": {},
     "source": [
      "Ordinary Differential Equation Exercises"
     ]
    },
    {
     "cell_type": "heading",
     "level": 2,
     "metadata": {},
     "source": [
      "Question 1"
     ]
    },
    {
     "cell_type": "markdown",
     "metadata": {},
     "source": [
      "For this question refer to the solutions for the simple pendulum we got using scipy's odeint from the beginning of the ODE Tour.\n",
      "\n",
      "(a) Use the numerical solution to see what happens to the period of the pendulum as you change the initial angle of release. Plot \u03b8 vs. t for 5 different initial angles, \u03b80 , spanning 0 to \u03c0. (i.e. 0, \u03c0/4 , \u03c0/2 , 3\u03c0/4 , and \u03c0 ). Put them all on the same plot. What happens to the period of the pendulum as the initial angle increases from \u03c0/4 to 3\u03c0/4? What happens to the trajectory when the initial angle is 0 or \u03c0 ?"
     ]
    },
    {
     "cell_type": "code",
     "collapsed": false,
     "input": [],
     "language": "python",
     "metadata": {},
     "outputs": []
    }
   ],
   "metadata": {}
  }
 ]
}