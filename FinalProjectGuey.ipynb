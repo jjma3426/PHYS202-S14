{
 "metadata": {
  "name": "",
  "signature": "sha256:53bbf5cd5051a8d6b4d3edc0f49726a1d5c48628c67e91bb5cf2eb535e54d446"
 },
 "nbformat": 3,
 "nbformat_minor": 0,
 "worksheets": [
  {
   "cells": [
    {
     "cell_type": "heading",
     "level": 1,
     "metadata": {},
     "source": [
      "The Schelling Model"
     ]
    },
    {
     "cell_type": "code",
     "collapsed": false,
     "input": [
      "import random\n",
      "from random import randint\n",
      "from IPython.html import widgets \n",
      "from IPython.display import display\n",
      "from ipythonblocks import BlockGrid"
     ],
     "language": "python",
     "metadata": {},
     "outputs": [],
     "prompt_number": 1
    },
    {
     "cell_type": "code",
     "collapsed": false,
     "input": [
      "grid = BlockGrid(5,5)\n",
      "for i in range(grid.height):\n",
      "    for j in range(grid.width):\n",
      "        rand_int1 = random.randint(1,3)\n",
      "        if rand_int1 == 1:\n",
      "            grid[i,j] = (0, 100, 210)\n",
      "        elif rand_int1 == 2:\n",
      "            grid[i,j] = (255, 200, 70)\n",
      "        elif rand_int1 == 3:\n",
      "            grid[i,j] = (35, 35, 35)\n",
      "        \n",
      "        if grid[i,j] == (0, 100, 210):\n",
      "            grid[i,j] = water_cell\n",
      "        elif grid[i,j] == (255, 200, 70):\n",
      "            grid[i,j] = oil_cell\n",
      "        elif grid[i,j] == (35, 35, 35):\n",
      "            grid[i,j] = empty_cell\n",
      "        cell1 = grid[i,j]\n",
      "grid.show()   "
     ],
     "language": "python",
     "metadata": {},
     "outputs": [
      {
       "html": [
        "<style type=\"text/css\">table.blockgrid {border: none;} .blockgrid tr {border: none;} .blockgrid td {padding: 0px;} #blocks10c588ac-2ce9-4515-8e16-953674b25441 td {border: 1px solid white;}</style><table id=\"blocks10c588ac-2ce9-4515-8e16-953674b25441\" class=\"blockgrid\"><tbody><tr><td title=\"Index: [0, 0]&#10;Color: (0, 100, 210)\" style=\"width: 20px; height: 20px;background-color: rgb(0, 100, 210);\"></td><td title=\"Index: [0, 1]&#10;Color: (255, 200, 70)\" style=\"width: 20px; height: 20px;background-color: rgb(255, 200, 70);\"></td><td title=\"Index: [0, 2]&#10;Color: (0, 100, 210)\" style=\"width: 20px; height: 20px;background-color: rgb(0, 100, 210);\"></td><td title=\"Index: [0, 3]&#10;Color: (255, 200, 70)\" style=\"width: 20px; height: 20px;background-color: rgb(255, 200, 70);\"></td><td title=\"Index: [0, 4]&#10;Color: (255, 200, 70)\" style=\"width: 20px; height: 20px;background-color: rgb(255, 200, 70);\"></td></tr><tr><td title=\"Index: [1, 0]&#10;Color: (35, 35, 35)\" style=\"width: 20px; height: 20px;background-color: rgb(35, 35, 35);\"></td><td title=\"Index: [1, 1]&#10;Color: (255, 200, 70)\" style=\"width: 20px; height: 20px;background-color: rgb(255, 200, 70);\"></td><td title=\"Index: [1, 2]&#10;Color: (255, 200, 70)\" style=\"width: 20px; height: 20px;background-color: rgb(255, 200, 70);\"></td><td title=\"Index: [1, 3]&#10;Color: (255, 200, 70)\" style=\"width: 20px; height: 20px;background-color: rgb(255, 200, 70);\"></td><td title=\"Index: [1, 4]&#10;Color: (255, 200, 70)\" style=\"width: 20px; height: 20px;background-color: rgb(255, 200, 70);\"></td></tr><tr><td title=\"Index: [2, 0]&#10;Color: (35, 35, 35)\" style=\"width: 20px; height: 20px;background-color: rgb(35, 35, 35);\"></td><td title=\"Index: [2, 1]&#10;Color: (35, 35, 35)\" style=\"width: 20px; height: 20px;background-color: rgb(35, 35, 35);\"></td><td title=\"Index: [2, 2]&#10;Color: (0, 100, 210)\" style=\"width: 20px; height: 20px;background-color: rgb(0, 100, 210);\"></td><td title=\"Index: [2, 3]&#10;Color: (255, 200, 70)\" style=\"width: 20px; height: 20px;background-color: rgb(255, 200, 70);\"></td><td title=\"Index: [2, 4]&#10;Color: (255, 200, 70)\" style=\"width: 20px; height: 20px;background-color: rgb(255, 200, 70);\"></td></tr><tr><td title=\"Index: [3, 0]&#10;Color: (0, 100, 210)\" style=\"width: 20px; height: 20px;background-color: rgb(0, 100, 210);\"></td><td title=\"Index: [3, 1]&#10;Color: (35, 35, 35)\" style=\"width: 20px; height: 20px;background-color: rgb(35, 35, 35);\"></td><td title=\"Index: [3, 2]&#10;Color: (35, 35, 35)\" style=\"width: 20px; height: 20px;background-color: rgb(35, 35, 35);\"></td><td title=\"Index: [3, 3]&#10;Color: (35, 35, 35)\" style=\"width: 20px; height: 20px;background-color: rgb(35, 35, 35);\"></td><td title=\"Index: [3, 4]&#10;Color: (0, 100, 210)\" style=\"width: 20px; height: 20px;background-color: rgb(0, 100, 210);\"></td></tr><tr><td title=\"Index: [4, 0]&#10;Color: (0, 100, 210)\" style=\"width: 20px; height: 20px;background-color: rgb(0, 100, 210);\"></td><td title=\"Index: [4, 1]&#10;Color: (35, 35, 35)\" style=\"width: 20px; height: 20px;background-color: rgb(35, 35, 35);\"></td><td title=\"Index: [4, 2]&#10;Color: (255, 200, 70)\" style=\"width: 20px; height: 20px;background-color: rgb(255, 200, 70);\"></td><td title=\"Index: [4, 3]&#10;Color: (0, 100, 210)\" style=\"width: 20px; height: 20px;background-color: rgb(0, 100, 210);\"></td><td title=\"Index: [4, 4]&#10;Color: (35, 35, 35)\" style=\"width: 20px; height: 20px;background-color: rgb(35, 35, 35);\"></td></tr></tbody></table>"
       ],
       "metadata": {},
       "output_type": "display_data",
       "text": [
        "<IPython.core.display.HTML at 0x3c2c400>"
       ]
      }
     ],
     "prompt_number": 7
    },
    {
     "cell_type": "code",
     "collapsed": false,
     "input": [
      "#def satisfy_that_shit(t)\n",
      "for i in range(grid.height):\n",
      "    for j in range(grid.width): \n",
      "        same_cells = 0\n",
      "        diff_cells = 0\n",
      "        t = same_cells/diff_cells #satisfaction rate\n",
      "         \n",
      "            if t >= 0.3\n",
      "                pass\n",
      "            else:\n",
      "                #Try to make it so it goes to the nearest empty cell, \n",
      "                #not just the first\n",
      "                for k in range(grid.height):\n",
      "                    for l in range(grid.width): \n",
      "                        if grid[k,l] == (35, 35, 35):\n",
      "                            grid[k,l] = cell2\n",
      "                            if cell1 == (0, 100, 210):\n",
      "                                cell2 = (0, 100, 210)\n",
      "                                cell1 = (35, 35, 35)\n",
      "                            if cell1 == (255, 200, 70):\n",
      "                                cell2 = (255, 200, 70)\n",
      "                                cell1 = (35, 35, 35)\n",
      "                    \n",
      "#Get down that satisfaction        "
     ],
     "language": "python",
     "metadata": {},
     "outputs": [
      {
       "ename": "IndentationError",
       "evalue": "unexpected indent (<ipython-input-3-55b248edc3e8>, line 8)",
       "output_type": "pyerr",
       "traceback": [
        "\u001b[1;36m  File \u001b[1;32m\"<ipython-input-3-55b248edc3e8>\"\u001b[1;36m, line \u001b[1;32m8\u001b[0m\n\u001b[1;33m    if t >= 0.3\u001b[0m\n\u001b[1;37m    ^\u001b[0m\n\u001b[1;31mIndentationError\u001b[0m\u001b[1;31m:\u001b[0m unexpected indent\n"
       ]
      }
     ],
     "prompt_number": 3
    },
    {
     "cell_type": "code",
     "collapsed": false,
     "input": [
      "def one_color(target_grid, color):\n",
      "    for row_number in range(target_grid.height):\n",
      "        for column_number in range(target_grid.width):\n",
      "            grid[row_number, column_number] = color"
     ],
     "language": "python",
     "metadata": {},
     "outputs": []
    },
    {
     "cell_type": "code",
     "collapsed": false,
     "input": [
      "one_color(grid, colors['LightGreen'])\n",
      "grid.show()"
     ],
     "language": "python",
     "metadata": {},
     "outputs": []
    },
    {
     "cell_type": "code",
     "collapsed": false,
     "input": [
      "import time\n",
      "from ipythonblocks import colors\n",
      "from IPython.display import clear_output\n",
      "for color in [colors['Red'], colors['Green'], colors['Blue'], colors['White'], colors['Purple']]:\n",
      "    clear_output()\n",
      "    one_color(grid, color)\n",
      "    grid.show()\n",
      "    time.sleep()"
     ],
     "language": "python",
     "metadata": {},
     "outputs": []
    },
    {
     "cell_type": "code",
     "collapsed": false,
     "input": [],
     "language": "python",
     "metadata": {},
     "outputs": []
    },
    {
     "cell_type": "code",
     "collapsed": false,
     "input": [
      "#wanted_water_cells = raw_input('How many water cells?')\n",
      "#wanted_oil_cells = raw_input('How many oil cells?')\n",
      "#wanted_empty_cells = raw_input('How many empty cells?')\n",
      "    \n",
      "#wanted_water_cells = widgets.FloatSliderWidget(min = 0, max = 25, step = 1)\n",
      "#display(wanted_water_cells)\n",
      "#wanted_oil_cells = widgets.FloatSliderWidget(min = 0, max = 25, step = 1)\n",
      "#display(wanted_oil_cells)\n",
      "#wanted_empty_cells = widgets.FloatSliderWidget(min = 0, max = 25, step = 1)\n",
      "#display(wanted_empty_cells)\n",
      "\n",
      "\n",
      "\n",
      "\n",
      "def fill_cells(wanted_water_cells, wanted_oil_cells, wanted_empty_cells):#How Many Cells do you want?\n",
      "    #then try widgets\n",
      "    #write an error handling code that says you need cells to add up to 25 or grid size\n",
      "\n",
      "    grid = BlockGrid(5,5)\n",
      "\n",
      "    water_cells = 0\n",
      "    oil_cells = 0\n",
      "    empty_cells = 0\n",
      "    \n",
      "    rand_cell = grid[randint(0, grid.width - 1), randint(0, grid.height - 1)]\n",
      "\n",
      "    for water_cell in range(grid.height):\n",
      "        #for water_cell in range(grid.width):\n",
      "            while wanted_water_cells > water_cells:\n",
      "                grid[randint(0, grid.width - 1), randint(0, grid.height - 1)] = (0, 0, 255)\n",
      "                rand_cell = (0, 0, 255)\n",
      "                water_cells += 1  \n",
      "                grid.show()\n",
      "                if wanted_water_cells == water_cells:\n",
      "                    break\n",
      "\n",
      "    for oil_cell in range(grid.height):\n",
      "        if rand_cell != (192, 192, 192):\n",
      "            pass\n",
      "        else:\n",
      "            while wanted_oil_cells > oil_cells:\n",
      "                grid[randint(0, grid.width - 1), randint(0, grid.height - 1)] = (255, 255, 0)\n",
      "                rand_cell = (255, 255, 0)\n",
      "                oil_cells += 1\n",
      "                grid.show()\n",
      "                if wanted_oil_cells == oil_cells:\n",
      "                    break\n",
      "\n",
      "    for empty_cell in range(grid.height):\n",
      "        if rand_cell != (192, 192, 192):\n",
      "            pass\n",
      "        else:\n",
      "            while wanted_empty_cells > empty_cells:\n",
      "                grid[randint(0, grid.width - 1), randint(0, grid.height - 1)] = (0, 0, 0)\n",
      "                rand_cell = (0, 0, 0)\n",
      "                empty_cells += 1   \n",
      "                grid.show()\n",
      "                if wanted_empty_cells == empty_cells:\n",
      "                    break"
     ],
     "language": "python",
     "metadata": {},
     "outputs": []
    },
    {
     "cell_type": "code",
     "collapsed": false,
     "input": [],
     "language": "python",
     "metadata": {},
     "outputs": []
    }
   ],
   "metadata": {}
  }
 ]
}