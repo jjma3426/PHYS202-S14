{
 "metadata": {
  "name": "",
  "signature": "sha256:5a16fd7d3c1888559a144a7b75bf1ba2bd8875ffb311b2b1d4fcdbabadc37e15"
 },
 "nbformat": 3,
 "nbformat_minor": 0,
 "worksheets": [
  {
   "cells": [
    {
     "cell_type": "heading",
     "level": 1,
     "metadata": {},
     "source": [
      "The Schelling Model"
     ]
    },
    {
     "cell_type": "code",
     "collapsed": false,
     "input": [
      "from random import randint\n",
      "from IPython.html import widgets # Widget definitions\n",
      "from IPython.display import display # Used to display widgets in the notbook\n",
      "from ipythonblocks import BlockGrid"
     ],
     "language": "python",
     "metadata": {},
     "outputs": [],
     "prompt_number": 5
    },
    {
     "cell_type": "code",
     "collapsed": false,
     "input": [
      "grid = BlockGrid(5,5,fill=(192,192,192))\n",
      "grid.show()\n",
      "\n",
      "#wanted_water_cells = raw_input('How many water cells?')\n",
      "#wanted_oil_cells = raw_input('How many oil cells?')\n",
      "#wanted_empty_cells = raw_input('How many empty cells?')\n",
      "    \n",
      "#wanted_water_cells = widgets.FloatSliderWidget(min = 0, max = 25, step = 1)\n",
      "#display(wanted_water_cells)\n",
      "#wanted_oil_cells = widgets.FloatSliderWidget(min = 0, max = 25, step = 1)\n",
      "#display(wanted_oil_cells)\n",
      "#wanted_empty_cells = widgets.FloatSliderWidget(min = 0, max = 25, step = 1)\n",
      "#display(wanted_empty_cells)\n",
      "\n",
      "\n",
      "def fill_cells(wanted_water_cells, wanted_oil_cells, wanted_empty_cells):\n",
      "    #then try widgets\n",
      "    #write an error handling code that says you need cells to add up to 25 or grid size\n",
      "\n",
      "    water_cells = 0\n",
      "    oil_cells = 0\n",
      "    empty_cells = 0\n",
      "    \n",
      "    rand_cell = grid[randint(0, grid.width - 1), randint(0, grid.height - 1)]\n",
      "\n",
      "    for water_cell in range(grid.width):\n",
      "        if rand_cell != (192, 192, 192):\n",
      "            pass\n",
      "        else:\n",
      "            while wanted_water_cells < water_cells:\n",
      "                rand_cell = (0, 0, 255)\n",
      "                water_cells += 1        \n",
      "\n",
      "    for oil_cell in range(grid.width):\n",
      "        if rand_cell != (192, 192, 192):\n",
      "            pass\n",
      "        else:\n",
      "            while wanted_oil_cells < oil_cells:\n",
      "                grid[randint(0, grid.width - 1), randint(0, grid.height - 1)] = (255, 255, 0)\n",
      "                oil_cells += 1\n",
      "\n",
      "    for oil_cell in range(grid.width):\n",
      "        if rand_cell != (192, 192, 192):\n",
      "            pass\n",
      "        else:\n",
      "            while wanted_empty_cells < empty_cells:\n",
      "                grid[randint(0, grid.width - 1), randint(0, grid.height - 1)] = (0, 0, 0)\n",
      "                empty_cells += 1   \n",
      "    \n",
      "fill_cells(raw_input('How many water cells?'), raw_input('How many oil cells?'), raw_input('How many empty cells?') )            \n",
      "grid.show()"
     ],
     "language": "python",
     "metadata": {},
     "outputs": [
      {
       "html": [
        "<style type=\"text/css\">table.blockgrid {border: none;} .blockgrid tr {border: none;} .blockgrid td {padding: 0px;} #blocks05d78127-585d-4649-aaaf-7ce7775851f4 td {border: 1px solid white;}</style><table id=\"blocks05d78127-585d-4649-aaaf-7ce7775851f4\" class=\"blockgrid\"><tbody><tr><td title=\"Index: [0, 0]&#10;Color: (192, 192, 192)\" style=\"width: 20px; height: 20px;background-color: rgb(192, 192, 192);\"></td><td title=\"Index: [0, 1]&#10;Color: (192, 192, 192)\" style=\"width: 20px; height: 20px;background-color: rgb(192, 192, 192);\"></td><td title=\"Index: [0, 2]&#10;Color: (192, 192, 192)\" style=\"width: 20px; height: 20px;background-color: rgb(192, 192, 192);\"></td><td title=\"Index: [0, 3]&#10;Color: (192, 192, 192)\" style=\"width: 20px; height: 20px;background-color: rgb(192, 192, 192);\"></td><td title=\"Index: [0, 4]&#10;Color: (192, 192, 192)\" style=\"width: 20px; height: 20px;background-color: rgb(192, 192, 192);\"></td></tr><tr><td title=\"Index: [1, 0]&#10;Color: (192, 192, 192)\" style=\"width: 20px; height: 20px;background-color: rgb(192, 192, 192);\"></td><td title=\"Index: [1, 1]&#10;Color: (192, 192, 192)\" style=\"width: 20px; height: 20px;background-color: rgb(192, 192, 192);\"></td><td title=\"Index: [1, 2]&#10;Color: (192, 192, 192)\" style=\"width: 20px; height: 20px;background-color: rgb(192, 192, 192);\"></td><td title=\"Index: [1, 3]&#10;Color: (192, 192, 192)\" style=\"width: 20px; height: 20px;background-color: rgb(192, 192, 192);\"></td><td title=\"Index: [1, 4]&#10;Color: (192, 192, 192)\" style=\"width: 20px; height: 20px;background-color: rgb(192, 192, 192);\"></td></tr><tr><td title=\"Index: [2, 0]&#10;Color: (192, 192, 192)\" style=\"width: 20px; height: 20px;background-color: rgb(192, 192, 192);\"></td><td title=\"Index: [2, 1]&#10;Color: (192, 192, 192)\" style=\"width: 20px; height: 20px;background-color: rgb(192, 192, 192);\"></td><td title=\"Index: [2, 2]&#10;Color: (192, 192, 192)\" style=\"width: 20px; height: 20px;background-color: rgb(192, 192, 192);\"></td><td title=\"Index: [2, 3]&#10;Color: (192, 192, 192)\" style=\"width: 20px; height: 20px;background-color: rgb(192, 192, 192);\"></td><td title=\"Index: [2, 4]&#10;Color: (192, 192, 192)\" style=\"width: 20px; height: 20px;background-color: rgb(192, 192, 192);\"></td></tr><tr><td title=\"Index: [3, 0]&#10;Color: (192, 192, 192)\" style=\"width: 20px; height: 20px;background-color: rgb(192, 192, 192);\"></td><td title=\"Index: [3, 1]&#10;Color: (192, 192, 192)\" style=\"width: 20px; height: 20px;background-color: rgb(192, 192, 192);\"></td><td title=\"Index: [3, 2]&#10;Color: (192, 192, 192)\" style=\"width: 20px; height: 20px;background-color: rgb(192, 192, 192);\"></td><td title=\"Index: [3, 3]&#10;Color: (192, 192, 192)\" style=\"width: 20px; height: 20px;background-color: rgb(192, 192, 192);\"></td><td title=\"Index: [3, 4]&#10;Color: (192, 192, 192)\" style=\"width: 20px; height: 20px;background-color: rgb(192, 192, 192);\"></td></tr><tr><td title=\"Index: [4, 0]&#10;Color: (192, 192, 192)\" style=\"width: 20px; height: 20px;background-color: rgb(192, 192, 192);\"></td><td title=\"Index: [4, 1]&#10;Color: (192, 192, 192)\" style=\"width: 20px; height: 20px;background-color: rgb(192, 192, 192);\"></td><td title=\"Index: [4, 2]&#10;Color: (192, 192, 192)\" style=\"width: 20px; height: 20px;background-color: rgb(192, 192, 192);\"></td><td title=\"Index: [4, 3]&#10;Color: (192, 192, 192)\" style=\"width: 20px; height: 20px;background-color: rgb(192, 192, 192);\"></td><td title=\"Index: [4, 4]&#10;Color: (192, 192, 192)\" style=\"width: 20px; height: 20px;background-color: rgb(192, 192, 192);\"></td></tr></tbody></table>"
       ],
       "metadata": {},
       "output_type": "display_data",
       "text": [
        "<IPython.core.display.HTML at 0x3b5e4e0>"
       ]
      },
      {
       "name": "stdout",
       "output_type": "stream",
       "stream": "stdout",
       "text": [
        "How many water cells?10\n"
       ]
      },
      {
       "name": "stdout",
       "output_type": "stream",
       "stream": "stdout",
       "text": [
        "How many oil cells?10\n"
       ]
      },
      {
       "name": "stdout",
       "output_type": "stream",
       "stream": "stdout",
       "text": [
        "How many empty cells?5\n"
       ]
      },
      {
       "html": [
        "<style type=\"text/css\">table.blockgrid {border: none;} .blockgrid tr {border: none;} .blockgrid td {padding: 0px;} #blocks75e0f2e5-3126-4fe4-828b-169316aab3f1 td {border: 1px solid white;}</style><table id=\"blocks75e0f2e5-3126-4fe4-828b-169316aab3f1\" class=\"blockgrid\"><tbody><tr><td title=\"Index: [0, 0]&#10;Color: (192, 192, 192)\" style=\"width: 20px; height: 20px;background-color: rgb(192, 192, 192);\"></td><td title=\"Index: [0, 1]&#10;Color: (192, 192, 192)\" style=\"width: 20px; height: 20px;background-color: rgb(192, 192, 192);\"></td><td title=\"Index: [0, 2]&#10;Color: (192, 192, 192)\" style=\"width: 20px; height: 20px;background-color: rgb(192, 192, 192);\"></td><td title=\"Index: [0, 3]&#10;Color: (192, 192, 192)\" style=\"width: 20px; height: 20px;background-color: rgb(192, 192, 192);\"></td><td title=\"Index: [0, 4]&#10;Color: (192, 192, 192)\" style=\"width: 20px; height: 20px;background-color: rgb(192, 192, 192);\"></td></tr><tr><td title=\"Index: [1, 0]&#10;Color: (192, 192, 192)\" style=\"width: 20px; height: 20px;background-color: rgb(192, 192, 192);\"></td><td title=\"Index: [1, 1]&#10;Color: (192, 192, 192)\" style=\"width: 20px; height: 20px;background-color: rgb(192, 192, 192);\"></td><td title=\"Index: [1, 2]&#10;Color: (192, 192, 192)\" style=\"width: 20px; height: 20px;background-color: rgb(192, 192, 192);\"></td><td title=\"Index: [1, 3]&#10;Color: (192, 192, 192)\" style=\"width: 20px; height: 20px;background-color: rgb(192, 192, 192);\"></td><td title=\"Index: [1, 4]&#10;Color: (192, 192, 192)\" style=\"width: 20px; height: 20px;background-color: rgb(192, 192, 192);\"></td></tr><tr><td title=\"Index: [2, 0]&#10;Color: (192, 192, 192)\" style=\"width: 20px; height: 20px;background-color: rgb(192, 192, 192);\"></td><td title=\"Index: [2, 1]&#10;Color: (192, 192, 192)\" style=\"width: 20px; height: 20px;background-color: rgb(192, 192, 192);\"></td><td title=\"Index: [2, 2]&#10;Color: (192, 192, 192)\" style=\"width: 20px; height: 20px;background-color: rgb(192, 192, 192);\"></td><td title=\"Index: [2, 3]&#10;Color: (192, 192, 192)\" style=\"width: 20px; height: 20px;background-color: rgb(192, 192, 192);\"></td><td title=\"Index: [2, 4]&#10;Color: (192, 192, 192)\" style=\"width: 20px; height: 20px;background-color: rgb(192, 192, 192);\"></td></tr><tr><td title=\"Index: [3, 0]&#10;Color: (192, 192, 192)\" style=\"width: 20px; height: 20px;background-color: rgb(192, 192, 192);\"></td><td title=\"Index: [3, 1]&#10;Color: (192, 192, 192)\" style=\"width: 20px; height: 20px;background-color: rgb(192, 192, 192);\"></td><td title=\"Index: [3, 2]&#10;Color: (192, 192, 192)\" style=\"width: 20px; height: 20px;background-color: rgb(192, 192, 192);\"></td><td title=\"Index: [3, 3]&#10;Color: (192, 192, 192)\" style=\"width: 20px; height: 20px;background-color: rgb(192, 192, 192);\"></td><td title=\"Index: [3, 4]&#10;Color: (192, 192, 192)\" style=\"width: 20px; height: 20px;background-color: rgb(192, 192, 192);\"></td></tr><tr><td title=\"Index: [4, 0]&#10;Color: (192, 192, 192)\" style=\"width: 20px; height: 20px;background-color: rgb(192, 192, 192);\"></td><td title=\"Index: [4, 1]&#10;Color: (192, 192, 192)\" style=\"width: 20px; height: 20px;background-color: rgb(192, 192, 192);\"></td><td title=\"Index: [4, 2]&#10;Color: (192, 192, 192)\" style=\"width: 20px; height: 20px;background-color: rgb(192, 192, 192);\"></td><td title=\"Index: [4, 3]&#10;Color: (192, 192, 192)\" style=\"width: 20px; height: 20px;background-color: rgb(192, 192, 192);\"></td><td title=\"Index: [4, 4]&#10;Color: (192, 192, 192)\" style=\"width: 20px; height: 20px;background-color: rgb(192, 192, 192);\"></td></tr></tbody></table>"
       ],
       "metadata": {},
       "output_type": "display_data",
       "text": [
        "<IPython.core.display.HTML at 0x3b5eb38>"
       ]
      }
     ],
     "prompt_number": 11
    },
    {
     "cell_type": "code",
     "collapsed": false,
     "input": [],
     "language": "python",
     "metadata": {},
     "outputs": []
    }
   ],
   "metadata": {}
  }
 ]
}