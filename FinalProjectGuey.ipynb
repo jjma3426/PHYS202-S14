{
 "metadata": {
  "name": "",
  "signature": "sha256:c5bb51c2a4922b5e5672b2394daa892b4c6fa00b48761b3efb3c4985925aaee9"
 },
 "nbformat": 3,
 "nbformat_minor": 0,
 "worksheets": [
  {
   "cells": [
    {
     "cell_type": "heading",
     "level": 1,
     "metadata": {},
     "source": [
      "The Schelling Model"
     ]
    },
    {
     "cell_type": "code",
     "collapsed": false,
     "input": [
      "import random\n",
      "from random import randint\n",
      "from IPython.html import widgets \n",
      "from IPython.display import display\n",
      "from ipythonblocks import BlockGrid"
     ],
     "language": "python",
     "metadata": {},
     "outputs": [],
     "prompt_number": 1
    },
    {
     "cell_type": "heading",
     "level": 2,
     "metadata": {},
     "source": [
      "Random Fill function"
     ]
    },
    {
     "cell_type": "code",
     "collapsed": false,
     "input": [
      "grid = BlockGrid(5,5)\n",
      "for i in range(grid.height):\n",
      "    for j in range(grid.width):\n",
      "        rand_int1 = random.randint(1,100)\n",
      "        if rand_int1 <= 60: #make this a slider\n",
      "            grid[i,j] = (0, 100, 210)\n",
      "        elif 61 <= rand_int1 <= 80:\n",
      "            grid[i,j] = (255, 200, 70)\n",
      "        elif 81 <= rand_int1 <= 100:\n",
      "            grid[i,j] = (35, 35, 35)\n",
      "        \n",
      "        if grid[i,j] == (0, 100, 210):\n",
      "            grid[i,j] = water_cell\n",
      "        elif grid[i,j] == (255, 200, 70):\n",
      "            grid[i,j] = oil_cell\n",
      "        elif grid[i,j] == (35, 35, 35):\n",
      "            grid[i,j] = empty_cell\n",
      "        cell1 = grid[i,j]\n",
      "grid.show()   "
     ],
     "language": "python",
     "metadata": {},
     "outputs": [
      {
       "html": [
        "<style type=\"text/css\">table.blockgrid {border: none;} .blockgrid tr {border: none;} .blockgrid td {padding: 0px;} #blockse91b383f-bfaf-4cf9-8e8b-e05f350b94a7 td {border: 1px solid white;}</style><table id=\"blockse91b383f-bfaf-4cf9-8e8b-e05f350b94a7\" class=\"blockgrid\"><tbody><tr><td title=\"Index: [0, 0]&#10;Color: (255, 200, 70)\" style=\"width: 20px; height: 20px;background-color: rgb(255, 200, 70);\"></td><td title=\"Index: [0, 1]&#10;Color: (0, 100, 210)\" style=\"width: 20px; height: 20px;background-color: rgb(0, 100, 210);\"></td><td title=\"Index: [0, 2]&#10;Color: (0, 100, 210)\" style=\"width: 20px; height: 20px;background-color: rgb(0, 100, 210);\"></td><td title=\"Index: [0, 3]&#10;Color: (35, 35, 35)\" style=\"width: 20px; height: 20px;background-color: rgb(35, 35, 35);\"></td><td title=\"Index: [0, 4]&#10;Color: (35, 35, 35)\" style=\"width: 20px; height: 20px;background-color: rgb(35, 35, 35);\"></td></tr><tr><td title=\"Index: [1, 0]&#10;Color: (255, 200, 70)\" style=\"width: 20px; height: 20px;background-color: rgb(255, 200, 70);\"></td><td title=\"Index: [1, 1]&#10;Color: (35, 35, 35)\" style=\"width: 20px; height: 20px;background-color: rgb(35, 35, 35);\"></td><td title=\"Index: [1, 2]&#10;Color: (35, 35, 35)\" style=\"width: 20px; height: 20px;background-color: rgb(35, 35, 35);\"></td><td title=\"Index: [1, 3]&#10;Color: (255, 200, 70)\" style=\"width: 20px; height: 20px;background-color: rgb(255, 200, 70);\"></td><td title=\"Index: [1, 4]&#10;Color: (0, 100, 210)\" style=\"width: 20px; height: 20px;background-color: rgb(0, 100, 210);\"></td></tr><tr><td title=\"Index: [2, 0]&#10;Color: (255, 200, 70)\" style=\"width: 20px; height: 20px;background-color: rgb(255, 200, 70);\"></td><td title=\"Index: [2, 1]&#10;Color: (35, 35, 35)\" style=\"width: 20px; height: 20px;background-color: rgb(35, 35, 35);\"></td><td title=\"Index: [2, 2]&#10;Color: (0, 100, 210)\" style=\"width: 20px; height: 20px;background-color: rgb(0, 100, 210);\"></td><td title=\"Index: [2, 3]&#10;Color: (0, 100, 210)\" style=\"width: 20px; height: 20px;background-color: rgb(0, 100, 210);\"></td><td title=\"Index: [2, 4]&#10;Color: (0, 100, 210)\" style=\"width: 20px; height: 20px;background-color: rgb(0, 100, 210);\"></td></tr><tr><td title=\"Index: [3, 0]&#10;Color: (0, 100, 210)\" style=\"width: 20px; height: 20px;background-color: rgb(0, 100, 210);\"></td><td title=\"Index: [3, 1]&#10;Color: (0, 100, 210)\" style=\"width: 20px; height: 20px;background-color: rgb(0, 100, 210);\"></td><td title=\"Index: [3, 2]&#10;Color: (0, 100, 210)\" style=\"width: 20px; height: 20px;background-color: rgb(0, 100, 210);\"></td><td title=\"Index: [3, 3]&#10;Color: (0, 100, 210)\" style=\"width: 20px; height: 20px;background-color: rgb(0, 100, 210);\"></td><td title=\"Index: [3, 4]&#10;Color: (0, 100, 210)\" style=\"width: 20px; height: 20px;background-color: rgb(0, 100, 210);\"></td></tr><tr><td title=\"Index: [4, 0]&#10;Color: (255, 200, 70)\" style=\"width: 20px; height: 20px;background-color: rgb(255, 200, 70);\"></td><td title=\"Index: [4, 1]&#10;Color: (0, 100, 210)\" style=\"width: 20px; height: 20px;background-color: rgb(0, 100, 210);\"></td><td title=\"Index: [4, 2]&#10;Color: (35, 35, 35)\" style=\"width: 20px; height: 20px;background-color: rgb(35, 35, 35);\"></td><td title=\"Index: [4, 3]&#10;Color: (35, 35, 35)\" style=\"width: 20px; height: 20px;background-color: rgb(35, 35, 35);\"></td><td title=\"Index: [4, 4]&#10;Color: (0, 100, 210)\" style=\"width: 20px; height: 20px;background-color: rgb(0, 100, 210);\"></td></tr></tbody></table>"
       ],
       "metadata": {},
       "output_type": "display_data",
       "text": [
        "<IPython.core.display.HTML at 0x3c8d6d8>"
       ]
      }
     ],
     "prompt_number": 41
    },
    {
     "cell_type": "heading",
     "level": 2,
     "metadata": {},
     "source": [
      "Satisfaction condition"
     ]
    },
    {
     "cell_type": "code",
     "collapsed": false,
     "input": [
      "#def satisfy_that_shit(t)\n",
      "for i in range(grid.height):\n",
      "    for j in range(grid.width): \n",
      "        same_cells = 0\n",
      "        diff_cells = 0\n",
      "        t = same_cells/diff_cells #satisfaction rate\n",
      "         \n",
      "            if t >= 0.3\n",
      "                pass\n",
      "            else:\n",
      "                #Try to make it so it goes to the nearest empty cell, \n",
      "                #not just the first\n",
      "                for k in range(grid.height):\n",
      "                    for l in range(grid.width): \n",
      "                        if grid[k,l] == (35, 35, 35):\n",
      "                            grid[k,l] = cell2\n",
      "                            if cell1 == (0, 100, 210):\n",
      "                                cell2 = (0, 100, 210)\n",
      "                                cell1 = (35, 35, 35)\n",
      "                            if cell1 == (255, 200, 70):\n",
      "                                cell2 = (255, 200, 70)\n",
      "                                cell1 = (35, 35, 35)\n",
      "                    \n",
      "#Get down that satisfaction        "
     ],
     "language": "python",
     "metadata": {},
     "outputs": [
      {
       "ename": "IndentationError",
       "evalue": "unexpected indent (<ipython-input-3-55b248edc3e8>, line 8)",
       "output_type": "pyerr",
       "traceback": [
        "\u001b[1;36m  File \u001b[1;32m\"<ipython-input-3-55b248edc3e8>\"\u001b[1;36m, line \u001b[1;32m8\u001b[0m\n\u001b[1;33m    if t >= 0.3\u001b[0m\n\u001b[1;37m    ^\u001b[0m\n\u001b[1;31mIndentationError\u001b[0m\u001b[1;31m:\u001b[0m unexpected indent\n"
       ]
      }
     ],
     "prompt_number": 3
    },
    {
     "cell_type": "heading",
     "level": 2,
     "metadata": {},
     "source": [
      "Stuff to get this thing to change over time"
     ]
    },
    {
     "cell_type": "code",
     "collapsed": false,
     "input": [
      "def one_color(target_grid, color):\n",
      "    for row_number in range(target_grid.height):\n",
      "        for column_number in range(target_grid.width):\n",
      "            grid[row_number, column_number] = color"
     ],
     "language": "python",
     "metadata": {},
     "outputs": []
    },
    {
     "cell_type": "code",
     "collapsed": false,
     "input": [
      "one_color(grid, colors['LightGreen'])\n",
      "grid.show()"
     ],
     "language": "python",
     "metadata": {},
     "outputs": []
    },
    {
     "cell_type": "code",
     "collapsed": false,
     "input": [
      "import time\n",
      "from ipythonblocks import colors\n",
      "from IPython.display import clear_output\n",
      "for color in [colors['Red'], colors['Green'], colors['Blue'], colors['White'], colors['Purple']]:\n",
      "    clear_output()\n",
      "    one_color(grid, color)\n",
      "    grid.show()\n",
      "    time.sleep()"
     ],
     "language": "python",
     "metadata": {},
     "outputs": []
    },
    {
     "cell_type": "heading",
     "level": 1,
     "metadata": {},
     "source": [
      "Satisfaction Condition "
     ]
    },
    {
     "cell_type": "code",
     "collapsed": false,
     "input": [
      "def equal_color(a,b):\n",
      "    if (a.red,a.green,a.blue)==(b.red,b.green,b.blue):\n",
      "        return True \n",
      "    else:\n",
      "        return False"
     ],
     "language": "python",
     "metadata": {},
     "outputs": [],
     "prompt_number": 52
    },
    {
     "cell_type": "code",
     "collapsed": false,
     "input": [
      "def satisfaction(t):\n",
      "    sat = 0\n",
      "    saty = []\n",
      "    for i in grid:\n",
      "        for j in grid:\n",
      "            if i == 0 or j == 0 or i == grid.width - 1 or j == grid.height -1:   #Edges\n",
      "                \n",
      "                MaxNeighbors = 5\n",
      "                            \n",
      "                if i == 0 and j == 0: #Corners\n",
      "                    MaxNeighbors = 3\n",
      "                    \n",
      "                    if equal_color(grid[i+1,j],grid[i,j]):\n",
      "                        sat = sat + 1 \n",
      "                    elif equal_color(grid[i+1,j+1],grid[i,j]):\n",
      "                        sat = sat + 1\n",
      "                    elif equal_color(grid[i,j+1],grid[i,j]):\n",
      "                        sat = sat + 1\n",
      "                        \n",
      "                    satisfaction = sat / MaxNeighbors \n",
      "                    if satisfaction >= t:\n",
      "                        grid[i,j].green = 1\n",
      "                    \n",
      "                elif i == 0 and j == GridSize-1:\n",
      "                    \n",
      "                    MaxNeighbors = 3\n",
      "                    \n",
      "                    if equal_color(grid[i,j-1],grid[i,j]):\n",
      "                        sat = sat + 1\n",
      "                    elif equal_color(grid[i+1,j-1],grid[i,j]): \n",
      "                        sat = sat + 1\n",
      "                    elif equal_color(grid[i,j-1],grid[i,j]):\n",
      "                        sat = sat + 1\n",
      "                    \n",
      "                    satisfaction = sat / MaxNeighbors \n",
      "                    if satisfaction >= t:\n",
      "                        grid[i,j].green = 1\n",
      "                \n",
      "                \n",
      "                elif (i==GridSize-1 or j ==0):\n",
      "                    \n",
      "                    MaxNeighbors = 3\n",
      "                    \n",
      "                    if equal_color(grid[i-1,j],grid[i,j]):\n",
      "                        sat = sat + 1\n",
      "                    elif equal_color(grid[i-1,j+1],grid[i,j]):\n",
      "                        sat = sat + 1\n",
      "                    elif equal_color(grid[i,j+1],grid[i,j]):\n",
      "                        sat = sat + 1\n",
      "                        \n",
      "                    satisfaction = sat / MaxNeighbors \n",
      "                    if satisfaction >= t:\n",
      "                        grid[i,j].green = 1\n",
      "                \n",
      "                elif (i == GridSize -1 and i ==GridSize-1):\n",
      "                    \n",
      "                    MaxNeighbors = 3\n",
      "                \n",
      "                    if equal_color(grid[i-1,j],grid[i,j]):\n",
      "                        sat = sat + 1\n",
      "                    elif equal_color(grid[i-1,j-1],grid[i,j]):\n",
      "                        sat = sat + 1\n",
      "                    elif equal_color(grid[i,j-1],grid[i,j]):\n",
      "                        sat = sat + 1\n",
      "                        \n",
      "                satisfaction = sat / MaxNeighbors \n",
      "                if satisfaction >= t:\n",
      "                    grid[i,j].green = 1\n",
      "            \n",
      "\n",
      "      #\"\"\"Edge Pieces...NOT CORNERS\"\"\"\n",
      "            \n",
      "            elif i == 0:\n",
      "                if equal_color(grid[i+1,j],grid[i,j]):\n",
      "                    sat = sat + 1 \n",
      "                elif equal_color(grid[i+1,j+1],grid[i,j]):\n",
      "                    sat = sat + 1\n",
      "                elif equal_color(grid[i+1,j-1],grid[i,j]): \n",
      "                    sat = sat + 1\n",
      "                elif equal_color(grid[i,j-1],grid[i,j]):\n",
      "                    sat = sat + 1\n",
      "                elif equal_color(grid[i,j+1],grid[i,j]):\n",
      "                    sat = sat + 1\n",
      "                \n",
      "            elif j == 0:\n",
      "                if equal_color(grid[i+1,j],grid[i,j]):\n",
      "                    sat = sat + 1\n",
      "                elif equal_color(grid[i+1,j+1],grid[i,j]):\n",
      "                    sat = sat + 1\n",
      "                elif equal_color(grid[i,j+1],grid[i,j]):\n",
      "                    sat = sat + 1\n",
      "                elif equal_color(grid[i-1,j+1],grid[i,j]):\n",
      "                    sat = sat + 1\n",
      "                elif equal_color(grid[i-1,j],grid[i,j]):\n",
      "                    sat = sat + 1\n",
      "                \n",
      "            elif i == GridSize - 1:\n",
      "                if equal_color(grid[i,j+1],grid[i,j]):\n",
      "                    sat = sat + 1\n",
      "                elif equal_color(grid[i-1, j-1],grid[i,j]):\n",
      "                    sat = sat + 1\n",
      "                elif equal_color(grid[i-1,j],grid[i,j]):\n",
      "                    sat = sat + 1\n",
      "                elif equal_color(grid[i,j-1],grid[i,j]):\n",
      "                    sat = sat + 1\n",
      "                elif equal_color(grid[i-1,j+1],grid[i,j]):\n",
      "                    sat = sat + 1\n",
      "                \n",
      "            elif j == GridSize - 1:\n",
      "                if equal_color(grid[i+1,j],grid[i,j]):\n",
      "                    sat = sat + 1 \n",
      "                elif equal_color(grid[i-1, j-1],grid[i,j]):\n",
      "                    sat = sat + 1\n",
      "                elif equal_color(grid[i-1,j],grid[i,j]):\n",
      "                    sat = sat + 1\n",
      "                elif equal_color(grid[i,j-1],grid[i,j]):\n",
      "                    sat = sat + 1\n",
      "                elif equal_color(grid[i+1,j-1],grid[i,j]): \n",
      "                    sat = sat + 1\n",
      "                       \n",
      "            \n",
      "            \n",
      "        #\"\"\"All the pieces inside...non-edge\"\"\"    \n",
      "        else:\n",
      "            MaxNeighbors = 8\n",
      "            if equal_color(grid[i+1,j],grid[i,j]):\n",
      "                sat = sat + 1 \n",
      "            elif equal_color(grid[i+1,j+1],grid[i,j]):\n",
      "                sat = sat + 1\n",
      "            elif equal_color(grid[i,j+1],grid[i,j]):\n",
      "                sat = sat + 1\n",
      "            elif equal_color(grid[i-1, j-1],grid[i,j]):\n",
      "                sat = sat + 1\n",
      "            elif equal_color(grid[i-1,j],grid[i,j]):\n",
      "                sat = sat + 1\n",
      "            elif equal_color(grid[i,j-1],grid[i,j]):\n",
      "                sat = sat + 1\n",
      "            elif equal_color(grid[i-1,j+1],grid[i,j]):\n",
      "                sat = sat + 1\n",
      "            elif qeual_color(grid[i+1,j-1],grid[i,j]): \n",
      "                sat = sat + 1\n",
      "        satisfaction = float(sat) / MaxNeighbors\n",
      "        return satisfaction\n",
      "\n",
      "satisfaction(0.3)\n",
      "\n"
     ],
     "language": "python",
     "metadata": {},
     "outputs": [
      {
       "ename": "NameError",
       "evalue": "global name 'GridSize' is not defined",
       "output_type": "pyerr",
       "traceback": [
        "\u001b[1;31m---------------------------------------------------------------------------\u001b[0m\n\u001b[1;31mNameError\u001b[0m                                 Traceback (most recent call last)",
        "\u001b[1;32m<ipython-input-54-c303b5eae749>\u001b[0m in \u001b[0;36m<module>\u001b[1;34m()\u001b[0m\n\u001b[0;32m    143\u001b[0m         \u001b[1;32mreturn\u001b[0m \u001b[0msatisfaction\u001b[0m\u001b[1;33m\u001b[0m\u001b[0m\n\u001b[0;32m    144\u001b[0m \u001b[1;33m\u001b[0m\u001b[0m\n\u001b[1;32m--> 145\u001b[1;33m \u001b[0msatisfaction\u001b[0m\u001b[1;33m(\u001b[0m\u001b[1;36m0.3\u001b[0m\u001b[1;33m)\u001b[0m\u001b[1;33m\u001b[0m\u001b[0m\n\u001b[0m\u001b[0;32m    146\u001b[0m \u001b[1;33m\u001b[0m\u001b[0m\n",
        "\u001b[1;32m<ipython-input-54-c303b5eae749>\u001b[0m in \u001b[0;36msatisfaction\u001b[1;34m(t)\u001b[0m\n\u001b[0;32m     95\u001b[0m                     \u001b[0msat\u001b[0m \u001b[1;33m=\u001b[0m \u001b[0msat\u001b[0m \u001b[1;33m+\u001b[0m \u001b[1;36m1\u001b[0m\u001b[1;33m\u001b[0m\u001b[0m\n\u001b[0;32m     96\u001b[0m \u001b[1;33m\u001b[0m\u001b[0m\n\u001b[1;32m---> 97\u001b[1;33m             \u001b[1;32melif\u001b[0m \u001b[0mi\u001b[0m \u001b[1;33m==\u001b[0m \u001b[0mGridSize\u001b[0m \u001b[1;33m-\u001b[0m \u001b[1;36m1\u001b[0m\u001b[1;33m:\u001b[0m\u001b[1;33m\u001b[0m\u001b[0m\n\u001b[0m\u001b[0;32m     98\u001b[0m                 \u001b[1;32mif\u001b[0m \u001b[0mequal_color\u001b[0m\u001b[1;33m(\u001b[0m\u001b[0mgrid\u001b[0m\u001b[1;33m[\u001b[0m\u001b[0mi\u001b[0m\u001b[1;33m,\u001b[0m\u001b[0mj\u001b[0m\u001b[1;33m+\u001b[0m\u001b[1;36m1\u001b[0m\u001b[1;33m]\u001b[0m\u001b[1;33m,\u001b[0m\u001b[0mgrid\u001b[0m\u001b[1;33m[\u001b[0m\u001b[0mi\u001b[0m\u001b[1;33m,\u001b[0m\u001b[0mj\u001b[0m\u001b[1;33m]\u001b[0m\u001b[1;33m)\u001b[0m\u001b[1;33m:\u001b[0m\u001b[1;33m\u001b[0m\u001b[0m\n\u001b[0;32m     99\u001b[0m                     \u001b[0msat\u001b[0m \u001b[1;33m=\u001b[0m \u001b[0msat\u001b[0m \u001b[1;33m+\u001b[0m \u001b[1;36m1\u001b[0m\u001b[1;33m\u001b[0m\u001b[0m\n",
        "\u001b[1;31mNameError\u001b[0m: global name 'GridSize' is not defined"
       ]
      }
     ],
     "prompt_number": 54
    },
    {
     "cell_type": "code",
     "collapsed": false,
     "input": [],
     "language": "python",
     "metadata": {},
     "outputs": []
    }
   ],
   "metadata": {}
  }
 ]
}