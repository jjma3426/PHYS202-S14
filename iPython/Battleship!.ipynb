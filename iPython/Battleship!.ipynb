{
 "metadata": {
  "name": "",
  "signature": "sha256:14d81b40888c5a6554105b8527a8d5a0888e52cea5679492a5332ff7d3883c8c"
 },
 "nbformat": 3,
 "nbformat_minor": 0,
 "worksheets": [
  {
   "cells": [
    {
     "cell_type": "code",
     "collapsed": false,
     "input": [
      "from random import randint\n",
      "\n",
      "from ipythonblocks import BlockGrid\n",
      "grid = BlockGrid(5,5,fill=(176,196,222))\n",
      "grid\n",
      "\n",
      "def random_row(board):\n",
      "    return randint(0, len(board) - 1)\n",
      "\n",
      "def random_col(board):\n",
      "    return randint(0, len(board[0]) - 1)\n",
      "\n",
      "ship_row = random_row(board)\n",
      "ship_col = random_col(board)\n",
      "print ship_row\n",
      "print ship_col\n",
      "\n",
      "# Everything from here on should go in your for loop!\n",
      "# Be sure to indent four spaces!\n",
      "turn = 0\n",
      "for turn in range(4):\n",
      "    guess_row = int(raw_input(\"Guess Row:\"))\n",
      "    guess_col = int(raw_input(\"Guess Col:\"))\n",
      "    turn = turn + 1\n",
      "    print \"Turn\",turn\n",
      "\n",
      "if guess_row == ship_row and guess_col == ship_col:\n",
      "    grid[guess_row,guess_col] = (255,0,0)\n",
      "    print \"Congratulations! You sunk my battleship!\" \n",
      "for turn in range(4):\n",
      "    break\n",
      "else:\n",
      "    if (guess_row < 0 or guess_row > 4) or (guess_col < 0 or guess_col > 4):\n",
      "        print \"Oops, that's not even in the ocean.\"\n",
      "    elif(board[guess_row][guess_col] == \"X\"):\n",
      "        print \"You guessed that one already.\"\n",
      "    else:\n",
      "        print \"You missed my battleship!\"\n",
      "        board[guess_row][guess_col] = \"X\"\n",
      "    print (turn + 1) # Print (turn + 1) here!\n",
      "    print_board(board)\n",
      "    \n",
      "    if turn == 3:\n",
      "        print \"Game Over\"\n",
      "        "
     ],
     "language": "python",
     "metadata": {},
     "outputs": [
      {
       "output_type": "stream",
       "stream": "stdout",
       "text": [
        "3\n",
        "4\n"
       ]
      },
      {
       "name": "stdout",
       "output_type": "stream",
       "stream": "stdout",
       "text": [
        "Guess Row:3\n"
       ]
      },
      {
       "name": "stdout",
       "output_type": "stream",
       "stream": "stdout",
       "text": [
        "Guess Col:4\n"
       ]
      },
      {
       "output_type": "stream",
       "stream": "stdout",
       "text": [
        "Turn 1\n"
       ]
      },
      {
       "name": "stdout",
       "output_type": "stream",
       "stream": "stdout",
       "text": [
        "Guess Row:4\n"
       ]
      },
      {
       "name": "stdout",
       "output_type": "stream",
       "stream": "stdout",
       "text": [
        "Guess Col:4\n"
       ]
      },
      {
       "output_type": "stream",
       "stream": "stdout",
       "text": [
        "Turn 2\n"
       ]
      },
      {
       "name": "stdout",
       "output_type": "stream",
       "stream": "stdout",
       "text": [
        "Guess Row:5\n"
       ]
      },
      {
       "name": "stdout",
       "output_type": "stream",
       "stream": "stdout",
       "text": [
        "Guess Col:4\n"
       ]
      },
      {
       "output_type": "stream",
       "stream": "stdout",
       "text": [
        "Turn 3\n"
       ]
      },
      {
       "name": "stdout",
       "output_type": "stream",
       "stream": "stdout",
       "text": [
        "Guess Row:2\n"
       ]
      },
      {
       "name": "stdout",
       "output_type": "stream",
       "stream": "stdout",
       "text": [
        "Guess Col:4\n"
       ]
      },
      {
       "output_type": "stream",
       "stream": "stdout",
       "text": [
        "Turn 4\n"
       ]
      }
     ],
     "prompt_number": 8
    },
    {
     "cell_type": "code",
     "collapsed": false,
     "input": [
      "from random import randint\n",
      "\n",
      "from ipythonblocks import BlockGrid\n",
      "board = BlockGrid(5,5,fill=(176,196,222))\n",
      "board.show()\n",
      "\n",
      "def random_row(board):\n",
      "    return randint(0, board.height - 1)\n",
      "\n",
      "def random_col(board):\n",
      "    return randint(0, board.width - 1)\n",
      "\n",
      "ship_row = random_row(board)\n",
      "ship_col = random_col(board)\n",
      "print ship_row\n",
      "print ship_col\n",
      "\n",
      "turn = 0\n",
      "for turn in range(4):\n",
      "    guess_row = int(raw_input(\"Guess Row:\"))\n",
      "    guess_col = int(raw_input(\"Guess Col:\"))\n",
      "    turn = turn + 1\n",
      "    print \"Turn\",turn\n",
      "\n",
      "if guess_row == ship_row and guess_col == ship_col:\n",
      "    grid[guess_row,guess_col] = (255,0,0)\n",
      "    print \"Congratulations! You sunk my battleship!\" \n",
      "    "
     ],
     "language": "python",
     "metadata": {},
     "outputs": [
      {
       "html": [
        "<style type=\"text/css\">table.blockgrid {border: none;} .blockgrid tr {border: none;} .blockgrid td {padding: 0px;} #blocksd7f85541-b72b-4bdd-82f4-ba2e100afece td {border: 1px solid white;}</style><table id=\"blocksd7f85541-b72b-4bdd-82f4-ba2e100afece\" class=\"blockgrid\"><tbody><tr><td title=\"Index: [0, 0]&#10;Color: (176, 196, 222)\" style=\"width: 20px; height: 20px;background-color: rgb(176, 196, 222);\"></td><td title=\"Index: [0, 1]&#10;Color: (176, 196, 222)\" style=\"width: 20px; height: 20px;background-color: rgb(176, 196, 222);\"></td><td title=\"Index: [0, 2]&#10;Color: (176, 196, 222)\" style=\"width: 20px; height: 20px;background-color: rgb(176, 196, 222);\"></td><td title=\"Index: [0, 3]&#10;Color: (176, 196, 222)\" style=\"width: 20px; height: 20px;background-color: rgb(176, 196, 222);\"></td><td title=\"Index: [0, 4]&#10;Color: (176, 196, 222)\" style=\"width: 20px; height: 20px;background-color: rgb(176, 196, 222);\"></td></tr><tr><td title=\"Index: [1, 0]&#10;Color: (176, 196, 222)\" style=\"width: 20px; height: 20px;background-color: rgb(176, 196, 222);\"></td><td title=\"Index: [1, 1]&#10;Color: (176, 196, 222)\" style=\"width: 20px; height: 20px;background-color: rgb(176, 196, 222);\"></td><td title=\"Index: [1, 2]&#10;Color: (176, 196, 222)\" style=\"width: 20px; height: 20px;background-color: rgb(176, 196, 222);\"></td><td title=\"Index: [1, 3]&#10;Color: (176, 196, 222)\" style=\"width: 20px; height: 20px;background-color: rgb(176, 196, 222);\"></td><td title=\"Index: [1, 4]&#10;Color: (176, 196, 222)\" style=\"width: 20px; height: 20px;background-color: rgb(176, 196, 222);\"></td></tr><tr><td title=\"Index: [2, 0]&#10;Color: (176, 196, 222)\" style=\"width: 20px; height: 20px;background-color: rgb(176, 196, 222);\"></td><td title=\"Index: [2, 1]&#10;Color: (176, 196, 222)\" style=\"width: 20px; height: 20px;background-color: rgb(176, 196, 222);\"></td><td title=\"Index: [2, 2]&#10;Color: (176, 196, 222)\" style=\"width: 20px; height: 20px;background-color: rgb(176, 196, 222);\"></td><td title=\"Index: [2, 3]&#10;Color: (176, 196, 222)\" style=\"width: 20px; height: 20px;background-color: rgb(176, 196, 222);\"></td><td title=\"Index: [2, 4]&#10;Color: (176, 196, 222)\" style=\"width: 20px; height: 20px;background-color: rgb(176, 196, 222);\"></td></tr><tr><td title=\"Index: [3, 0]&#10;Color: (176, 196, 222)\" style=\"width: 20px; height: 20px;background-color: rgb(176, 196, 222);\"></td><td title=\"Index: [3, 1]&#10;Color: (176, 196, 222)\" style=\"width: 20px; height: 20px;background-color: rgb(176, 196, 222);\"></td><td title=\"Index: [3, 2]&#10;Color: (176, 196, 222)\" style=\"width: 20px; height: 20px;background-color: rgb(176, 196, 222);\"></td><td title=\"Index: [3, 3]&#10;Color: (176, 196, 222)\" style=\"width: 20px; height: 20px;background-color: rgb(176, 196, 222);\"></td><td title=\"Index: [3, 4]&#10;Color: (176, 196, 222)\" style=\"width: 20px; height: 20px;background-color: rgb(176, 196, 222);\"></td></tr><tr><td title=\"Index: [4, 0]&#10;Color: (176, 196, 222)\" style=\"width: 20px; height: 20px;background-color: rgb(176, 196, 222);\"></td><td title=\"Index: [4, 1]&#10;Color: (176, 196, 222)\" style=\"width: 20px; height: 20px;background-color: rgb(176, 196, 222);\"></td><td title=\"Index: [4, 2]&#10;Color: (176, 196, 222)\" style=\"width: 20px; height: 20px;background-color: rgb(176, 196, 222);\"></td><td title=\"Index: [4, 3]&#10;Color: (176, 196, 222)\" style=\"width: 20px; height: 20px;background-color: rgb(176, 196, 222);\"></td><td title=\"Index: [4, 4]&#10;Color: (176, 196, 222)\" style=\"width: 20px; height: 20px;background-color: rgb(176, 196, 222);\"></td></tr></tbody></table>"
       ],
       "metadata": {},
       "output_type": "display_data",
       "text": [
        "<IPython.core.display.HTML at 0x3dc3780>"
       ]
      },
      {
       "output_type": "stream",
       "stream": "stdout",
       "text": [
        "3\n",
        "0\n"
       ]
      },
      {
       "name": "stdout",
       "output_type": "stream",
       "stream": "stdout",
       "text": [
        "Guess Row:3\n"
       ]
      },
      {
       "name": "stdout",
       "output_type": "stream",
       "stream": "stdout",
       "text": [
        "Guess Col:0\n"
       ]
      },
      {
       "output_type": "stream",
       "stream": "stdout",
       "text": [
        "Turn 1\n"
       ]
      },
      {
       "name": "stdout",
       "output_type": "stream",
       "stream": "stdout",
       "text": [
        "Guess Row:3\n"
       ]
      },
      {
       "name": "stdout",
       "output_type": "stream",
       "stream": "stdout",
       "text": [
        "Guess Col:0\n"
       ]
      },
      {
       "output_type": "stream",
       "stream": "stdout",
       "text": [
        "Turn 2\n"
       ]
      },
      {
       "name": "stdout",
       "output_type": "stream",
       "stream": "stdout",
       "text": [
        "Guess Row:3\n"
       ]
      },
      {
       "name": "stdout",
       "output_type": "stream",
       "stream": "stdout",
       "text": [
        "Guess Col:03\n"
       ]
      },
      {
       "output_type": "stream",
       "stream": "stdout",
       "text": [
        "Turn 3\n"
       ]
      },
      {
       "name": "stdout",
       "output_type": "stream",
       "stream": "stdout",
       "text": [
        "Guess Row:3\n"
       ]
      },
      {
       "name": "stdout",
       "output_type": "stream",
       "stream": "stdout",
       "text": [
        "Guess Col:0\n"
       ]
      },
      {
       "output_type": "stream",
       "stream": "stdout",
       "text": [
        "Turn 4\n",
        "Congratulations! You sunk my battleship!\n"
       ]
      }
     ],
     "prompt_number": 7
    },
    {
     "cell_type": "code",
     "collapsed": false,
     "input": [],
     "language": "python",
     "metadata": {},
     "outputs": []
    }
   ],
   "metadata": {}
  }
 ]
}