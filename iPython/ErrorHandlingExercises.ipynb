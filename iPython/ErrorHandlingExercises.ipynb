{
 "metadata": {
  "name": "",
  "signature": "sha256:bb4203ef2a7036cbe0d6667a958c745d1563ae590f2fa105865c850ad533c82c"
 },
 "nbformat": 3,
 "nbformat_minor": 0,
 "worksheets": [
  {
   "cells": [
    {
     "cell_type": "markdown",
     "metadata": {},
     "source": [
      "\n",
      "1)  Find a partner. Choose a driver and a navigator. The driver should copy their Battleship code to a cell in the driver's ErrorHandlingExercises notebook. The driver should explain to the navigator the basics of how their program works. Work together to add some error handling to the program. Include a markdown cell identifying the driver and navigator. When you are done, switch roles and let the navigator be the driver and vice versa. At the end you should both have a Battleship program that includes some error handling."
     ]
    },
    {
     "cell_type": "code",
     "collapsed": false,
     "input": [
      "from random import randint\n",
      "\n",
      "from ipythonblocks import BlockGrid\n",
      "board = BlockGrid(8,8,fill=(176,196,222))\n",
      "board.show()\n",
      "\n",
      "def random_row(board):\n",
      "    return randint(0, board.height - 1)\n",
      "\n",
      "def random_col(board):\n",
      "    return randint(0, board.width - 1)\n",
      "\n",
      "\n",
      "ship_row = random_row(board)\n",
      "ship_col1 = random_col(board)\n",
      "if ship_col1 == 0:\n",
      "    ship_col2 = 1\n",
      "    ship_col3 = 2\n",
      "elif ship_col1 == 7:\n",
      "    ship_col2 = 6\n",
      "    ship_col3 = 5\n",
      "elif ship_col1 == 1:\n",
      "    ship_col2 = 0\n",
      "    ship_col3 = 2\n",
      "elif ship_col1 == 6:\n",
      "    ship_col2 = 7\n",
      "    ship_col3 = 5\n",
      "else:\n",
      "    ship_col2 = ship_col1+1\n",
      "    ship_col3= ship_col2+1\n",
      "#print \"Row \", ship_row\n",
      "#print \"Column \",ship_col1\n",
      "#print \"Column \",ship_col2\n",
      "#print \"Column \",ship_col3\n",
      "\n",
      "hit_counter=0\n",
      "for turn in range(8):\n",
      "    turn = turn + 1\n",
      "    print \"Turn \",turn \n",
      "    \n",
      "    while True:\n",
      "        iguess_row = raw_input(\"Guess Row: \")\n",
      "        try: \n",
      "            guess_row = int(iguess_row) - 1\n",
      "            break\n",
      "        except ValueError as err:\n",
      "            print \"Type in an integer PLEASE!\"\n",
      "            continue\n",
      "        \n",
      "    while True:\n",
      "        iguess_col = raw_input(\"Guess Column: \")\n",
      "        try: \n",
      "            guess_col = int(iguess_col) - 1\n",
      "            break\n",
      "        except ValueError as err:\n",
      "            print \"Type in an integer PLEASE!\"\n",
      "            continue   \n",
      "                \n",
      "    if guess_row == ship_row and (guess_col == ship_col1 or guess_col == ship_col2 or guess_col == ship_col3):\n",
      "        if board[guess_row,guess_col].red ==  255 and board[guess_row,guess_col].green== 0 and board[guess_row,guess_col].blue==0:\n",
      "            print \"You guessed that one already.\"\n",
      "        else :\n",
      "            board[guess_row,guess_col] = (255,0,0)\n",
      "            board.show()\n",
      "            hit_counter+=1\n",
      "        print \"HIT!\"\n",
      "\n",
      "    else:\n",
      "        if (guess_row < 0 or guess_row > 7) or (guess_col < 0 or guess_col > 7):\n",
      "            print \"Oops, that's not even in the ocean.\"\n",
      "            board.show()\n",
      "        elif board[guess_row,guess_col].red == 240 and board[guess_row,guess_col].green==255 and board[guess_row,guess_col].blue==255:\n",
      "            print \"You guessed that one already.\"\n",
      "            board.show()\n",
      "        else:\n",
      "            board[guess_row,guess_col] = (240, 255, 255)\n",
      "            board.show()\n",
      "            print \"You missed my battleship!\"        \n",
      "\n",
      "        #print \"Turn \",(turn + 1) # Print (turn + 1) here!\n",
      "        #print_board(board)\n",
      "\n",
      "    if turn == 8 or hit_counter == 3:\n",
      "        print \"Game Over\"\n",
      "        board[ship_row,ship_col1]=(255,0,0)\n",
      "        board[ship_row,ship_col2]=(255,0,0)\n",
      "        board[ship_row,ship_col3]=(255,0,0)\n",
      "        board.show()\n",
      "        break\n",
      "        "
     ],
     "language": "python",
     "metadata": {},
     "outputs": [
      {
       "html": [
        "<style type=\"text/css\">table.blockgrid {border: none;} .blockgrid tr {border: none;} .blockgrid td {padding: 0px;} #blockse4ac3150-2de6-4aa6-a0e7-1e8962918c6a td {border: 1px solid white;}</style><table id=\"blockse4ac3150-2de6-4aa6-a0e7-1e8962918c6a\" class=\"blockgrid\"><tbody><tr><td title=\"Index: [0, 0]&#10;Color: (176, 196, 222)\" style=\"width: 20px; height: 20px;background-color: rgb(176, 196, 222);\"></td><td title=\"Index: [0, 1]&#10;Color: (176, 196, 222)\" style=\"width: 20px; height: 20px;background-color: rgb(176, 196, 222);\"></td><td title=\"Index: [0, 2]&#10;Color: (176, 196, 222)\" style=\"width: 20px; height: 20px;background-color: rgb(176, 196, 222);\"></td><td title=\"Index: [0, 3]&#10;Color: (176, 196, 222)\" style=\"width: 20px; height: 20px;background-color: rgb(176, 196, 222);\"></td><td title=\"Index: [0, 4]&#10;Color: (176, 196, 222)\" style=\"width: 20px; height: 20px;background-color: rgb(176, 196, 222);\"></td><td title=\"Index: [0, 5]&#10;Color: (176, 196, 222)\" style=\"width: 20px; height: 20px;background-color: rgb(176, 196, 222);\"></td><td title=\"Index: [0, 6]&#10;Color: (176, 196, 222)\" style=\"width: 20px; height: 20px;background-color: rgb(176, 196, 222);\"></td><td title=\"Index: [0, 7]&#10;Color: (176, 196, 222)\" style=\"width: 20px; height: 20px;background-color: rgb(176, 196, 222);\"></td></tr><tr><td title=\"Index: [1, 0]&#10;Color: (176, 196, 222)\" style=\"width: 20px; height: 20px;background-color: rgb(176, 196, 222);\"></td><td title=\"Index: [1, 1]&#10;Color: (176, 196, 222)\" style=\"width: 20px; height: 20px;background-color: rgb(176, 196, 222);\"></td><td title=\"Index: [1, 2]&#10;Color: (176, 196, 222)\" style=\"width: 20px; height: 20px;background-color: rgb(176, 196, 222);\"></td><td title=\"Index: [1, 3]&#10;Color: (176, 196, 222)\" style=\"width: 20px; height: 20px;background-color: rgb(176, 196, 222);\"></td><td title=\"Index: [1, 4]&#10;Color: (176, 196, 222)\" style=\"width: 20px; height: 20px;background-color: rgb(176, 196, 222);\"></td><td title=\"Index: [1, 5]&#10;Color: (176, 196, 222)\" style=\"width: 20px; height: 20px;background-color: rgb(176, 196, 222);\"></td><td title=\"Index: [1, 6]&#10;Color: (176, 196, 222)\" style=\"width: 20px; height: 20px;background-color: rgb(176, 196, 222);\"></td><td title=\"Index: [1, 7]&#10;Color: (176, 196, 222)\" style=\"width: 20px; height: 20px;background-color: rgb(176, 196, 222);\"></td></tr><tr><td title=\"Index: [2, 0]&#10;Color: (176, 196, 222)\" style=\"width: 20px; height: 20px;background-color: rgb(176, 196, 222);\"></td><td title=\"Index: [2, 1]&#10;Color: (176, 196, 222)\" style=\"width: 20px; height: 20px;background-color: rgb(176, 196, 222);\"></td><td title=\"Index: [2, 2]&#10;Color: (176, 196, 222)\" style=\"width: 20px; height: 20px;background-color: rgb(176, 196, 222);\"></td><td title=\"Index: [2, 3]&#10;Color: (176, 196, 222)\" style=\"width: 20px; height: 20px;background-color: rgb(176, 196, 222);\"></td><td title=\"Index: [2, 4]&#10;Color: (176, 196, 222)\" style=\"width: 20px; height: 20px;background-color: rgb(176, 196, 222);\"></td><td title=\"Index: [2, 5]&#10;Color: (176, 196, 222)\" style=\"width: 20px; height: 20px;background-color: rgb(176, 196, 222);\"></td><td title=\"Index: [2, 6]&#10;Color: (176, 196, 222)\" style=\"width: 20px; height: 20px;background-color: rgb(176, 196, 222);\"></td><td title=\"Index: [2, 7]&#10;Color: (176, 196, 222)\" style=\"width: 20px; height: 20px;background-color: rgb(176, 196, 222);\"></td></tr><tr><td title=\"Index: [3, 0]&#10;Color: (176, 196, 222)\" style=\"width: 20px; height: 20px;background-color: rgb(176, 196, 222);\"></td><td title=\"Index: [3, 1]&#10;Color: (176, 196, 222)\" style=\"width: 20px; height: 20px;background-color: rgb(176, 196, 222);\"></td><td title=\"Index: [3, 2]&#10;Color: (176, 196, 222)\" style=\"width: 20px; height: 20px;background-color: rgb(176, 196, 222);\"></td><td title=\"Index: [3, 3]&#10;Color: (176, 196, 222)\" style=\"width: 20px; height: 20px;background-color: rgb(176, 196, 222);\"></td><td title=\"Index: [3, 4]&#10;Color: (176, 196, 222)\" style=\"width: 20px; height: 20px;background-color: rgb(176, 196, 222);\"></td><td title=\"Index: [3, 5]&#10;Color: (176, 196, 222)\" style=\"width: 20px; height: 20px;background-color: rgb(176, 196, 222);\"></td><td title=\"Index: [3, 6]&#10;Color: (176, 196, 222)\" style=\"width: 20px; height: 20px;background-color: rgb(176, 196, 222);\"></td><td title=\"Index: [3, 7]&#10;Color: (176, 196, 222)\" style=\"width: 20px; height: 20px;background-color: rgb(176, 196, 222);\"></td></tr><tr><td title=\"Index: [4, 0]&#10;Color: (176, 196, 222)\" style=\"width: 20px; height: 20px;background-color: rgb(176, 196, 222);\"></td><td title=\"Index: [4, 1]&#10;Color: (176, 196, 222)\" style=\"width: 20px; height: 20px;background-color: rgb(176, 196, 222);\"></td><td title=\"Index: [4, 2]&#10;Color: (176, 196, 222)\" style=\"width: 20px; height: 20px;background-color: rgb(176, 196, 222);\"></td><td title=\"Index: [4, 3]&#10;Color: (176, 196, 222)\" style=\"width: 20px; height: 20px;background-color: rgb(176, 196, 222);\"></td><td title=\"Index: [4, 4]&#10;Color: (176, 196, 222)\" style=\"width: 20px; height: 20px;background-color: rgb(176, 196, 222);\"></td><td title=\"Index: [4, 5]&#10;Color: (176, 196, 222)\" style=\"width: 20px; height: 20px;background-color: rgb(176, 196, 222);\"></td><td title=\"Index: [4, 6]&#10;Color: (176, 196, 222)\" style=\"width: 20px; height: 20px;background-color: rgb(176, 196, 222);\"></td><td title=\"Index: [4, 7]&#10;Color: (176, 196, 222)\" style=\"width: 20px; height: 20px;background-color: rgb(176, 196, 222);\"></td></tr><tr><td title=\"Index: [5, 0]&#10;Color: (176, 196, 222)\" style=\"width: 20px; height: 20px;background-color: rgb(176, 196, 222);\"></td><td title=\"Index: [5, 1]&#10;Color: (176, 196, 222)\" style=\"width: 20px; height: 20px;background-color: rgb(176, 196, 222);\"></td><td title=\"Index: [5, 2]&#10;Color: (176, 196, 222)\" style=\"width: 20px; height: 20px;background-color: rgb(176, 196, 222);\"></td><td title=\"Index: [5, 3]&#10;Color: (176, 196, 222)\" style=\"width: 20px; height: 20px;background-color: rgb(176, 196, 222);\"></td><td title=\"Index: [5, 4]&#10;Color: (176, 196, 222)\" style=\"width: 20px; height: 20px;background-color: rgb(176, 196, 222);\"></td><td title=\"Index: [5, 5]&#10;Color: (176, 196, 222)\" style=\"width: 20px; height: 20px;background-color: rgb(176, 196, 222);\"></td><td title=\"Index: [5, 6]&#10;Color: (176, 196, 222)\" style=\"width: 20px; height: 20px;background-color: rgb(176, 196, 222);\"></td><td title=\"Index: [5, 7]&#10;Color: (176, 196, 222)\" style=\"width: 20px; height: 20px;background-color: rgb(176, 196, 222);\"></td></tr><tr><td title=\"Index: [6, 0]&#10;Color: (176, 196, 222)\" style=\"width: 20px; height: 20px;background-color: rgb(176, 196, 222);\"></td><td title=\"Index: [6, 1]&#10;Color: (176, 196, 222)\" style=\"width: 20px; height: 20px;background-color: rgb(176, 196, 222);\"></td><td title=\"Index: [6, 2]&#10;Color: (176, 196, 222)\" style=\"width: 20px; height: 20px;background-color: rgb(176, 196, 222);\"></td><td title=\"Index: [6, 3]&#10;Color: (176, 196, 222)\" style=\"width: 20px; height: 20px;background-color: rgb(176, 196, 222);\"></td><td title=\"Index: [6, 4]&#10;Color: (176, 196, 222)\" style=\"width: 20px; height: 20px;background-color: rgb(176, 196, 222);\"></td><td title=\"Index: [6, 5]&#10;Color: (176, 196, 222)\" style=\"width: 20px; height: 20px;background-color: rgb(176, 196, 222);\"></td><td title=\"Index: [6, 6]&#10;Color: (176, 196, 222)\" style=\"width: 20px; height: 20px;background-color: rgb(176, 196, 222);\"></td><td title=\"Index: [6, 7]&#10;Color: (176, 196, 222)\" style=\"width: 20px; height: 20px;background-color: rgb(176, 196, 222);\"></td></tr><tr><td title=\"Index: [7, 0]&#10;Color: (176, 196, 222)\" style=\"width: 20px; height: 20px;background-color: rgb(176, 196, 222);\"></td><td title=\"Index: [7, 1]&#10;Color: (176, 196, 222)\" style=\"width: 20px; height: 20px;background-color: rgb(176, 196, 222);\"></td><td title=\"Index: [7, 2]&#10;Color: (176, 196, 222)\" style=\"width: 20px; height: 20px;background-color: rgb(176, 196, 222);\"></td><td title=\"Index: [7, 3]&#10;Color: (176, 196, 222)\" style=\"width: 20px; height: 20px;background-color: rgb(176, 196, 222);\"></td><td title=\"Index: [7, 4]&#10;Color: (176, 196, 222)\" style=\"width: 20px; height: 20px;background-color: rgb(176, 196, 222);\"></td><td title=\"Index: [7, 5]&#10;Color: (176, 196, 222)\" style=\"width: 20px; height: 20px;background-color: rgb(176, 196, 222);\"></td><td title=\"Index: [7, 6]&#10;Color: (176, 196, 222)\" style=\"width: 20px; height: 20px;background-color: rgb(176, 196, 222);\"></td><td title=\"Index: [7, 7]&#10;Color: (176, 196, 222)\" style=\"width: 20px; height: 20px;background-color: rgb(176, 196, 222);\"></td></tr></tbody></table>"
       ],
       "metadata": {},
       "output_type": "display_data",
       "text": [
        "<IPython.core.display.HTML at 0x3baab38>"
       ]
      },
      {
       "output_type": "stream",
       "stream": "stdout",
       "text": [
        "Turn  1\n"
       ]
      },
      {
       "name": "stdout",
       "output_type": "stream",
       "stream": "stdout",
       "text": [
        "Guess Row: l\n"
       ]
      },
      {
       "output_type": "stream",
       "stream": "stdout",
       "text": [
        "Type in an integer PLEASE!\n"
       ]
      },
      {
       "name": "stdout",
       "output_type": "stream",
       "stream": "stdout",
       "text": [
        "Guess Row: j\n"
       ]
      },
      {
       "output_type": "stream",
       "stream": "stdout",
       "text": [
        "Type in an integer PLEASE!\n"
       ]
      },
      {
       "name": "stdout",
       "output_type": "stream",
       "stream": "stdout",
       "text": [
        "Guess Row: 4\n"
       ]
      },
      {
       "name": "stdout",
       "output_type": "stream",
       "stream": "stdout",
       "text": [
        "Guess Column: 2\n"
       ]
      },
      {
       "html": [
        "<style type=\"text/css\">table.blockgrid {border: none;} .blockgrid tr {border: none;} .blockgrid td {padding: 0px;} #blocksd84f1190-ec47-480e-8693-ff40bfece4c2 td {border: 1px solid white;}</style><table id=\"blocksd84f1190-ec47-480e-8693-ff40bfece4c2\" class=\"blockgrid\"><tbody><tr><td title=\"Index: [0, 0]&#10;Color: (176, 196, 222)\" style=\"width: 20px; height: 20px;background-color: rgb(176, 196, 222);\"></td><td title=\"Index: [0, 1]&#10;Color: (176, 196, 222)\" style=\"width: 20px; height: 20px;background-color: rgb(176, 196, 222);\"></td><td title=\"Index: [0, 2]&#10;Color: (176, 196, 222)\" style=\"width: 20px; height: 20px;background-color: rgb(176, 196, 222);\"></td><td title=\"Index: [0, 3]&#10;Color: (176, 196, 222)\" style=\"width: 20px; height: 20px;background-color: rgb(176, 196, 222);\"></td><td title=\"Index: [0, 4]&#10;Color: (176, 196, 222)\" style=\"width: 20px; height: 20px;background-color: rgb(176, 196, 222);\"></td><td title=\"Index: [0, 5]&#10;Color: (176, 196, 222)\" style=\"width: 20px; height: 20px;background-color: rgb(176, 196, 222);\"></td><td title=\"Index: [0, 6]&#10;Color: (176, 196, 222)\" style=\"width: 20px; height: 20px;background-color: rgb(176, 196, 222);\"></td><td title=\"Index: [0, 7]&#10;Color: (176, 196, 222)\" style=\"width: 20px; height: 20px;background-color: rgb(176, 196, 222);\"></td></tr><tr><td title=\"Index: [1, 0]&#10;Color: (176, 196, 222)\" style=\"width: 20px; height: 20px;background-color: rgb(176, 196, 222);\"></td><td title=\"Index: [1, 1]&#10;Color: (176, 196, 222)\" style=\"width: 20px; height: 20px;background-color: rgb(176, 196, 222);\"></td><td title=\"Index: [1, 2]&#10;Color: (176, 196, 222)\" style=\"width: 20px; height: 20px;background-color: rgb(176, 196, 222);\"></td><td title=\"Index: [1, 3]&#10;Color: (176, 196, 222)\" style=\"width: 20px; height: 20px;background-color: rgb(176, 196, 222);\"></td><td title=\"Index: [1, 4]&#10;Color: (176, 196, 222)\" style=\"width: 20px; height: 20px;background-color: rgb(176, 196, 222);\"></td><td title=\"Index: [1, 5]&#10;Color: (176, 196, 222)\" style=\"width: 20px; height: 20px;background-color: rgb(176, 196, 222);\"></td><td title=\"Index: [1, 6]&#10;Color: (176, 196, 222)\" style=\"width: 20px; height: 20px;background-color: rgb(176, 196, 222);\"></td><td title=\"Index: [1, 7]&#10;Color: (176, 196, 222)\" style=\"width: 20px; height: 20px;background-color: rgb(176, 196, 222);\"></td></tr><tr><td title=\"Index: [2, 0]&#10;Color: (176, 196, 222)\" style=\"width: 20px; height: 20px;background-color: rgb(176, 196, 222);\"></td><td title=\"Index: [2, 1]&#10;Color: (176, 196, 222)\" style=\"width: 20px; height: 20px;background-color: rgb(176, 196, 222);\"></td><td title=\"Index: [2, 2]&#10;Color: (176, 196, 222)\" style=\"width: 20px; height: 20px;background-color: rgb(176, 196, 222);\"></td><td title=\"Index: [2, 3]&#10;Color: (176, 196, 222)\" style=\"width: 20px; height: 20px;background-color: rgb(176, 196, 222);\"></td><td title=\"Index: [2, 4]&#10;Color: (176, 196, 222)\" style=\"width: 20px; height: 20px;background-color: rgb(176, 196, 222);\"></td><td title=\"Index: [2, 5]&#10;Color: (176, 196, 222)\" style=\"width: 20px; height: 20px;background-color: rgb(176, 196, 222);\"></td><td title=\"Index: [2, 6]&#10;Color: (176, 196, 222)\" style=\"width: 20px; height: 20px;background-color: rgb(176, 196, 222);\"></td><td title=\"Index: [2, 7]&#10;Color: (176, 196, 222)\" style=\"width: 20px; height: 20px;background-color: rgb(176, 196, 222);\"></td></tr><tr><td title=\"Index: [3, 0]&#10;Color: (176, 196, 222)\" style=\"width: 20px; height: 20px;background-color: rgb(176, 196, 222);\"></td><td title=\"Index: [3, 1]&#10;Color: (240, 255, 255)\" style=\"width: 20px; height: 20px;background-color: rgb(240, 255, 255);\"></td><td title=\"Index: [3, 2]&#10;Color: (176, 196, 222)\" style=\"width: 20px; height: 20px;background-color: rgb(176, 196, 222);\"></td><td title=\"Index: [3, 3]&#10;Color: (176, 196, 222)\" style=\"width: 20px; height: 20px;background-color: rgb(176, 196, 222);\"></td><td title=\"Index: [3, 4]&#10;Color: (176, 196, 222)\" style=\"width: 20px; height: 20px;background-color: rgb(176, 196, 222);\"></td><td title=\"Index: [3, 5]&#10;Color: (176, 196, 222)\" style=\"width: 20px; height: 20px;background-color: rgb(176, 196, 222);\"></td><td title=\"Index: [3, 6]&#10;Color: (176, 196, 222)\" style=\"width: 20px; height: 20px;background-color: rgb(176, 196, 222);\"></td><td title=\"Index: [3, 7]&#10;Color: (176, 196, 222)\" style=\"width: 20px; height: 20px;background-color: rgb(176, 196, 222);\"></td></tr><tr><td title=\"Index: [4, 0]&#10;Color: (176, 196, 222)\" style=\"width: 20px; height: 20px;background-color: rgb(176, 196, 222);\"></td><td title=\"Index: [4, 1]&#10;Color: (176, 196, 222)\" style=\"width: 20px; height: 20px;background-color: rgb(176, 196, 222);\"></td><td title=\"Index: [4, 2]&#10;Color: (176, 196, 222)\" style=\"width: 20px; height: 20px;background-color: rgb(176, 196, 222);\"></td><td title=\"Index: [4, 3]&#10;Color: (176, 196, 222)\" style=\"width: 20px; height: 20px;background-color: rgb(176, 196, 222);\"></td><td title=\"Index: [4, 4]&#10;Color: (176, 196, 222)\" style=\"width: 20px; height: 20px;background-color: rgb(176, 196, 222);\"></td><td title=\"Index: [4, 5]&#10;Color: (176, 196, 222)\" style=\"width: 20px; height: 20px;background-color: rgb(176, 196, 222);\"></td><td title=\"Index: [4, 6]&#10;Color: (176, 196, 222)\" style=\"width: 20px; height: 20px;background-color: rgb(176, 196, 222);\"></td><td title=\"Index: [4, 7]&#10;Color: (176, 196, 222)\" style=\"width: 20px; height: 20px;background-color: rgb(176, 196, 222);\"></td></tr><tr><td title=\"Index: [5, 0]&#10;Color: (176, 196, 222)\" style=\"width: 20px; height: 20px;background-color: rgb(176, 196, 222);\"></td><td title=\"Index: [5, 1]&#10;Color: (176, 196, 222)\" style=\"width: 20px; height: 20px;background-color: rgb(176, 196, 222);\"></td><td title=\"Index: [5, 2]&#10;Color: (176, 196, 222)\" style=\"width: 20px; height: 20px;background-color: rgb(176, 196, 222);\"></td><td title=\"Index: [5, 3]&#10;Color: (176, 196, 222)\" style=\"width: 20px; height: 20px;background-color: rgb(176, 196, 222);\"></td><td title=\"Index: [5, 4]&#10;Color: (176, 196, 222)\" style=\"width: 20px; height: 20px;background-color: rgb(176, 196, 222);\"></td><td title=\"Index: [5, 5]&#10;Color: (176, 196, 222)\" style=\"width: 20px; height: 20px;background-color: rgb(176, 196, 222);\"></td><td title=\"Index: [5, 6]&#10;Color: (176, 196, 222)\" style=\"width: 20px; height: 20px;background-color: rgb(176, 196, 222);\"></td><td title=\"Index: [5, 7]&#10;Color: (176, 196, 222)\" style=\"width: 20px; height: 20px;background-color: rgb(176, 196, 222);\"></td></tr><tr><td title=\"Index: [6, 0]&#10;Color: (176, 196, 222)\" style=\"width: 20px; height: 20px;background-color: rgb(176, 196, 222);\"></td><td title=\"Index: [6, 1]&#10;Color: (176, 196, 222)\" style=\"width: 20px; height: 20px;background-color: rgb(176, 196, 222);\"></td><td title=\"Index: [6, 2]&#10;Color: (176, 196, 222)\" style=\"width: 20px; height: 20px;background-color: rgb(176, 196, 222);\"></td><td title=\"Index: [6, 3]&#10;Color: (176, 196, 222)\" style=\"width: 20px; height: 20px;background-color: rgb(176, 196, 222);\"></td><td title=\"Index: [6, 4]&#10;Color: (176, 196, 222)\" style=\"width: 20px; height: 20px;background-color: rgb(176, 196, 222);\"></td><td title=\"Index: [6, 5]&#10;Color: (176, 196, 222)\" style=\"width: 20px; height: 20px;background-color: rgb(176, 196, 222);\"></td><td title=\"Index: [6, 6]&#10;Color: (176, 196, 222)\" style=\"width: 20px; height: 20px;background-color: rgb(176, 196, 222);\"></td><td title=\"Index: [6, 7]&#10;Color: (176, 196, 222)\" style=\"width: 20px; height: 20px;background-color: rgb(176, 196, 222);\"></td></tr><tr><td title=\"Index: [7, 0]&#10;Color: (176, 196, 222)\" style=\"width: 20px; height: 20px;background-color: rgb(176, 196, 222);\"></td><td title=\"Index: [7, 1]&#10;Color: (176, 196, 222)\" style=\"width: 20px; height: 20px;background-color: rgb(176, 196, 222);\"></td><td title=\"Index: [7, 2]&#10;Color: (176, 196, 222)\" style=\"width: 20px; height: 20px;background-color: rgb(176, 196, 222);\"></td><td title=\"Index: [7, 3]&#10;Color: (176, 196, 222)\" style=\"width: 20px; height: 20px;background-color: rgb(176, 196, 222);\"></td><td title=\"Index: [7, 4]&#10;Color: (176, 196, 222)\" style=\"width: 20px; height: 20px;background-color: rgb(176, 196, 222);\"></td><td title=\"Index: [7, 5]&#10;Color: (176, 196, 222)\" style=\"width: 20px; height: 20px;background-color: rgb(176, 196, 222);\"></td><td title=\"Index: [7, 6]&#10;Color: (176, 196, 222)\" style=\"width: 20px; height: 20px;background-color: rgb(176, 196, 222);\"></td><td title=\"Index: [7, 7]&#10;Color: (176, 196, 222)\" style=\"width: 20px; height: 20px;background-color: rgb(176, 196, 222);\"></td></tr></tbody></table>"
       ],
       "metadata": {},
       "output_type": "display_data",
       "text": [
        "<IPython.core.display.HTML at 0x1e57e10>"
       ]
      },
      {
       "output_type": "stream",
       "stream": "stdout",
       "text": [
        "You missed my battleship!\n",
        "Turn  2\n"
       ]
      }
     ]
    },
    {
     "cell_type": "markdown",
     "metadata": {},
     "source": [
      "\n",
      "\n",
      "\n",
      "\n"
     ]
    },
    {
     "cell_type": "markdown",
     "metadata": {},
     "source": [
      "2) Here is a function which takes a filename, opens the file, reads the result, closes the file, and returns the contents. It should look something like this:"
     ]
    },
    {
     "cell_type": "code",
     "collapsed": false,
     "input": [
      "def read_all_from_file(filename):\n",
      "    f = open(filename)\n",
      "    contents = f.read()\n",
      "    f.close()\n",
      "    return contents"
     ],
     "language": "python",
     "metadata": {},
     "outputs": []
    },
    {
     "cell_type": "markdown",
     "metadata": {},
     "source": [
      "Use runtime error handling concepts to improve this function, so that it does the following:\n",
      "\n",
      "      raises an informative custom error if the file doesn't exist\n",
      "\n",
      "      uses try, except, else, and/or finally to safely return the file's contents & close the file if        necessary.\n",
      "\n",
      "      add a keyword safe which defaults to False. If the function is called with safe=True, then      return an empty string if the file doesn't exist."
     ]
    },
    {
     "cell_type": "code",
     "collapsed": false,
     "input": [
      "def read_file(filename, safe=False):\n",
      "    if safe == True:\n",
      "        print \"\"\n",
      "    else:\n",
      "        try:\n",
      "            f = open(filename)\n",
      "            return result\n",
      "        except IOError as err:\n",
      "            print \"Dis ain't a file. Try sumthin else, dawg!\"\n",
      "        else: \n",
      "            f.read()\n",
      "            f.close()\n",
      "        finally:\n",
      "            print \"Good Job, now I can move on to all of the other work for all of the other classes that I'm taking that I have to put off because of this class\"\n",
      "        \n",
      "read_file(\"sunspots.txt\")"
     ],
     "language": "python",
     "metadata": {},
     "outputs": [
      {
       "output_type": "stream",
       "stream": "stdout",
       "text": [
        "Dis ain't a file. Try sumthin else, dawg!\n",
        "Good Job, now I can move on to all of the other work for all of the other classes that I'm taking that I have to put off because of this class\n"
       ]
      }
     ],
     "prompt_number": 6
    }
   ],
   "metadata": {}
  }
 ]
}