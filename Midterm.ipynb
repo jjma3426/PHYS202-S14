{
 "metadata": {
  "name": "",
  "signature": "sha256:8dd73c65b6938cd028d77cd370eb04cb51f4da9c2df7ab9383fbe5dbf3540a1b"
 },
 "nbformat": 3,
 "nbformat_minor": 0,
 "worksheets": [
  {
   "cells": [
    {
     "cell_type": "heading",
     "level": 1,
     "metadata": {},
     "source": [
      "Midterm"
     ]
    },
    {
     "cell_type": "heading",
     "level": 3,
     "metadata": {},
     "source": [
      "Question 1"
     ]
    },
    {
     "cell_type": "code",
     "collapsed": false,
     "input": [
      "prefixes = 'JKLMNOPQ' \n",
      "suffix = 'ack'\n",
      "for letter in prefixes: \n",
      "    if letter == 'O':\n",
      "        letter = 'Ou'\n",
      "    if letter == 'Q':\n",
      "        letter = 'Qu'\n",
      "    print letter + suffix"
     ],
     "language": "python",
     "metadata": {},
     "outputs": [
      {
       "output_type": "stream",
       "stream": "stdout",
       "text": [
        "Jack\n",
        "Kack\n",
        "Lack\n",
        "Mack\n",
        "Nack\n",
        "Ouack\n",
        "Pack\n",
        "Quack\n"
       ]
      }
     ],
     "prompt_number": 8
    },
    {
     "cell_type": "heading",
     "level": 3,
     "metadata": {},
     "source": [
      "Question 2"
     ]
    },
    {
     "cell_type": "markdown",
     "metadata": {},
     "source": [
      "Use ipythonblocks to create an 8x8 grid with the first initial of your last name embedded in it in a different color. Use slices and/or loops to set the values rather than setting each block by hand. Here is an example:"
     ]
    },
    {
     "cell_type": "code",
     "collapsed": false,
     "input": [
      "from ipythonblocks import BlockGrid\n",
      "grid = BlockGrid(7, 7, fill=(0, 0, 128))\n",
      "from ipythonblocks import colors\n",
      "\n",
      "col_number = 3\n",
      "for row_number in [0, 1, 2, 3, 4, 5]:\n",
      "    grid[row_number, col_number] = colors['Silver']\n",
      "\n",
      "row_number = 0\n",
      "for column_number in range(grid.width):\n",
      "    grid[row_number, column_number] = colors['Silver']\n",
      "\n",
      "grid[6, 1] = colors['Silver']\n",
      "grid[6, 2] = colors['Silver']\n",
      "grid[6, 3] = colors['Silver']\n",
      "\n",
      "grid.show()\n",
      "\n"
     ],
     "language": "python",
     "metadata": {},
     "outputs": [
      {
       "html": [
        "<style type=\"text/css\">table.blockgrid {border: none;} .blockgrid tr {border: none;} .blockgrid td {padding: 0px;} #blocks075eea7e-45ca-48e2-8c5d-691af99242aa td {border: 1px solid white;}</style><table id=\"blocks075eea7e-45ca-48e2-8c5d-691af99242aa\" class=\"blockgrid\"><tbody><tr><td title=\"Index: [0, 0]&#10;Color: (192, 192, 192)\" style=\"width: 20px; height: 20px;background-color: rgb(192, 192, 192);\"></td><td title=\"Index: [0, 1]&#10;Color: (192, 192, 192)\" style=\"width: 20px; height: 20px;background-color: rgb(192, 192, 192);\"></td><td title=\"Index: [0, 2]&#10;Color: (192, 192, 192)\" style=\"width: 20px; height: 20px;background-color: rgb(192, 192, 192);\"></td><td title=\"Index: [0, 3]&#10;Color: (192, 192, 192)\" style=\"width: 20px; height: 20px;background-color: rgb(192, 192, 192);\"></td><td title=\"Index: [0, 4]&#10;Color: (192, 192, 192)\" style=\"width: 20px; height: 20px;background-color: rgb(192, 192, 192);\"></td><td title=\"Index: [0, 5]&#10;Color: (192, 192, 192)\" style=\"width: 20px; height: 20px;background-color: rgb(192, 192, 192);\"></td><td title=\"Index: [0, 6]&#10;Color: (192, 192, 192)\" style=\"width: 20px; height: 20px;background-color: rgb(192, 192, 192);\"></td></tr><tr><td title=\"Index: [1, 0]&#10;Color: (0, 0, 128)\" style=\"width: 20px; height: 20px;background-color: rgb(0, 0, 128);\"></td><td title=\"Index: [1, 1]&#10;Color: (0, 0, 128)\" style=\"width: 20px; height: 20px;background-color: rgb(0, 0, 128);\"></td><td title=\"Index: [1, 2]&#10;Color: (0, 0, 128)\" style=\"width: 20px; height: 20px;background-color: rgb(0, 0, 128);\"></td><td title=\"Index: [1, 3]&#10;Color: (192, 192, 192)\" style=\"width: 20px; height: 20px;background-color: rgb(192, 192, 192);\"></td><td title=\"Index: [1, 4]&#10;Color: (0, 0, 128)\" style=\"width: 20px; height: 20px;background-color: rgb(0, 0, 128);\"></td><td title=\"Index: [1, 5]&#10;Color: (0, 0, 128)\" style=\"width: 20px; height: 20px;background-color: rgb(0, 0, 128);\"></td><td title=\"Index: [1, 6]&#10;Color: (0, 0, 128)\" style=\"width: 20px; height: 20px;background-color: rgb(0, 0, 128);\"></td></tr><tr><td title=\"Index: [2, 0]&#10;Color: (0, 0, 128)\" style=\"width: 20px; height: 20px;background-color: rgb(0, 0, 128);\"></td><td title=\"Index: [2, 1]&#10;Color: (0, 0, 128)\" style=\"width: 20px; height: 20px;background-color: rgb(0, 0, 128);\"></td><td title=\"Index: [2, 2]&#10;Color: (0, 0, 128)\" style=\"width: 20px; height: 20px;background-color: rgb(0, 0, 128);\"></td><td title=\"Index: [2, 3]&#10;Color: (192, 192, 192)\" style=\"width: 20px; height: 20px;background-color: rgb(192, 192, 192);\"></td><td title=\"Index: [2, 4]&#10;Color: (0, 0, 128)\" style=\"width: 20px; height: 20px;background-color: rgb(0, 0, 128);\"></td><td title=\"Index: [2, 5]&#10;Color: (0, 0, 128)\" style=\"width: 20px; height: 20px;background-color: rgb(0, 0, 128);\"></td><td title=\"Index: [2, 6]&#10;Color: (0, 0, 128)\" style=\"width: 20px; height: 20px;background-color: rgb(0, 0, 128);\"></td></tr><tr><td title=\"Index: [3, 0]&#10;Color: (0, 0, 128)\" style=\"width: 20px; height: 20px;background-color: rgb(0, 0, 128);\"></td><td title=\"Index: [3, 1]&#10;Color: (0, 0, 128)\" style=\"width: 20px; height: 20px;background-color: rgb(0, 0, 128);\"></td><td title=\"Index: [3, 2]&#10;Color: (0, 0, 128)\" style=\"width: 20px; height: 20px;background-color: rgb(0, 0, 128);\"></td><td title=\"Index: [3, 3]&#10;Color: (192, 192, 192)\" style=\"width: 20px; height: 20px;background-color: rgb(192, 192, 192);\"></td><td title=\"Index: [3, 4]&#10;Color: (0, 0, 128)\" style=\"width: 20px; height: 20px;background-color: rgb(0, 0, 128);\"></td><td title=\"Index: [3, 5]&#10;Color: (0, 0, 128)\" style=\"width: 20px; height: 20px;background-color: rgb(0, 0, 128);\"></td><td title=\"Index: [3, 6]&#10;Color: (0, 0, 128)\" style=\"width: 20px; height: 20px;background-color: rgb(0, 0, 128);\"></td></tr><tr><td title=\"Index: [4, 0]&#10;Color: (0, 0, 128)\" style=\"width: 20px; height: 20px;background-color: rgb(0, 0, 128);\"></td><td title=\"Index: [4, 1]&#10;Color: (0, 0, 128)\" style=\"width: 20px; height: 20px;background-color: rgb(0, 0, 128);\"></td><td title=\"Index: [4, 2]&#10;Color: (0, 0, 128)\" style=\"width: 20px; height: 20px;background-color: rgb(0, 0, 128);\"></td><td title=\"Index: [4, 3]&#10;Color: (192, 192, 192)\" style=\"width: 20px; height: 20px;background-color: rgb(192, 192, 192);\"></td><td title=\"Index: [4, 4]&#10;Color: (0, 0, 128)\" style=\"width: 20px; height: 20px;background-color: rgb(0, 0, 128);\"></td><td title=\"Index: [4, 5]&#10;Color: (0, 0, 128)\" style=\"width: 20px; height: 20px;background-color: rgb(0, 0, 128);\"></td><td title=\"Index: [4, 6]&#10;Color: (0, 0, 128)\" style=\"width: 20px; height: 20px;background-color: rgb(0, 0, 128);\"></td></tr><tr><td title=\"Index: [5, 0]&#10;Color: (0, 0, 128)\" style=\"width: 20px; height: 20px;background-color: rgb(0, 0, 128);\"></td><td title=\"Index: [5, 1]&#10;Color: (0, 0, 128)\" style=\"width: 20px; height: 20px;background-color: rgb(0, 0, 128);\"></td><td title=\"Index: [5, 2]&#10;Color: (0, 0, 128)\" style=\"width: 20px; height: 20px;background-color: rgb(0, 0, 128);\"></td><td title=\"Index: [5, 3]&#10;Color: (192, 192, 192)\" style=\"width: 20px; height: 20px;background-color: rgb(192, 192, 192);\"></td><td title=\"Index: [5, 4]&#10;Color: (0, 0, 128)\" style=\"width: 20px; height: 20px;background-color: rgb(0, 0, 128);\"></td><td title=\"Index: [5, 5]&#10;Color: (0, 0, 128)\" style=\"width: 20px; height: 20px;background-color: rgb(0, 0, 128);\"></td><td title=\"Index: [5, 6]&#10;Color: (0, 0, 128)\" style=\"width: 20px; height: 20px;background-color: rgb(0, 0, 128);\"></td></tr><tr><td title=\"Index: [6, 0]&#10;Color: (0, 0, 128)\" style=\"width: 20px; height: 20px;background-color: rgb(0, 0, 128);\"></td><td title=\"Index: [6, 1]&#10;Color: (192, 192, 192)\" style=\"width: 20px; height: 20px;background-color: rgb(192, 192, 192);\"></td><td title=\"Index: [6, 2]&#10;Color: (192, 192, 192)\" style=\"width: 20px; height: 20px;background-color: rgb(192, 192, 192);\"></td><td title=\"Index: [6, 3]&#10;Color: (192, 192, 192)\" style=\"width: 20px; height: 20px;background-color: rgb(192, 192, 192);\"></td><td title=\"Index: [6, 4]&#10;Color: (0, 0, 128)\" style=\"width: 20px; height: 20px;background-color: rgb(0, 0, 128);\"></td><td title=\"Index: [6, 5]&#10;Color: (0, 0, 128)\" style=\"width: 20px; height: 20px;background-color: rgb(0, 0, 128);\"></td><td title=\"Index: [6, 6]&#10;Color: (0, 0, 128)\" style=\"width: 20px; height: 20px;background-color: rgb(0, 0, 128);\"></td></tr></tbody></table>"
       ],
       "metadata": {},
       "output_type": "display_data",
       "text": [
        "<IPython.core.display.HTML at 0x102630cd0>"
       ]
      }
     ],
     "prompt_number": 17
    },
    {
     "cell_type": "heading",
     "level": 3,
     "metadata": {},
     "source": [
      "Question 3 "
     ]
    },
    {
     "cell_type": "markdown",
     "metadata": {},
     "source": [
      "\"99 Bottles of Beer\" is a traditional song in the United States and Canada. It is popular to sing on long trips, as it has a very repetitive format which is easy to memorize, and can take a long time to sing. The song's simple lyrics are as follows:\n",
      "\n",
      "99 bottles of beer on the wall, 99 bottles of beer.  \n",
      "Take one down, pass it around, 98 bottles of beer on the wall.\n",
      "\n",
      "The same verse is repeated, each time with one fewer bottle. The song is completed when the singer or singers reach zero.\n",
      "\n",
      "Your task here is to write a program capable of generating all the verses of the song"
     ]
    },
    {
     "cell_type": "code",
     "collapsed": false,
     "input": [
      "verse = \"99 bottles of beer on the wall, 99 bottles of beer.  Take one down, pass it around, 98 bottles of beer on the wall.\"\n",
      "\n",
      "n = 99\n",
      "now = 99 - n\n",
      "nex = 98 - n\n",
      "def countdown(numbers):\n",
      "    for n in numbers:\n",
      "        n += 1\n",
      "\n",
      "countdown(0)    \n",
      "print \"%s bottles of beer on the wall, %s bottles of beer.  Take one down, pass it around, %s bottles of beer on the wall.\" % (now, now, nex)\n"
     ],
     "language": "python",
     "metadata": {},
     "outputs": [
      {
       "ename": "TypeError",
       "evalue": "'int' object is not iterable",
       "output_type": "pyerr",
       "traceback": [
        "\u001b[0;31m---------------------------------------------------------------------------\u001b[0m\n\u001b[0;31mTypeError\u001b[0m                                 Traceback (most recent call last)",
        "\u001b[0;32m<ipython-input-83-26815fab3eec>\u001b[0m in \u001b[0;36m<module>\u001b[0;34m()\u001b[0m\n\u001b[1;32m      8\u001b[0m         \u001b[0mn\u001b[0m \u001b[0;34m+=\u001b[0m \u001b[0;36m1\u001b[0m\u001b[0;34m\u001b[0m\u001b[0m\n\u001b[1;32m      9\u001b[0m \u001b[0;34m\u001b[0m\u001b[0m\n\u001b[0;32m---> 10\u001b[0;31m \u001b[0mcountdown\u001b[0m\u001b[0;34m(\u001b[0m\u001b[0;36m0\u001b[0m\u001b[0;34m)\u001b[0m\u001b[0;34m\u001b[0m\u001b[0m\n\u001b[0m\u001b[1;32m     11\u001b[0m \u001b[0;32mprint\u001b[0m \u001b[0;34m\"%s bottles of beer on the wall, %s bottles of beer.  Take one down, pass it around, %s bottles of beer on the wall.\"\u001b[0m \u001b[0;34m%\u001b[0m \u001b[0;34m(\u001b[0m\u001b[0mnow\u001b[0m\u001b[0;34m,\u001b[0m \u001b[0mnow\u001b[0m\u001b[0;34m,\u001b[0m \u001b[0mnex\u001b[0m\u001b[0;34m)\u001b[0m\u001b[0;34m\u001b[0m\u001b[0m\n",
        "\u001b[0;32m<ipython-input-83-26815fab3eec>\u001b[0m in \u001b[0;36mcountdown\u001b[0;34m(numbers)\u001b[0m\n\u001b[1;32m      5\u001b[0m \u001b[0mnex\u001b[0m \u001b[0;34m=\u001b[0m \u001b[0;36m98\u001b[0m \u001b[0;34m-\u001b[0m \u001b[0mn\u001b[0m\u001b[0;34m\u001b[0m\u001b[0m\n\u001b[1;32m      6\u001b[0m \u001b[0;32mdef\u001b[0m \u001b[0mcountdown\u001b[0m\u001b[0;34m(\u001b[0m\u001b[0mnumbers\u001b[0m\u001b[0;34m)\u001b[0m\u001b[0;34m:\u001b[0m\u001b[0;34m\u001b[0m\u001b[0m\n\u001b[0;32m----> 7\u001b[0;31m     \u001b[0;32mfor\u001b[0m \u001b[0mn\u001b[0m \u001b[0;32min\u001b[0m \u001b[0mnumbers\u001b[0m\u001b[0;34m:\u001b[0m\u001b[0;34m\u001b[0m\u001b[0m\n\u001b[0m\u001b[1;32m      8\u001b[0m         \u001b[0mn\u001b[0m \u001b[0;34m+=\u001b[0m \u001b[0;36m1\u001b[0m\u001b[0;34m\u001b[0m\u001b[0m\n\u001b[1;32m      9\u001b[0m \u001b[0;34m\u001b[0m\u001b[0m\n",
        "\u001b[0;31mTypeError\u001b[0m: 'int' object is not iterable"
       ]
      }
     ],
     "prompt_number": 83
    },
    {
     "cell_type": "heading",
     "level": 3,
     "metadata": {},
     "source": [
      "Question 4"
     ]
    },
    {
     "cell_type": "markdown",
     "metadata": {},
     "source": [
      "Plot a simple graph of a sine function in the range 0 to 3 with a step size of 0.1.\n",
      "Make the line red.\n",
      "Add green diamond-shaped markers with size of 7.\n",
      "Include legible axis labels.\n",
      "Add a legend and a grid to the plot."
     ]
    },
    {
     "cell_type": "code",
     "collapsed": false,
     "input": [
      "%pylab inline\n",
      "x = np.linspace(0, 3, 30) #3/30 = 0.1\n",
      "y = np.sin(x)\n",
      "plt.plot(x, y, color='r', label=\"sine\")\n",
      "plt.plot(x, y, '^',markersize=7, color='g');\n",
      "plt.legend(loc='upper left')\n",
      "plt.grid()"
     ],
     "language": "python",
     "metadata": {},
     "outputs": [
      {
       "output_type": "stream",
       "stream": "stdout",
       "text": [
        "Populating the interactive namespace from numpy and matplotlib\n"
       ]
      },
      {
       "metadata": {},
       "output_type": "display_data",
       "png": "[encoded data removed]",
       "text": [
        "<matplotlib.figure.Figure at 0x1063d0dd0>"
       ]
      }
     ],
     "prompt_number": 31
    },
    {
     "cell_type": "heading",
     "level": 3,
     "metadata": {},
     "source": [
      "Question 5"
     ]
    },
    {
     "cell_type": "markdown",
     "metadata": {},
     "source": [
      "Create a 100x5 NumPy array called arr of random floating point numbers between 10.7 and 36.2.\n",
      "\n",
      "Write the array to a file called numbers.txt as 5 columns separated by 2 spaces and formatted with 3 places after the decimal.\n",
      "\n",
      "Include a 3-line header that lists the date and time on line 2 (hint: try !date).\n",
      "\n",
      "Show the first 10 lines of the file using the !head command.\n",
      "\n",
      "Read the data back in from the file to a new floating point NumPy array called arr2 and use a slice to print the first ten lines of the array."
     ]
    },
    {
     "cell_type": "code",
     "collapsed": false,
     "input": [
      "import numpy as np\n",
      "arr = np.random.random((100, 5))\n",
      "np.savetxt('numbers.txt', arr)\n",
      "\n",
      "arr = open('numbers.txt', 'w')\n",
      "\n",
      "np.savetxt('numbers.txt',arr, header=!date)    \n",
      "\n",
      "!head -10 numbers.txt.dat\n",
      "   \n",
      "arr2 = np.loadtxt('numbers.txt')\n",
      "arr2[:]"
     ],
     "language": "python",
     "metadata": {},
     "outputs": [
      {
       "ename": "SyntaxError",
       "evalue": "invalid syntax (<ipython-input-87-8556132c9f8c>, line 6)",
       "output_type": "pyerr",
       "traceback": [
        "\u001b[0;36m  File \u001b[0;32m\"<ipython-input-87-8556132c9f8c>\"\u001b[0;36m, line \u001b[0;32m6\u001b[0m\n\u001b[0;31m    np.savetxt('numbers.txt',arr, header=!date)\u001b[0m\n\u001b[0m                                         ^\u001b[0m\n\u001b[0;31mSyntaxError\u001b[0m\u001b[0;31m:\u001b[0m invalid syntax\n"
       ]
      }
     ],
     "prompt_number": 87
    }
   ],
   "metadata": {}
  }
 ]
}