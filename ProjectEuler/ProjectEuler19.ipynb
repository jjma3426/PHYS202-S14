{
 "metadata": {
  "name": "",
  "signature": "sha256:7ba8aa32faaf8faef8075220addf5b594c791ed54053c6ba484f707480fb7615"
 },
 "nbformat": 3,
 "nbformat_minor": 0,
 "worksheets": [
  {
   "cells": [
    {
     "cell_type": "heading",
     "level": 1,
     "metadata": {},
     "source": [
      "Counting Sundays"
     ]
    },
    {
     "cell_type": "heading",
     "level": 3,
     "metadata": {},
     "source": [
      "Problem 19"
     ]
    },
    {
     "cell_type": "markdown",
     "metadata": {},
     "source": [
      "You are given the following information, but you may prefer to do some research for yourself.\n",
      "\n",
      "1 Jan 1900 was a Monday.\n",
      "\n",
      "Thirty days has September,\n",
      "\n",
      "April, June and November.\n",
      "\n",
      "All the rest have thirty-one,\n",
      "\n",
      "Saving February alone,\n",
      "\n",
      "Which has twenty-eight, rain or shine.\n",
      "\n",
      "And on leap years, twenty-nine.\n",
      "\n",
      "A leap year occurs on any year evenly divisible by 4, but not on a century unless it is divisible by 400.\n",
      "How many Sundays fell on the first of the month during the twentieth century (1 Jan 1901 to 31 Dec 2000)?"
     ]
    },
    {
     "cell_type": "code",
     "collapsed": false,
     "input": [
      "def dayListBuild():\n",
      "    dayListBuild = [[0,0,0]]\n",
      "    for year in range(1900, 2001):\n",
      "        for month in range(1, 13):\n",
      "            if month in [4, 6, 9, 11]:\n",
      "                dayRange = 30\n",
      "            elif not month - 2:\n",
      "                if year % 4 and (not year % 100 or year % 400):\n",
      "                        dayRange = 29\n",
      "                else:\n",
      "                    dayRange = 28\n",
      "            else:\n",
      "                dayRange = 31\n",
      "            for day in range(1, dayRange + 1):\n",
      "                dayListBuild.append([year, month, day])\n",
      "    return dayListBuild\n",
      "\n",
      "def sundayList():\n",
      "    dayList = dayListBuild()\n",
      "    sundayList = []\n",
      "    for day in range(len(dayList)):\n",
      "        if not (day - 6) % 7 and dayList[day][0] > 1900 and not dayList[day][2] - 1:\n",
      "            sundayList.append(dayList[day])\n",
      "    return len(sundayList)\n",
      "\n",
      "print(sundayList())"
     ],
     "language": "python",
     "metadata": {},
     "outputs": [
      {
       "output_type": "stream",
       "stream": "stdout",
       "text": [
        "200\n"
       ]
      }
     ],
     "prompt_number": 4
    },
    {
     "cell_type": "code",
     "collapsed": false,
     "input": [],
     "language": "python",
     "metadata": {},
     "outputs": []
    }
   ],
   "metadata": {}
  }
 ]
}