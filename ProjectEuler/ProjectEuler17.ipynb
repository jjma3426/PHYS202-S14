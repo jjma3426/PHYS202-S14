{
 "metadata": {
  "name": "",
  "signature": "sha256:8f6ad4fcec16ba1935fff2e5dbe8a194dbc2f1849956eb930b261d9b0e11c56f"
 },
 "nbformat": 3,
 "nbformat_minor": 0,
 "worksheets": [
  {
   "cells": [
    {
     "cell_type": "heading",
     "level": 1,
     "metadata": {},
     "source": [
      "Number letter counts"
     ]
    },
    {
     "cell_type": "heading",
     "level": 3,
     "metadata": {},
     "source": [
      "Problem 17"
     ]
    },
    {
     "cell_type": "markdown",
     "metadata": {},
     "source": [
      "If the numbers 1 to 5 are written out in words: one, two, three, four, five, then there are 3 + 3 + 5 + 4 + 4 = 19 letters used in total.\n",
      "\n",
      "If all the numbers from 1 to 1000 (one thousand) inclusive were written out in words, how many letters would be used?\n",
      "\n",
      "\n",
      "NOTE: Do not count spaces or hyphens. For example, 342 (three hundred and forty-two) contains 23 letters and 115 (one hundred and fifteen) contains 20 letters. The use of \"and\" when writing out numbers is in compliance with British usage."
     ]
    },
    {
     "cell_type": "code",
     "collapsed": false,
     "input": [
      "up_to_19 = [0,3,3,5,4,4,3,5,5,4,3,6,6,8,8,7,7,9,8,8]\n",
      "up_to_90 = [0,3,6,6,5,5,5,7,6,6]\n",
      "hund = 7\n",
      "thou = 8\n",
      "\n",
      "total = 0\n",
      "for i in range(1,1000):\n",
      "    ones = i % 10 \n",
      "    tens = ((i % 100) - ones) / 10 \n",
      "    huns = ((i % 1000) - (tens * 10) - ones) / 100 \n",
      " \n",
      "    if huns!= 0:\n",
      "        total += up_to_19[huns] + hund \n",
      "        if tens != 0 or ones != 0: total += 3 \n",
      "    if tens == 0 or tens == 1: total += up_to_19[tens * 10 + ones]\n",
      "    else: total += up_to_90[tens] + up_to_19[huns]\n",
      " \n",
      "total += up_to_19[1] + thou\n",
      " \n",
      "print total"
     ],
     "language": "python",
     "metadata": {},
     "outputs": [
      {
       "output_type": "stream",
       "stream": "stdout",
       "text": [
        "21124\n"
       ]
      }
     ],
     "prompt_number": 3
    }
   ],
   "metadata": {}
  }
 ]
}