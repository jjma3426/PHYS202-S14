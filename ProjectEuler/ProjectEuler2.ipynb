{
 "metadata": {
  "name": "",
  "signature": "sha256:2b9a56a789fbdc988376c659739a0fb9fd66beb86900455af585fcea8d25ae61"
 },
 "nbformat": 3,
 "nbformat_minor": 0,
 "worksheets": [
  {
   "cells": [
    {
     "cell_type": "code",
     "collapsed": false,
     "input": [
      "total = 2\n",
      "\n",
      "list = [1,2]\n",
      "for n in range(2,100):\n",
      "    fib = list[n-2]+list[n-1]\n",
      "    print(fib)\n",
      "    list.append(fib)\n",
      "    if fib % 2 == 0:\n",
      "        total += fib\n",
      "        print total\n",
      "        if total >= 4000000:\n",
      "            break\n"
     ],
     "language": "python",
     "metadata": {},
     "outputs": [
      {
       "output_type": "stream",
       "stream": "stdout",
       "text": [
        "3\n",
        "5\n",
        "8\n",
        "10\n",
        "13\n",
        "21\n",
        "34\n",
        "44\n",
        "55\n",
        "89\n",
        "144\n",
        "188\n",
        "233\n",
        "377\n",
        "610\n",
        "798\n",
        "987\n",
        "1597\n",
        "2584\n",
        "3382\n",
        "4181\n",
        "6765\n",
        "10946\n",
        "14328\n",
        "17711\n",
        "28657\n",
        "46368\n",
        "60696\n",
        "75025\n",
        "121393\n",
        "196418\n",
        "257114\n",
        "317811\n",
        "514229\n",
        "832040\n",
        "1089154\n",
        "1346269\n",
        "2178309\n",
        "3524578\n",
        "4613732\n"
       ]
      }
     ],
     "prompt_number": 9
    },
    {
     "cell_type": "code",
     "collapsed": false,
     "input": [],
     "language": "python",
     "metadata": {},
     "outputs": []
    }
   ],
   "metadata": {}
  }
 ]
}